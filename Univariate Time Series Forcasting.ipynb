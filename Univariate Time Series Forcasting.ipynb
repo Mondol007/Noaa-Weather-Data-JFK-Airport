{
 "cells": [
  {
   "cell_type": "markdown",
   "metadata": {
    "papermill": {
     "duration": 0.05216,
     "end_time": "2022-11-12T12:44:13.919811",
     "exception": false,
     "start_time": "2022-11-12T12:44:13.867651",
     "status": "completed"
    },
    "tags": []
   },
   "source": [
    "## Exploratory Analysis_Univariate\n",
    "To begin this exploratory analysis, first use `matplotlib` to import libraries and define functions for plotting the data. Depending on the data, not all plots will be made. (Hey, I'm just a kerneling bot, not a Kaggle Competitions Grandmaster!)"
   ]
  },
  {
   "cell_type": "code",
   "execution_count": 1,
   "metadata": {
    "_kg_hide-input": false,
    "collapsed": false,
    "execution": {
     "iopub.execute_input": "2022-11-12T12:44:14.020481Z",
     "iopub.status.busy": "2022-11-12T12:44:14.019408Z",
     "iopub.status.idle": "2022-11-12T12:44:15.024507Z",
     "shell.execute_reply": "2022-11-12T12:44:15.023907Z",
     "shell.execute_reply.started": "2022-11-12T12:35:37.874498Z"
    },
    "jupyter": {
     "outputs_hidden": false
    },
    "papermill": {
     "duration": 1.056476,
     "end_time": "2022-11-12T12:44:15.024654",
     "exception": false,
     "start_time": "2022-11-12T12:44:13.968178",
     "status": "completed"
    },
    "tags": []
   },
   "outputs": [],
   "source": [
    "from mpl_toolkits.mplot3d import Axes3D\n",
    "from sklearn.preprocessing import StandardScaler\n",
    "import matplotlib.pyplot as plt \n",
    "import numpy as np \n",
    "import os\n",
    "import pandas as pd\n",
    "from sklearn.metrics import mean_squared_error\n",
    "from math import sqrt"
   ]
  },
  {
   "cell_type": "code",
   "execution_count": 2,
   "metadata": {
    "_kg_hide-input": false,
    "collapsed": false,
    "execution": {
     "iopub.execute_input": "2022-11-12T12:44:15.127093Z",
     "iopub.status.busy": "2022-11-12T12:44:15.126404Z",
     "iopub.status.idle": "2022-11-12T12:44:15.140819Z",
     "shell.execute_reply": "2022-11-12T12:44:15.140269Z",
     "shell.execute_reply.started": "2022-11-12T12:35:39.351010Z"
    },
    "jupyter": {
     "outputs_hidden": false
    },
    "papermill": {
     "duration": 0.06787,
     "end_time": "2022-11-12T12:44:15.140984",
     "exception": false,
     "start_time": "2022-11-12T12:44:15.073114",
     "status": "completed"
    },
    "tags": []
   },
   "outputs": [
    {
     "name": "stdout",
     "output_type": "stream",
     "text": [
      "/kaggle/input/noaa-weather-data-jfk-airport/jfk_weather_cleaned.csv\n",
      "/kaggle/input/noaa-weather-data-jfk-airport/jfk_weather.csv\n",
      "/kaggle/input/noaa-weather-data-jfk-airport/README.txt\n",
      "/kaggle/input/noaa-weather-data-jfk-airport/LICENSE.txt\n",
      "/kaggle/input/noaa-weather-data-jfk-airport/clean_data.py\n"
     ]
    }
   ],
   "source": [
    "for dirname, _, filenames in os.walk('/kaggle/input'):\n",
    "    for filename in filenames:\n",
    "        print(os.path.join(dirname, filename))"
   ]
  },
  {
   "cell_type": "markdown",
   "metadata": {
    "papermill": {
     "duration": 0.049331,
     "end_time": "2022-11-12T12:44:15.240316",
     "exception": false,
     "start_time": "2022-11-12T12:44:15.190985",
     "status": "completed"
    },
    "tags": []
   },
   "source": [
    "### Let's check 1st file: /kaggle/input/noaa-weather-data-jfk-airport/jfk_weather_cleaned.csv"
   ]
  },
  {
   "cell_type": "code",
   "execution_count": 3,
   "metadata": {
    "_kg_hide-input": false,
    "collapsed": false,
    "execution": {
     "iopub.execute_input": "2022-11-12T12:44:15.342581Z",
     "iopub.status.busy": "2022-11-12T12:44:15.341561Z",
     "iopub.status.idle": "2022-11-12T12:44:15.594021Z",
     "shell.execute_reply": "2022-11-12T12:44:15.592840Z",
     "shell.execute_reply.started": "2022-11-12T12:35:40.040900Z"
    },
    "jupyter": {
     "outputs_hidden": false
    },
    "papermill": {
     "duration": 0.304862,
     "end_time": "2022-11-12T12:44:15.594203",
     "exception": false,
     "start_time": "2022-11-12T12:44:15.289341",
     "status": "completed"
    },
    "tags": []
   },
   "outputs": [
    {
     "name": "stdout",
     "output_type": "stream",
     "text": [
      "There are 75119 rows and 16 columns\n"
     ]
    }
   ],
   "source": [
    "df = pd.read_csv('/kaggle/input/noaa-weather-data-jfk-airport/jfk_weather_cleaned.csv', delimiter=',')\n",
    "df.dataframeName = 'jfk_weather_cleaned.csv'\n",
    "nRow, nCol = df.shape\n",
    "print(f'There are {nRow} rows and {nCol} columns')"
   ]
  },
  {
   "cell_type": "code",
   "execution_count": 4,
   "metadata": {
    "_kg_hide-input": false,
    "collapsed": false,
    "execution": {
     "iopub.execute_input": "2022-11-12T12:44:15.730826Z",
     "iopub.status.busy": "2022-11-12T12:44:15.730162Z",
     "iopub.status.idle": "2022-11-12T12:44:15.756082Z",
     "shell.execute_reply": "2022-11-12T12:44:15.755429Z",
     "shell.execute_reply.started": "2022-11-12T12:35:41.779963Z"
    },
    "jupyter": {
     "outputs_hidden": false
    },
    "papermill": {
     "duration": 0.093726,
     "end_time": "2022-11-12T12:44:15.756212",
     "exception": false,
     "start_time": "2022-11-12T12:44:15.662486",
     "status": "completed"
    },
    "tags": []
   },
   "outputs": [
    {
     "data": {
      "text/html": [
       "<div>\n",
       "<style scoped>\n",
       "    .dataframe tbody tr th:only-of-type {\n",
       "        vertical-align: middle;\n",
       "    }\n",
       "\n",
       "    .dataframe tbody tr th {\n",
       "        vertical-align: top;\n",
       "    }\n",
       "\n",
       "    .dataframe thead th {\n",
       "        text-align: right;\n",
       "    }\n",
       "</style>\n",
       "<table border=\"1\" class=\"dataframe\">\n",
       "  <thead>\n",
       "    <tr style=\"text-align: right;\">\n",
       "      <th></th>\n",
       "      <th>DATE</th>\n",
       "      <th>HOURLYVISIBILITY</th>\n",
       "      <th>HOURLYDRYBULBTEMPF</th>\n",
       "      <th>HOURLYWETBULBTEMPF</th>\n",
       "      <th>HOURLYDewPointTempF</th>\n",
       "      <th>HOURLYRelativeHumidity</th>\n",
       "      <th>HOURLYWindSpeed</th>\n",
       "      <th>HOURLYStationPressure</th>\n",
       "      <th>HOURLYSeaLevelPressure</th>\n",
       "      <th>HOURLYPrecip</th>\n",
       "      <th>HOURLYAltimeterSetting</th>\n",
       "      <th>HOURLYWindDirectionSin</th>\n",
       "      <th>HOURLYWindDirectionCos</th>\n",
       "      <th>HOURLYPressureTendencyIncr</th>\n",
       "      <th>HOURLYPressureTendencyDecr</th>\n",
       "      <th>HOURLYPressureTendencyCons</th>\n",
       "    </tr>\n",
       "  </thead>\n",
       "  <tbody>\n",
       "    <tr>\n",
       "      <th>0</th>\n",
       "      <td>2010-01-01 01:00:00</td>\n",
       "      <td>6.00</td>\n",
       "      <td>33.0</td>\n",
       "      <td>32.0</td>\n",
       "      <td>31.0</td>\n",
       "      <td>92.0</td>\n",
       "      <td>0.0</td>\n",
       "      <td>29.97</td>\n",
       "      <td>29.99</td>\n",
       "      <td>0.01</td>\n",
       "      <td>29.99</td>\n",
       "      <td>0.000000</td>\n",
       "      <td>1.000000e+00</td>\n",
       "      <td>0</td>\n",
       "      <td>1</td>\n",
       "      <td>0</td>\n",
       "    </tr>\n",
       "    <tr>\n",
       "      <th>1</th>\n",
       "      <td>2010-01-01 02:00:00</td>\n",
       "      <td>6.00</td>\n",
       "      <td>33.0</td>\n",
       "      <td>33.0</td>\n",
       "      <td>32.0</td>\n",
       "      <td>96.0</td>\n",
       "      <td>0.0</td>\n",
       "      <td>29.97</td>\n",
       "      <td>29.99</td>\n",
       "      <td>0.02</td>\n",
       "      <td>29.99</td>\n",
       "      <td>0.000000</td>\n",
       "      <td>1.000000e+00</td>\n",
       "      <td>0</td>\n",
       "      <td>1</td>\n",
       "      <td>0</td>\n",
       "    </tr>\n",
       "    <tr>\n",
       "      <th>2</th>\n",
       "      <td>2010-01-01 03:00:00</td>\n",
       "      <td>5.00</td>\n",
       "      <td>33.0</td>\n",
       "      <td>33.0</td>\n",
       "      <td>32.0</td>\n",
       "      <td>96.0</td>\n",
       "      <td>0.0</td>\n",
       "      <td>29.97</td>\n",
       "      <td>29.99</td>\n",
       "      <td>0.00</td>\n",
       "      <td>29.99</td>\n",
       "      <td>0.000000</td>\n",
       "      <td>1.000000e+00</td>\n",
       "      <td>0</td>\n",
       "      <td>1</td>\n",
       "      <td>0</td>\n",
       "    </tr>\n",
       "    <tr>\n",
       "      <th>3</th>\n",
       "      <td>2010-01-01 04:00:00</td>\n",
       "      <td>5.00</td>\n",
       "      <td>33.0</td>\n",
       "      <td>33.0</td>\n",
       "      <td>32.0</td>\n",
       "      <td>96.0</td>\n",
       "      <td>0.0</td>\n",
       "      <td>29.95</td>\n",
       "      <td>29.97</td>\n",
       "      <td>0.00</td>\n",
       "      <td>29.97</td>\n",
       "      <td>0.000000</td>\n",
       "      <td>1.000000e+00</td>\n",
       "      <td>0</td>\n",
       "      <td>1</td>\n",
       "      <td>0</td>\n",
       "    </tr>\n",
       "    <tr>\n",
       "      <th>4</th>\n",
       "      <td>2010-01-01 05:00:00</td>\n",
       "      <td>5.00</td>\n",
       "      <td>33.0</td>\n",
       "      <td>32.0</td>\n",
       "      <td>31.0</td>\n",
       "      <td>92.0</td>\n",
       "      <td>0.0</td>\n",
       "      <td>29.93</td>\n",
       "      <td>29.96</td>\n",
       "      <td>0.00</td>\n",
       "      <td>29.95</td>\n",
       "      <td>0.000000</td>\n",
       "      <td>1.000000e+00</td>\n",
       "      <td>0</td>\n",
       "      <td>1</td>\n",
       "      <td>0</td>\n",
       "    </tr>\n",
       "    <tr>\n",
       "      <th>5</th>\n",
       "      <td>2010-01-01 06:00:00</td>\n",
       "      <td>5.00</td>\n",
       "      <td>33.0</td>\n",
       "      <td>32.0</td>\n",
       "      <td>31.0</td>\n",
       "      <td>92.0</td>\n",
       "      <td>0.0</td>\n",
       "      <td>29.95</td>\n",
       "      <td>29.97</td>\n",
       "      <td>0.00</td>\n",
       "      <td>29.97</td>\n",
       "      <td>0.000000</td>\n",
       "      <td>1.000000e+00</td>\n",
       "      <td>0</td>\n",
       "      <td>1</td>\n",
       "      <td>0</td>\n",
       "    </tr>\n",
       "    <tr>\n",
       "      <th>6</th>\n",
       "      <td>2010-01-01 07:00:00</td>\n",
       "      <td>4.00</td>\n",
       "      <td>33.0</td>\n",
       "      <td>33.0</td>\n",
       "      <td>32.0</td>\n",
       "      <td>96.0</td>\n",
       "      <td>0.0</td>\n",
       "      <td>29.94</td>\n",
       "      <td>29.96</td>\n",
       "      <td>0.00</td>\n",
       "      <td>29.96</td>\n",
       "      <td>0.000000</td>\n",
       "      <td>1.000000e+00</td>\n",
       "      <td>0</td>\n",
       "      <td>1</td>\n",
       "      <td>0</td>\n",
       "    </tr>\n",
       "    <tr>\n",
       "      <th>7</th>\n",
       "      <td>2010-01-01 08:00:00</td>\n",
       "      <td>1.25</td>\n",
       "      <td>33.0</td>\n",
       "      <td>33.0</td>\n",
       "      <td>32.0</td>\n",
       "      <td>96.0</td>\n",
       "      <td>3.0</td>\n",
       "      <td>29.93</td>\n",
       "      <td>29.95</td>\n",
       "      <td>0.00</td>\n",
       "      <td>29.95</td>\n",
       "      <td>-1.000000</td>\n",
       "      <td>-1.836970e-16</td>\n",
       "      <td>0</td>\n",
       "      <td>1</td>\n",
       "      <td>0</td>\n",
       "    </tr>\n",
       "    <tr>\n",
       "      <th>8</th>\n",
       "      <td>2010-01-01 09:00:00</td>\n",
       "      <td>2.50</td>\n",
       "      <td>34.0</td>\n",
       "      <td>33.0</td>\n",
       "      <td>32.0</td>\n",
       "      <td>92.0</td>\n",
       "      <td>3.0</td>\n",
       "      <td>29.92</td>\n",
       "      <td>29.94</td>\n",
       "      <td>0.00</td>\n",
       "      <td>29.94</td>\n",
       "      <td>-0.939693</td>\n",
       "      <td>-3.420200e-01</td>\n",
       "      <td>0</td>\n",
       "      <td>1</td>\n",
       "      <td>0</td>\n",
       "    </tr>\n",
       "    <tr>\n",
       "      <th>9</th>\n",
       "      <td>2010-01-01 10:00:00</td>\n",
       "      <td>2.50</td>\n",
       "      <td>35.0</td>\n",
       "      <td>34.0</td>\n",
       "      <td>32.0</td>\n",
       "      <td>89.0</td>\n",
       "      <td>6.0</td>\n",
       "      <td>29.91</td>\n",
       "      <td>29.93</td>\n",
       "      <td>0.00</td>\n",
       "      <td>29.93</td>\n",
       "      <td>-0.939693</td>\n",
       "      <td>-3.420200e-01</td>\n",
       "      <td>0</td>\n",
       "      <td>1</td>\n",
       "      <td>0</td>\n",
       "    </tr>\n",
       "  </tbody>\n",
       "</table>\n",
       "</div>"
      ],
      "text/plain": [
       "                  DATE  HOURLYVISIBILITY  HOURLYDRYBULBTEMPF  \\\n",
       "0  2010-01-01 01:00:00              6.00                33.0   \n",
       "1  2010-01-01 02:00:00              6.00                33.0   \n",
       "2  2010-01-01 03:00:00              5.00                33.0   \n",
       "3  2010-01-01 04:00:00              5.00                33.0   \n",
       "4  2010-01-01 05:00:00              5.00                33.0   \n",
       "5  2010-01-01 06:00:00              5.00                33.0   \n",
       "6  2010-01-01 07:00:00              4.00                33.0   \n",
       "7  2010-01-01 08:00:00              1.25                33.0   \n",
       "8  2010-01-01 09:00:00              2.50                34.0   \n",
       "9  2010-01-01 10:00:00              2.50                35.0   \n",
       "\n",
       "   HOURLYWETBULBTEMPF  HOURLYDewPointTempF  HOURLYRelativeHumidity  \\\n",
       "0                32.0                 31.0                    92.0   \n",
       "1                33.0                 32.0                    96.0   \n",
       "2                33.0                 32.0                    96.0   \n",
       "3                33.0                 32.0                    96.0   \n",
       "4                32.0                 31.0                    92.0   \n",
       "5                32.0                 31.0                    92.0   \n",
       "6                33.0                 32.0                    96.0   \n",
       "7                33.0                 32.0                    96.0   \n",
       "8                33.0                 32.0                    92.0   \n",
       "9                34.0                 32.0                    89.0   \n",
       "\n",
       "   HOURLYWindSpeed  HOURLYStationPressure  HOURLYSeaLevelPressure  \\\n",
       "0              0.0                  29.97                   29.99   \n",
       "1              0.0                  29.97                   29.99   \n",
       "2              0.0                  29.97                   29.99   \n",
       "3              0.0                  29.95                   29.97   \n",
       "4              0.0                  29.93                   29.96   \n",
       "5              0.0                  29.95                   29.97   \n",
       "6              0.0                  29.94                   29.96   \n",
       "7              3.0                  29.93                   29.95   \n",
       "8              3.0                  29.92                   29.94   \n",
       "9              6.0                  29.91                   29.93   \n",
       "\n",
       "   HOURLYPrecip  HOURLYAltimeterSetting  HOURLYWindDirectionSin  \\\n",
       "0          0.01                   29.99                0.000000   \n",
       "1          0.02                   29.99                0.000000   \n",
       "2          0.00                   29.99                0.000000   \n",
       "3          0.00                   29.97                0.000000   \n",
       "4          0.00                   29.95                0.000000   \n",
       "5          0.00                   29.97                0.000000   \n",
       "6          0.00                   29.96                0.000000   \n",
       "7          0.00                   29.95               -1.000000   \n",
       "8          0.00                   29.94               -0.939693   \n",
       "9          0.00                   29.93               -0.939693   \n",
       "\n",
       "   HOURLYWindDirectionCos  HOURLYPressureTendencyIncr  \\\n",
       "0            1.000000e+00                           0   \n",
       "1            1.000000e+00                           0   \n",
       "2            1.000000e+00                           0   \n",
       "3            1.000000e+00                           0   \n",
       "4            1.000000e+00                           0   \n",
       "5            1.000000e+00                           0   \n",
       "6            1.000000e+00                           0   \n",
       "7           -1.836970e-16                           0   \n",
       "8           -3.420200e-01                           0   \n",
       "9           -3.420200e-01                           0   \n",
       "\n",
       "   HOURLYPressureTendencyDecr  HOURLYPressureTendencyCons  \n",
       "0                           1                           0  \n",
       "1                           1                           0  \n",
       "2                           1                           0  \n",
       "3                           1                           0  \n",
       "4                           1                           0  \n",
       "5                           1                           0  \n",
       "6                           1                           0  \n",
       "7                           1                           0  \n",
       "8                           1                           0  \n",
       "9                           1                           0  "
      ]
     },
     "execution_count": 4,
     "metadata": {},
     "output_type": "execute_result"
    }
   ],
   "source": [
    "df.head(10)"
   ]
  },
  {
   "cell_type": "code",
   "execution_count": 5,
   "metadata": {
    "execution": {
     "iopub.execute_input": "2022-11-12T12:44:15.901918Z",
     "iopub.status.busy": "2022-11-12T12:44:15.901066Z",
     "iopub.status.idle": "2022-11-12T12:44:15.904972Z",
     "shell.execute_reply": "2022-11-12T12:44:15.904297Z",
     "shell.execute_reply.started": "2022-11-12T12:35:41.968269Z"
    },
    "papermill": {
     "duration": 0.087251,
     "end_time": "2022-11-12T12:44:15.905094",
     "exception": false,
     "start_time": "2022-11-12T12:44:15.817843",
     "status": "completed"
    },
    "tags": []
   },
   "outputs": [],
   "source": [
    "df.index = pd.to_datetime(df[\"DATE\"], format='%Y.%m.%d %H:%M:%S')"
   ]
  },
  {
   "cell_type": "code",
   "execution_count": 6,
   "metadata": {
    "execution": {
     "iopub.execute_input": "2022-11-12T12:44:16.027142Z",
     "iopub.status.busy": "2022-11-12T12:44:16.026378Z",
     "iopub.status.idle": "2022-11-12T12:44:16.032291Z",
     "shell.execute_reply": "2022-11-12T12:44:16.031710Z",
     "shell.execute_reply.started": "2022-11-12T12:35:42.164957Z"
    },
    "papermill": {
     "duration": 0.077334,
     "end_time": "2022-11-12T12:44:16.032417",
     "exception": false,
     "start_time": "2022-11-12T12:44:15.955083",
     "status": "completed"
    },
    "tags": []
   },
   "outputs": [
    {
     "data": {
      "text/html": [
       "<div>\n",
       "<style scoped>\n",
       "    .dataframe tbody tr th:only-of-type {\n",
       "        vertical-align: middle;\n",
       "    }\n",
       "\n",
       "    .dataframe tbody tr th {\n",
       "        vertical-align: top;\n",
       "    }\n",
       "\n",
       "    .dataframe thead th {\n",
       "        text-align: right;\n",
       "    }\n",
       "</style>\n",
       "<table border=\"1\" class=\"dataframe\">\n",
       "  <thead>\n",
       "    <tr style=\"text-align: right;\">\n",
       "      <th></th>\n",
       "      <th>DATE</th>\n",
       "      <th>HOURLYVISIBILITY</th>\n",
       "      <th>HOURLYDRYBULBTEMPF</th>\n",
       "      <th>HOURLYWETBULBTEMPF</th>\n",
       "      <th>HOURLYDewPointTempF</th>\n",
       "      <th>HOURLYRelativeHumidity</th>\n",
       "      <th>HOURLYWindSpeed</th>\n",
       "      <th>HOURLYStationPressure</th>\n",
       "      <th>HOURLYSeaLevelPressure</th>\n",
       "      <th>HOURLYPrecip</th>\n",
       "      <th>HOURLYAltimeterSetting</th>\n",
       "      <th>HOURLYWindDirectionSin</th>\n",
       "      <th>HOURLYWindDirectionCos</th>\n",
       "      <th>HOURLYPressureTendencyIncr</th>\n",
       "      <th>HOURLYPressureTendencyDecr</th>\n",
       "      <th>HOURLYPressureTendencyCons</th>\n",
       "    </tr>\n",
       "    <tr>\n",
       "      <th>DATE</th>\n",
       "      <th></th>\n",
       "      <th></th>\n",
       "      <th></th>\n",
       "      <th></th>\n",
       "      <th></th>\n",
       "      <th></th>\n",
       "      <th></th>\n",
       "      <th></th>\n",
       "      <th></th>\n",
       "      <th></th>\n",
       "      <th></th>\n",
       "      <th></th>\n",
       "      <th></th>\n",
       "      <th></th>\n",
       "      <th></th>\n",
       "      <th></th>\n",
       "    </tr>\n",
       "  </thead>\n",
       "  <tbody>\n",
       "    <tr>\n",
       "      <th>2010-01-01 01:00:00</th>\n",
       "      <td>2010-01-01 01:00:00</td>\n",
       "      <td>6.0</td>\n",
       "      <td>33.0</td>\n",
       "      <td>32.0</td>\n",
       "      <td>31.0</td>\n",
       "      <td>92.0</td>\n",
       "      <td>0.0</td>\n",
       "      <td>29.97</td>\n",
       "      <td>29.99</td>\n",
       "      <td>0.01</td>\n",
       "      <td>29.99</td>\n",
       "      <td>0.0</td>\n",
       "      <td>1.0</td>\n",
       "      <td>0</td>\n",
       "      <td>1</td>\n",
       "      <td>0</td>\n",
       "    </tr>\n",
       "    <tr>\n",
       "      <th>2010-01-01 02:00:00</th>\n",
       "      <td>2010-01-01 02:00:00</td>\n",
       "      <td>6.0</td>\n",
       "      <td>33.0</td>\n",
       "      <td>33.0</td>\n",
       "      <td>32.0</td>\n",
       "      <td>96.0</td>\n",
       "      <td>0.0</td>\n",
       "      <td>29.97</td>\n",
       "      <td>29.99</td>\n",
       "      <td>0.02</td>\n",
       "      <td>29.99</td>\n",
       "      <td>0.0</td>\n",
       "      <td>1.0</td>\n",
       "      <td>0</td>\n",
       "      <td>1</td>\n",
       "      <td>0</td>\n",
       "    </tr>\n",
       "    <tr>\n",
       "      <th>2010-01-01 03:00:00</th>\n",
       "      <td>2010-01-01 03:00:00</td>\n",
       "      <td>5.0</td>\n",
       "      <td>33.0</td>\n",
       "      <td>33.0</td>\n",
       "      <td>32.0</td>\n",
       "      <td>96.0</td>\n",
       "      <td>0.0</td>\n",
       "      <td>29.97</td>\n",
       "      <td>29.99</td>\n",
       "      <td>0.00</td>\n",
       "      <td>29.99</td>\n",
       "      <td>0.0</td>\n",
       "      <td>1.0</td>\n",
       "      <td>0</td>\n",
       "      <td>1</td>\n",
       "      <td>0</td>\n",
       "    </tr>\n",
       "    <tr>\n",
       "      <th>2010-01-01 04:00:00</th>\n",
       "      <td>2010-01-01 04:00:00</td>\n",
       "      <td>5.0</td>\n",
       "      <td>33.0</td>\n",
       "      <td>33.0</td>\n",
       "      <td>32.0</td>\n",
       "      <td>96.0</td>\n",
       "      <td>0.0</td>\n",
       "      <td>29.95</td>\n",
       "      <td>29.97</td>\n",
       "      <td>0.00</td>\n",
       "      <td>29.97</td>\n",
       "      <td>0.0</td>\n",
       "      <td>1.0</td>\n",
       "      <td>0</td>\n",
       "      <td>1</td>\n",
       "      <td>0</td>\n",
       "    </tr>\n",
       "    <tr>\n",
       "      <th>2010-01-01 05:00:00</th>\n",
       "      <td>2010-01-01 05:00:00</td>\n",
       "      <td>5.0</td>\n",
       "      <td>33.0</td>\n",
       "      <td>32.0</td>\n",
       "      <td>31.0</td>\n",
       "      <td>92.0</td>\n",
       "      <td>0.0</td>\n",
       "      <td>29.93</td>\n",
       "      <td>29.96</td>\n",
       "      <td>0.00</td>\n",
       "      <td>29.95</td>\n",
       "      <td>0.0</td>\n",
       "      <td>1.0</td>\n",
       "      <td>0</td>\n",
       "      <td>1</td>\n",
       "      <td>0</td>\n",
       "    </tr>\n",
       "  </tbody>\n",
       "</table>\n",
       "</div>"
      ],
      "text/plain": [
       "                                    DATE  HOURLYVISIBILITY  \\\n",
       "DATE                                                         \n",
       "2010-01-01 01:00:00  2010-01-01 01:00:00               6.0   \n",
       "2010-01-01 02:00:00  2010-01-01 02:00:00               6.0   \n",
       "2010-01-01 03:00:00  2010-01-01 03:00:00               5.0   \n",
       "2010-01-01 04:00:00  2010-01-01 04:00:00               5.0   \n",
       "2010-01-01 05:00:00  2010-01-01 05:00:00               5.0   \n",
       "\n",
       "                     HOURLYDRYBULBTEMPF  HOURLYWETBULBTEMPF  \\\n",
       "DATE                                                          \n",
       "2010-01-01 01:00:00                33.0                32.0   \n",
       "2010-01-01 02:00:00                33.0                33.0   \n",
       "2010-01-01 03:00:00                33.0                33.0   \n",
       "2010-01-01 04:00:00                33.0                33.0   \n",
       "2010-01-01 05:00:00                33.0                32.0   \n",
       "\n",
       "                     HOURLYDewPointTempF  HOURLYRelativeHumidity  \\\n",
       "DATE                                                               \n",
       "2010-01-01 01:00:00                 31.0                    92.0   \n",
       "2010-01-01 02:00:00                 32.0                    96.0   \n",
       "2010-01-01 03:00:00                 32.0                    96.0   \n",
       "2010-01-01 04:00:00                 32.0                    96.0   \n",
       "2010-01-01 05:00:00                 31.0                    92.0   \n",
       "\n",
       "                     HOURLYWindSpeed  HOURLYStationPressure  \\\n",
       "DATE                                                          \n",
       "2010-01-01 01:00:00              0.0                  29.97   \n",
       "2010-01-01 02:00:00              0.0                  29.97   \n",
       "2010-01-01 03:00:00              0.0                  29.97   \n",
       "2010-01-01 04:00:00              0.0                  29.95   \n",
       "2010-01-01 05:00:00              0.0                  29.93   \n",
       "\n",
       "                     HOURLYSeaLevelPressure  HOURLYPrecip  \\\n",
       "DATE                                                        \n",
       "2010-01-01 01:00:00                   29.99          0.01   \n",
       "2010-01-01 02:00:00                   29.99          0.02   \n",
       "2010-01-01 03:00:00                   29.99          0.00   \n",
       "2010-01-01 04:00:00                   29.97          0.00   \n",
       "2010-01-01 05:00:00                   29.96          0.00   \n",
       "\n",
       "                     HOURLYAltimeterSetting  HOURLYWindDirectionSin  \\\n",
       "DATE                                                                  \n",
       "2010-01-01 01:00:00                   29.99                     0.0   \n",
       "2010-01-01 02:00:00                   29.99                     0.0   \n",
       "2010-01-01 03:00:00                   29.99                     0.0   \n",
       "2010-01-01 04:00:00                   29.97                     0.0   \n",
       "2010-01-01 05:00:00                   29.95                     0.0   \n",
       "\n",
       "                     HOURLYWindDirectionCos  HOURLYPressureTendencyIncr  \\\n",
       "DATE                                                                      \n",
       "2010-01-01 01:00:00                     1.0                           0   \n",
       "2010-01-01 02:00:00                     1.0                           0   \n",
       "2010-01-01 03:00:00                     1.0                           0   \n",
       "2010-01-01 04:00:00                     1.0                           0   \n",
       "2010-01-01 05:00:00                     1.0                           0   \n",
       "\n",
       "                     HOURLYPressureTendencyDecr  HOURLYPressureTendencyCons  \n",
       "DATE                                                                         \n",
       "2010-01-01 01:00:00                           1                           0  \n",
       "2010-01-01 02:00:00                           1                           0  \n",
       "2010-01-01 03:00:00                           1                           0  \n",
       "2010-01-01 04:00:00                           1                           0  \n",
       "2010-01-01 05:00:00                           1                           0  "
      ]
     },
     "execution_count": 6,
     "metadata": {},
     "output_type": "execute_result"
    }
   ],
   "source": [
    "df.head(5)"
   ]
  },
  {
   "cell_type": "code",
   "execution_count": 7,
   "metadata": {
    "execution": {
     "iopub.execute_input": "2022-11-12T12:44:16.148100Z",
     "iopub.status.busy": "2022-11-12T12:44:16.147352Z",
     "iopub.status.idle": "2022-11-12T12:44:16.150755Z",
     "shell.execute_reply": "2022-11-12T12:44:16.150125Z",
     "shell.execute_reply.started": "2022-11-12T12:35:43.811167Z"
    },
    "papermill": {
     "duration": 0.066098,
     "end_time": "2022-11-12T12:44:16.150902",
     "exception": false,
     "start_time": "2022-11-12T12:44:16.084804",
     "status": "completed"
    },
    "tags": []
   },
   "outputs": [],
   "source": [
    "df_2 = df.drop('DATE', axis = 1)"
   ]
  },
  {
   "cell_type": "code",
   "execution_count": 8,
   "metadata": {
    "execution": {
     "iopub.execute_input": "2022-11-12T12:44:16.274422Z",
     "iopub.status.busy": "2022-11-12T12:44:16.272576Z",
     "iopub.status.idle": "2022-11-12T12:44:16.279666Z",
     "shell.execute_reply": "2022-11-12T12:44:16.279094Z",
     "shell.execute_reply.started": "2022-11-12T12:35:44.150784Z"
    },
    "papermill": {
     "duration": 0.078099,
     "end_time": "2022-11-12T12:44:16.279789",
     "exception": false,
     "start_time": "2022-11-12T12:44:16.201690",
     "status": "completed"
    },
    "tags": []
   },
   "outputs": [
    {
     "data": {
      "text/html": [
       "<div>\n",
       "<style scoped>\n",
       "    .dataframe tbody tr th:only-of-type {\n",
       "        vertical-align: middle;\n",
       "    }\n",
       "\n",
       "    .dataframe tbody tr th {\n",
       "        vertical-align: top;\n",
       "    }\n",
       "\n",
       "    .dataframe thead th {\n",
       "        text-align: right;\n",
       "    }\n",
       "</style>\n",
       "<table border=\"1\" class=\"dataframe\">\n",
       "  <thead>\n",
       "    <tr style=\"text-align: right;\">\n",
       "      <th></th>\n",
       "      <th>HOURLYVISIBILITY</th>\n",
       "      <th>HOURLYDRYBULBTEMPF</th>\n",
       "      <th>HOURLYWETBULBTEMPF</th>\n",
       "      <th>HOURLYDewPointTempF</th>\n",
       "      <th>HOURLYRelativeHumidity</th>\n",
       "      <th>HOURLYWindSpeed</th>\n",
       "      <th>HOURLYStationPressure</th>\n",
       "      <th>HOURLYSeaLevelPressure</th>\n",
       "      <th>HOURLYPrecip</th>\n",
       "      <th>HOURLYAltimeterSetting</th>\n",
       "      <th>HOURLYWindDirectionSin</th>\n",
       "      <th>HOURLYWindDirectionCos</th>\n",
       "      <th>HOURLYPressureTendencyIncr</th>\n",
       "      <th>HOURLYPressureTendencyDecr</th>\n",
       "      <th>HOURLYPressureTendencyCons</th>\n",
       "    </tr>\n",
       "    <tr>\n",
       "      <th>DATE</th>\n",
       "      <th></th>\n",
       "      <th></th>\n",
       "      <th></th>\n",
       "      <th></th>\n",
       "      <th></th>\n",
       "      <th></th>\n",
       "      <th></th>\n",
       "      <th></th>\n",
       "      <th></th>\n",
       "      <th></th>\n",
       "      <th></th>\n",
       "      <th></th>\n",
       "      <th></th>\n",
       "      <th></th>\n",
       "      <th></th>\n",
       "    </tr>\n",
       "  </thead>\n",
       "  <tbody>\n",
       "    <tr>\n",
       "      <th>2010-01-01 01:00:00</th>\n",
       "      <td>6.0</td>\n",
       "      <td>33.0</td>\n",
       "      <td>32.0</td>\n",
       "      <td>31.0</td>\n",
       "      <td>92.0</td>\n",
       "      <td>0.0</td>\n",
       "      <td>29.97</td>\n",
       "      <td>29.99</td>\n",
       "      <td>0.01</td>\n",
       "      <td>29.99</td>\n",
       "      <td>0.0</td>\n",
       "      <td>1.0</td>\n",
       "      <td>0</td>\n",
       "      <td>1</td>\n",
       "      <td>0</td>\n",
       "    </tr>\n",
       "    <tr>\n",
       "      <th>2010-01-01 02:00:00</th>\n",
       "      <td>6.0</td>\n",
       "      <td>33.0</td>\n",
       "      <td>33.0</td>\n",
       "      <td>32.0</td>\n",
       "      <td>96.0</td>\n",
       "      <td>0.0</td>\n",
       "      <td>29.97</td>\n",
       "      <td>29.99</td>\n",
       "      <td>0.02</td>\n",
       "      <td>29.99</td>\n",
       "      <td>0.0</td>\n",
       "      <td>1.0</td>\n",
       "      <td>0</td>\n",
       "      <td>1</td>\n",
       "      <td>0</td>\n",
       "    </tr>\n",
       "    <tr>\n",
       "      <th>2010-01-01 03:00:00</th>\n",
       "      <td>5.0</td>\n",
       "      <td>33.0</td>\n",
       "      <td>33.0</td>\n",
       "      <td>32.0</td>\n",
       "      <td>96.0</td>\n",
       "      <td>0.0</td>\n",
       "      <td>29.97</td>\n",
       "      <td>29.99</td>\n",
       "      <td>0.00</td>\n",
       "      <td>29.99</td>\n",
       "      <td>0.0</td>\n",
       "      <td>1.0</td>\n",
       "      <td>0</td>\n",
       "      <td>1</td>\n",
       "      <td>0</td>\n",
       "    </tr>\n",
       "    <tr>\n",
       "      <th>2010-01-01 04:00:00</th>\n",
       "      <td>5.0</td>\n",
       "      <td>33.0</td>\n",
       "      <td>33.0</td>\n",
       "      <td>32.0</td>\n",
       "      <td>96.0</td>\n",
       "      <td>0.0</td>\n",
       "      <td>29.95</td>\n",
       "      <td>29.97</td>\n",
       "      <td>0.00</td>\n",
       "      <td>29.97</td>\n",
       "      <td>0.0</td>\n",
       "      <td>1.0</td>\n",
       "      <td>0</td>\n",
       "      <td>1</td>\n",
       "      <td>0</td>\n",
       "    </tr>\n",
       "    <tr>\n",
       "      <th>2010-01-01 05:00:00</th>\n",
       "      <td>5.0</td>\n",
       "      <td>33.0</td>\n",
       "      <td>32.0</td>\n",
       "      <td>31.0</td>\n",
       "      <td>92.0</td>\n",
       "      <td>0.0</td>\n",
       "      <td>29.93</td>\n",
       "      <td>29.96</td>\n",
       "      <td>0.00</td>\n",
       "      <td>29.95</td>\n",
       "      <td>0.0</td>\n",
       "      <td>1.0</td>\n",
       "      <td>0</td>\n",
       "      <td>1</td>\n",
       "      <td>0</td>\n",
       "    </tr>\n",
       "  </tbody>\n",
       "</table>\n",
       "</div>"
      ],
      "text/plain": [
       "                     HOURLYVISIBILITY  HOURLYDRYBULBTEMPF  HOURLYWETBULBTEMPF  \\\n",
       "DATE                                                                            \n",
       "2010-01-01 01:00:00               6.0                33.0                32.0   \n",
       "2010-01-01 02:00:00               6.0                33.0                33.0   \n",
       "2010-01-01 03:00:00               5.0                33.0                33.0   \n",
       "2010-01-01 04:00:00               5.0                33.0                33.0   \n",
       "2010-01-01 05:00:00               5.0                33.0                32.0   \n",
       "\n",
       "                     HOURLYDewPointTempF  HOURLYRelativeHumidity  \\\n",
       "DATE                                                               \n",
       "2010-01-01 01:00:00                 31.0                    92.0   \n",
       "2010-01-01 02:00:00                 32.0                    96.0   \n",
       "2010-01-01 03:00:00                 32.0                    96.0   \n",
       "2010-01-01 04:00:00                 32.0                    96.0   \n",
       "2010-01-01 05:00:00                 31.0                    92.0   \n",
       "\n",
       "                     HOURLYWindSpeed  HOURLYStationPressure  \\\n",
       "DATE                                                          \n",
       "2010-01-01 01:00:00              0.0                  29.97   \n",
       "2010-01-01 02:00:00              0.0                  29.97   \n",
       "2010-01-01 03:00:00              0.0                  29.97   \n",
       "2010-01-01 04:00:00              0.0                  29.95   \n",
       "2010-01-01 05:00:00              0.0                  29.93   \n",
       "\n",
       "                     HOURLYSeaLevelPressure  HOURLYPrecip  \\\n",
       "DATE                                                        \n",
       "2010-01-01 01:00:00                   29.99          0.01   \n",
       "2010-01-01 02:00:00                   29.99          0.02   \n",
       "2010-01-01 03:00:00                   29.99          0.00   \n",
       "2010-01-01 04:00:00                   29.97          0.00   \n",
       "2010-01-01 05:00:00                   29.96          0.00   \n",
       "\n",
       "                     HOURLYAltimeterSetting  HOURLYWindDirectionSin  \\\n",
       "DATE                                                                  \n",
       "2010-01-01 01:00:00                   29.99                     0.0   \n",
       "2010-01-01 02:00:00                   29.99                     0.0   \n",
       "2010-01-01 03:00:00                   29.99                     0.0   \n",
       "2010-01-01 04:00:00                   29.97                     0.0   \n",
       "2010-01-01 05:00:00                   29.95                     0.0   \n",
       "\n",
       "                     HOURLYWindDirectionCos  HOURLYPressureTendencyIncr  \\\n",
       "DATE                                                                      \n",
       "2010-01-01 01:00:00                     1.0                           0   \n",
       "2010-01-01 02:00:00                     1.0                           0   \n",
       "2010-01-01 03:00:00                     1.0                           0   \n",
       "2010-01-01 04:00:00                     1.0                           0   \n",
       "2010-01-01 05:00:00                     1.0                           0   \n",
       "\n",
       "                     HOURLYPressureTendencyDecr  HOURLYPressureTendencyCons  \n",
       "DATE                                                                         \n",
       "2010-01-01 01:00:00                           1                           0  \n",
       "2010-01-01 02:00:00                           1                           0  \n",
       "2010-01-01 03:00:00                           1                           0  \n",
       "2010-01-01 04:00:00                           1                           0  \n",
       "2010-01-01 05:00:00                           1                           0  "
      ]
     },
     "execution_count": 8,
     "metadata": {},
     "output_type": "execute_result"
    }
   ],
   "source": [
    "df_2.head()"
   ]
  },
  {
   "cell_type": "code",
   "execution_count": 9,
   "metadata": {
    "execution": {
     "iopub.execute_input": "2022-11-12T12:44:16.389514Z",
     "iopub.status.busy": "2022-11-12T12:44:16.388645Z",
     "iopub.status.idle": "2022-11-12T12:44:16.718922Z",
     "shell.execute_reply": "2022-11-12T12:44:16.718289Z",
     "shell.execute_reply.started": "2022-11-12T12:35:44.377583Z"
    },
    "papermill": {
     "duration": 0.388109,
     "end_time": "2022-11-12T12:44:16.719063",
     "exception": false,
     "start_time": "2022-11-12T12:44:16.330954",
     "status": "completed"
    },
    "tags": []
   },
   "outputs": [
    {
     "data": {
      "image/png": "[encoded data removed]",
      "text/plain": [
       "<Figure size 720x432 with 1 Axes>"
      ]
     },
     "metadata": {
      "needs_background": "light"
     },
     "output_type": "display_data"
    }
   ],
   "source": [
    "plt.figure(figsize = (10, 6))\n",
    "plt.plot(df_2['HOURLYVISIBILITY'])\n",
    "plt.title('HOURLY VISIBILITY of Airport')\n",
    "plt.ylabel('HOURLY VISIBILITY')\n",
    "plt.xlabel('DATE')\n",
    "plt.show()"
   ]
  },
  {
   "cell_type": "markdown",
   "metadata": {
    "papermill": {
     "duration": 0.052128,
     "end_time": "2022-11-12T12:44:16.823394",
     "exception": false,
     "start_time": "2022-11-12T12:44:16.771266",
     "status": "completed"
    },
    "tags": []
   },
   "source": [
    "To see The plot of 60 data"
   ]
  },
  {
   "cell_type": "code",
   "execution_count": 10,
   "metadata": {
    "execution": {
     "iopub.execute_input": "2022-11-12T12:44:16.933691Z",
     "iopub.status.busy": "2022-11-12T12:44:16.932386Z",
     "iopub.status.idle": "2022-11-12T12:44:16.935847Z",
     "shell.execute_reply": "2022-11-12T12:44:16.935302Z",
     "shell.execute_reply.started": "2022-11-12T12:35:45.960823Z"
    },
    "papermill": {
     "duration": 0.060415,
     "end_time": "2022-11-12T12:44:16.935993",
     "exception": false,
     "start_time": "2022-11-12T12:44:16.875578",
     "status": "completed"
    },
    "tags": []
   },
   "outputs": [],
   "source": [
    "temp = df_2[:60]"
   ]
  },
  {
   "cell_type": "code",
   "execution_count": 11,
   "metadata": {
    "execution": {
     "iopub.execute_input": "2022-11-12T12:44:17.047996Z",
     "iopub.status.busy": "2022-11-12T12:44:17.047060Z",
     "iopub.status.idle": "2022-11-12T12:44:17.051666Z",
     "shell.execute_reply": "2022-11-12T12:44:17.051129Z",
     "shell.execute_reply.started": "2022-11-12T12:35:46.181682Z"
    },
    "papermill": {
     "duration": 0.063976,
     "end_time": "2022-11-12T12:44:17.051783",
     "exception": false,
     "start_time": "2022-11-12T12:44:16.987807",
     "status": "completed"
    },
    "tags": []
   },
   "outputs": [
    {
     "data": {
      "text/plain": [
       "HOURLYVISIBILITY              60\n",
       "HOURLYDRYBULBTEMPF            60\n",
       "HOURLYWETBULBTEMPF            60\n",
       "HOURLYDewPointTempF           60\n",
       "HOURLYRelativeHumidity        60\n",
       "HOURLYWindSpeed               60\n",
       "HOURLYStationPressure         60\n",
       "HOURLYSeaLevelPressure        60\n",
       "HOURLYPrecip                  60\n",
       "HOURLYAltimeterSetting        60\n",
       "HOURLYWindDirectionSin        60\n",
       "HOURLYWindDirectionCos        60\n",
       "HOURLYPressureTendencyIncr    60\n",
       "HOURLYPressureTendencyDecr    60\n",
       "HOURLYPressureTendencyCons    60\n",
       "dtype: int64"
      ]
     },
     "execution_count": 11,
     "metadata": {},
     "output_type": "execute_result"
    }
   ],
   "source": [
    "temp.count()"
   ]
  },
  {
   "cell_type": "code",
   "execution_count": 12,
   "metadata": {
    "execution": {
     "iopub.execute_input": "2022-11-12T12:44:17.167440Z",
     "iopub.status.busy": "2022-11-12T12:44:17.161834Z",
     "iopub.status.idle": "2022-11-12T12:44:17.333574Z",
     "shell.execute_reply": "2022-11-12T12:44:17.332850Z",
     "shell.execute_reply.started": "2022-11-12T12:35:46.332533Z"
    },
    "papermill": {
     "duration": 0.229356,
     "end_time": "2022-11-12T12:44:17.333698",
     "exception": false,
     "start_time": "2022-11-12T12:44:17.104342",
     "status": "completed"
    },
    "tags": []
   },
   "outputs": [
    {
     "data": {
      "image/png": "[encoded data removed]",
      "text/plain": [
       "<Figure size 720x432 with 1 Axes>"
      ]
     },
     "metadata": {
      "needs_background": "light"
     },
     "output_type": "display_data"
    }
   ],
   "source": [
    "plt.figure(figsize = (10, 6))\n",
    "plt.plot(temp['HOURLYVISIBILITY'])\n",
    "plt.title('HOURLY VISIBILITY of Airport with a limited data')\n",
    "plt.ylabel('HOURLY VISIBILITY')\n",
    "plt.xlabel('DATE')\n",
    "plt.show()"
   ]
  },
  {
   "cell_type": "code",
   "execution_count": 13,
   "metadata": {
    "execution": {
     "iopub.execute_input": "2022-11-12T12:44:17.454318Z",
     "iopub.status.busy": "2022-11-12T12:44:17.453185Z",
     "iopub.status.idle": "2022-11-12T12:44:17.458458Z",
     "shell.execute_reply": "2022-11-12T12:44:17.457315Z",
     "shell.execute_reply.started": "2022-11-12T12:35:46.518699Z"
    },
    "papermill": {
     "duration": 0.070257,
     "end_time": "2022-11-12T12:44:17.458684",
     "exception": false,
     "start_time": "2022-11-12T12:44:17.388427",
     "status": "completed"
    },
    "tags": []
   },
   "outputs": [],
   "source": [
    "data = df[['DATE','HOURLYVISIBILITY']]"
   ]
  },
  {
   "cell_type": "code",
   "execution_count": 14,
   "metadata": {
    "execution": {
     "iopub.execute_input": "2022-11-12T12:44:17.599087Z",
     "iopub.status.busy": "2022-11-12T12:44:17.598332Z",
     "iopub.status.idle": "2022-11-12T12:44:17.601724Z",
     "shell.execute_reply": "2022-11-12T12:44:17.601066Z",
     "shell.execute_reply.started": "2022-11-12T12:35:46.692096Z"
    },
    "papermill": {
     "duration": 0.069035,
     "end_time": "2022-11-12T12:44:17.601844",
     "exception": false,
     "start_time": "2022-11-12T12:44:17.532809",
     "status": "completed"
    },
    "tags": []
   },
   "outputs": [],
   "source": [
    "from numpy import array\n",
    "def split_sequence(sequence, n_steps):\n",
    "    X, y = list(), list()\n",
    "    for i in range(len(sequence)):\n",
    "        end_ix = i + n_steps\n",
    "        if end_ix > len(sequence)-1:\n",
    "            break\n",
    "        seq_x, seq_y = sequence[i:end_ix], sequence[end_ix]\n",
    "        X.append(seq_x)\n",
    "        y.append(seq_y)\n",
    "    return array(X), array(y)\n"
   ]
  },
  {
   "cell_type": "code",
   "execution_count": 15,
   "metadata": {
    "execution": {
     "iopub.execute_input": "2022-11-12T12:44:17.819639Z",
     "iopub.status.busy": "2022-11-12T12:44:17.735707Z",
     "iopub.status.idle": "2022-11-12T12:44:17.893693Z",
     "shell.execute_reply": "2022-11-12T12:44:17.893098Z",
     "shell.execute_reply.started": "2022-11-12T12:35:46.951956Z"
    },
    "papermill": {
     "duration": 0.238208,
     "end_time": "2022-11-12T12:44:17.893817",
     "exception": false,
     "start_time": "2022-11-12T12:44:17.655609",
     "status": "completed"
    },
    "tags": []
   },
   "outputs": [],
   "source": [
    "n_steps = 3\n",
    "X, Y = split_sequence(data['HOURLYVISIBILITY'].tolist(), n_steps)"
   ]
  },
  {
   "cell_type": "code",
   "execution_count": 16,
   "metadata": {
    "execution": {
     "iopub.execute_input": "2022-11-12T12:44:18.012752Z",
     "iopub.status.busy": "2022-11-12T12:44:18.010305Z",
     "iopub.status.idle": "2022-11-12T12:44:18.019429Z",
     "shell.execute_reply": "2022-11-12T12:44:18.020281Z",
     "shell.execute_reply.started": "2022-11-12T12:35:47.112083Z"
    },
    "papermill": {
     "duration": 0.071027,
     "end_time": "2022-11-12T12:44:18.020459",
     "exception": false,
     "start_time": "2022-11-12T12:44:17.949432",
     "status": "completed"
    },
    "tags": []
   },
   "outputs": [
    {
     "name": "stdout",
     "output_type": "stream",
     "text": [
      "[6. 6. 5.] 5.0\n",
      "[6. 5. 5.] 5.0\n",
      "[5. 5. 5.] 5.0\n",
      "[5. 5. 5.] 4.0\n",
      "[5. 5. 4.] 1.25\n",
      "[5.   4.   1.25] 2.5\n",
      "[4.   1.25 2.5 ] 2.5\n",
      "[1.25 2.5  2.5 ] 5.0\n",
      "[2.5 2.5 5. ] 5.0\n",
      "[2.5 5.  5. ] 7.0\n"
     ]
    }
   ],
   "source": [
    "for i in range(10):\n",
    "    print(X[i], Y[i])"
   ]
  },
  {
   "cell_type": "code",
   "execution_count": 17,
   "metadata": {
    "execution": {
     "iopub.execute_input": "2022-11-12T12:44:18.134618Z",
     "iopub.status.busy": "2022-11-12T12:44:18.133503Z",
     "iopub.status.idle": "2022-11-12T12:44:18.136644Z",
     "shell.execute_reply": "2022-11-12T12:44:18.135983Z",
     "shell.execute_reply.started": "2022-11-12T12:35:47.292183Z"
    },
    "papermill": {
     "duration": 0.061988,
     "end_time": "2022-11-12T12:44:18.136765",
     "exception": false,
     "start_time": "2022-11-12T12:44:18.074777",
     "status": "completed"
    },
    "tags": []
   },
   "outputs": [],
   "source": [
    "X = X.reshape((X.shape[0], X.shape[1], 1))"
   ]
  },
  {
   "cell_type": "code",
   "execution_count": 18,
   "metadata": {
    "execution": {
     "iopub.execute_input": "2022-11-12T12:44:18.256443Z",
     "iopub.status.busy": "2022-11-12T12:44:18.255370Z",
     "iopub.status.idle": "2022-11-12T12:44:18.259544Z",
     "shell.execute_reply": "2022-11-12T12:44:18.260073Z",
     "shell.execute_reply.started": "2022-11-12T12:35:47.477398Z"
    },
    "papermill": {
     "duration": 0.066605,
     "end_time": "2022-11-12T12:44:18.260226",
     "exception": false,
     "start_time": "2022-11-12T12:44:18.193621",
     "status": "completed"
    },
    "tags": []
   },
   "outputs": [
    {
     "data": {
      "text/plain": [
       "(75116, 3, 1)"
      ]
     },
     "execution_count": 18,
     "metadata": {},
     "output_type": "execute_result"
    }
   ],
   "source": [
    "X.shape"
   ]
  },
  {
   "cell_type": "code",
   "execution_count": 19,
   "metadata": {
    "execution": {
     "iopub.execute_input": "2022-11-12T12:44:18.373473Z",
     "iopub.status.busy": "2022-11-12T12:44:18.372521Z",
     "iopub.status.idle": "2022-11-12T12:44:18.376533Z",
     "shell.execute_reply": "2022-11-12T12:44:18.376009Z",
     "shell.execute_reply.started": "2022-11-12T12:35:49.387454Z"
    },
    "papermill": {
     "duration": 0.062609,
     "end_time": "2022-11-12T12:44:18.376647",
     "exception": false,
     "start_time": "2022-11-12T12:44:18.314038",
     "status": "completed"
    },
    "tags": []
   },
   "outputs": [
    {
     "data": {
      "text/plain": [
       "(75116,)"
      ]
     },
     "execution_count": 19,
     "metadata": {},
     "output_type": "execute_result"
    }
   ],
   "source": [
    "Y.shape"
   ]
  },
  {
   "cell_type": "code",
   "execution_count": 20,
   "metadata": {
    "execution": {
     "iopub.execute_input": "2022-11-12T12:44:18.490711Z",
     "iopub.status.busy": "2022-11-12T12:44:18.490091Z",
     "iopub.status.idle": "2022-11-12T12:44:18.497749Z",
     "shell.execute_reply": "2022-11-12T12:44:18.498373Z",
     "shell.execute_reply.started": "2022-11-12T12:35:49.646460Z"
    },
    "papermill": {
     "duration": 0.066751,
     "end_time": "2022-11-12T12:44:18.498532",
     "exception": false,
     "start_time": "2022-11-12T12:44:18.431781",
     "status": "completed"
    },
    "tags": []
   },
   "outputs": [
    {
     "data": {
      "text/plain": [
       "((70000, 3, 1), (70000,), (3000, 3, 1), (3000,), (2116, 3, 1), (2116,))"
      ]
     },
     "execution_count": 20,
     "metadata": {},
     "output_type": "execute_result"
    }
   ],
   "source": [
    "X_train1, y_train1 = X[:70000], Y[:70000]\n",
    "X_val1, y_val1 = X[70000:73000], Y[70000:73000]\n",
    "X_test1, y_test1 = X[73000:], Y[73000:]\n",
    "X_train1.shape, y_train1.shape, X_val1.shape, y_val1.shape, X_test1.shape, y_test1.shape"
   ]
  },
  {
   "cell_type": "code",
   "execution_count": 21,
   "metadata": {
    "execution": {
     "iopub.execute_input": "2022-11-12T12:44:18.615139Z",
     "iopub.status.busy": "2022-11-12T12:44:18.614441Z",
     "iopub.status.idle": "2022-11-12T12:44:24.591078Z",
     "shell.execute_reply": "2022-11-12T12:44:24.590456Z",
     "shell.execute_reply.started": "2022-11-12T12:35:51.445164Z"
    },
    "papermill": {
     "duration": 6.03593,
     "end_time": "2022-11-12T12:44:24.591224",
     "exception": false,
     "start_time": "2022-11-12T12:44:18.555294",
     "status": "completed"
    },
    "tags": []
   },
   "outputs": [],
   "source": [
    "from tensorflow.keras.models import Sequential\n",
    "from tensorflow.keras.layers import *\n",
    "from tensorflow.keras.callbacks import ModelCheckpoint\n",
    "from tensorflow.keras.losses import MeanSquaredError\n",
    "from tensorflow.keras.metrics import RootMeanSquaredError\n",
    "from tensorflow.keras.optimizers import Adam"
   ]
  },
  {
   "cell_type": "code",
   "execution_count": 22,
   "metadata": {
    "execution": {
     "iopub.execute_input": "2022-11-12T12:44:24.709287Z",
     "iopub.status.busy": "2022-11-12T12:44:24.708225Z",
     "iopub.status.idle": "2022-11-12T12:44:25.155372Z",
     "shell.execute_reply": "2022-11-12T12:44:25.154514Z",
     "shell.execute_reply.started": "2022-11-12T12:35:51.682274Z"
    },
    "papermill": {
     "duration": 0.507807,
     "end_time": "2022-11-12T12:44:25.155564",
     "exception": false,
     "start_time": "2022-11-12T12:44:24.647757",
     "status": "completed"
    },
    "tags": []
   },
   "outputs": [
    {
     "name": "stdout",
     "output_type": "stream",
     "text": [
      "Model: \"sequential\"\n",
      "_________________________________________________________________\n",
      "Layer (type)                 Output Shape              Param #   \n",
      "=================================================================\n",
      "lstm (LSTM)                  (None, 64)                16896     \n",
      "_________________________________________________________________\n",
      "dense (Dense)                (None, 8)                 520       \n",
      "_________________________________________________________________\n",
      "dense_1 (Dense)              (None, 1)                 9         \n",
      "=================================================================\n",
      "Total params: 17,425\n",
      "Trainable params: 17,425\n",
      "Non-trainable params: 0\n",
      "_________________________________________________________________\n"
     ]
    }
   ],
   "source": [
    "model3 = Sequential()\n",
    "model3.add(InputLayer((3, 1)))\n",
    "model3.add(LSTM(64))\n",
    "model3.add(Dense(8, 'relu'))\n",
    "model3.add(Dense(1, 'linear'))\n",
    "model3.summary()"
   ]
  },
  {
   "cell_type": "code",
   "execution_count": 23,
   "metadata": {
    "execution": {
     "iopub.execute_input": "2022-11-12T12:44:25.275637Z",
     "iopub.status.busy": "2022-11-12T12:44:25.274824Z",
     "iopub.status.idle": "2022-11-12T12:44:25.291284Z",
     "shell.execute_reply": "2022-11-12T12:44:25.290420Z",
     "shell.execute_reply.started": "2022-11-12T12:35:54.396398Z"
    },
    "papermill": {
     "duration": 0.080849,
     "end_time": "2022-11-12T12:44:25.291449",
     "exception": false,
     "start_time": "2022-11-12T12:44:25.210600",
     "status": "completed"
    },
    "tags": []
   },
   "outputs": [],
   "source": [
    "cp3 = ModelCheckpoint('model3/', save_best_only=True)\n",
    "model3.compile(loss=MeanSquaredError(), optimizer=Adam(learning_rate=0.0001), metrics=[RootMeanSquaredError()])"
   ]
  },
  {
   "cell_type": "code",
   "execution_count": 24,
   "metadata": {
    "execution": {
     "iopub.execute_input": "2022-11-12T12:44:25.408688Z",
     "iopub.status.busy": "2022-11-12T12:44:25.407655Z",
     "iopub.status.idle": "2022-11-12T13:21:20.037535Z",
     "shell.execute_reply": "2022-11-12T13:21:19.843286Z",
     "shell.execute_reply.started": "2022-11-12T12:36:09.069313Z"
    },
    "papermill": {
     "duration": 2214.690949,
     "end_time": "2022-11-12T13:21:20.037714",
     "exception": false,
     "start_time": "2022-11-12T12:44:25.346765",
     "status": "completed"
    },
    "tags": []
   },
   "outputs": [
    {
     "name": "stdout",
     "output_type": "stream",
     "text": [
      "Epoch 1/300\n",
      "2188/2188 [==============================] - 11s 5ms/step - loss: 19.8864 - root_mean_squared_error: 4.4594 - val_loss: 1.8138 - val_root_mean_squared_error: 1.3468\n",
      "Epoch 2/300\n",
      "2188/2188 [==============================] - 12s 5ms/step - loss: 1.3367 - root_mean_squared_error: 1.1561 - val_loss: 1.2538 - val_root_mean_squared_error: 1.1197\n",
      "Epoch 3/300\n",
      "2188/2188 [==============================] - 12s 5ms/step - loss: 1.2063 - root_mean_squared_error: 1.0983 - val_loss: 1.2012 - val_root_mean_squared_error: 1.0960\n",
      "Epoch 4/300\n",
      "2188/2188 [==============================] - 11s 5ms/step - loss: 1.1859 - root_mean_squared_error: 1.0890 - val_loss: 1.1943 - val_root_mean_squared_error: 1.0928\n",
      "Epoch 5/300\n",
      "2188/2188 [==============================] - 7s 3ms/step - loss: 1.1692 - root_mean_squared_error: 1.0813 - val_loss: 1.1968 - val_root_mean_squared_error: 1.0940\n",
      "Epoch 6/300\n",
      "2188/2188 [==============================] - 11s 5ms/step - loss: 1.1577 - root_mean_squared_error: 1.0759 - val_loss: 1.1744 - val_root_mean_squared_error: 1.0837\n",
      "Epoch 7/300\n",
      "2188/2188 [==============================] - 11s 5ms/step - loss: 1.1511 - root_mean_squared_error: 1.0729 - val_loss: 1.1504 - val_root_mean_squared_error: 1.0726\n",
      "Epoch 8/300\n",
      "2188/2188 [==============================] - 11s 5ms/step - loss: 1.1460 - root_mean_squared_error: 1.0705 - val_loss: 1.1436 - val_root_mean_squared_error: 1.0694\n",
      "Epoch 9/300\n",
      "2188/2188 [==============================] - 11s 5ms/step - loss: 1.1424 - root_mean_squared_error: 1.0688 - val_loss: 1.1375 - val_root_mean_squared_error: 1.0665\n",
      "Epoch 10/300\n",
      "2188/2188 [==============================] - 7s 3ms/step - loss: 1.1381 - root_mean_squared_error: 1.0668 - val_loss: 1.1467 - val_root_mean_squared_error: 1.0709\n",
      "Epoch 11/300\n",
      "2188/2188 [==============================] - 12s 5ms/step - loss: 1.1358 - root_mean_squared_error: 1.0657 - val_loss: 1.1310 - val_root_mean_squared_error: 1.0635\n",
      "Epoch 12/300\n",
      "2188/2188 [==============================] - 11s 5ms/step - loss: 1.1344 - root_mean_squared_error: 1.0651 - val_loss: 1.1292 - val_root_mean_squared_error: 1.0626\n",
      "Epoch 13/300\n",
      "2188/2188 [==============================] - 11s 5ms/step - loss: 1.1327 - root_mean_squared_error: 1.0643 - val_loss: 1.1263 - val_root_mean_squared_error: 1.0613\n",
      "Epoch 14/300\n",
      "2188/2188 [==============================] - 7s 3ms/step - loss: 1.1321 - root_mean_squared_error: 1.0640 - val_loss: 1.1481 - val_root_mean_squared_error: 1.0715\n",
      "Epoch 15/300\n",
      "2188/2188 [==============================] - 11s 5ms/step - loss: 1.1306 - root_mean_squared_error: 1.0633 - val_loss: 1.1189 - val_root_mean_squared_error: 1.0578\n",
      "Epoch 16/300\n",
      "2188/2188 [==============================] - 7s 3ms/step - loss: 1.1304 - root_mean_squared_error: 1.0632 - val_loss: 1.1277 - val_root_mean_squared_error: 1.0619\n",
      "Epoch 17/300\n",
      "2188/2188 [==============================] - 7s 3ms/step - loss: 1.1304 - root_mean_squared_error: 1.0632 - val_loss: 1.1277 - val_root_mean_squared_error: 1.0619\n",
      "Epoch 18/300\n",
      "2188/2188 [==============================] - 7s 3ms/step - loss: 1.1301 - root_mean_squared_error: 1.0631 - val_loss: 1.1275 - val_root_mean_squared_error: 1.0618\n",
      "Epoch 19/300\n",
      "2188/2188 [==============================] - 7s 3ms/step - loss: 1.1287 - root_mean_squared_error: 1.0624 - val_loss: 1.1347 - val_root_mean_squared_error: 1.0652\n",
      "Epoch 20/300\n",
      "2188/2188 [==============================] - 7s 3ms/step - loss: 1.1295 - root_mean_squared_error: 1.0628 - val_loss: 1.1290 - val_root_mean_squared_error: 1.0625\n",
      "Epoch 21/300\n",
      "2188/2188 [==============================] - 7s 3ms/step - loss: 1.1279 - root_mean_squared_error: 1.0620 - val_loss: 1.1399 - val_root_mean_squared_error: 1.0677\n",
      "Epoch 22/300\n",
      "2188/2188 [==============================] - 7s 3ms/step - loss: 1.1280 - root_mean_squared_error: 1.0621 - val_loss: 1.1267 - val_root_mean_squared_error: 1.0615\n",
      "Epoch 23/300\n",
      "2188/2188 [==============================] - 7s 3ms/step - loss: 1.1284 - root_mean_squared_error: 1.0622 - val_loss: 1.1363 - val_root_mean_squared_error: 1.0660\n",
      "Epoch 24/300\n",
      "2188/2188 [==============================] - 7s 3ms/step - loss: 1.1269 - root_mean_squared_error: 1.0616 - val_loss: 1.1356 - val_root_mean_squared_error: 1.0656\n",
      "Epoch 25/300\n",
      "2188/2188 [==============================] - 7s 3ms/step - loss: 1.1278 - root_mean_squared_error: 1.0620 - val_loss: 1.1317 - val_root_mean_squared_error: 1.0638\n",
      "Epoch 26/300\n",
      "2188/2188 [==============================] - 7s 3ms/step - loss: 1.1275 - root_mean_squared_error: 1.0618 - val_loss: 1.1241 - val_root_mean_squared_error: 1.0602\n",
      "Epoch 27/300\n",
      "2188/2188 [==============================] - 11s 5ms/step - loss: 1.1272 - root_mean_squared_error: 1.0617 - val_loss: 1.1128 - val_root_mean_squared_error: 1.0549\n",
      "Epoch 28/300\n",
      "2188/2188 [==============================] - 7s 3ms/step - loss: 1.1270 - root_mean_squared_error: 1.0616 - val_loss: 1.1219 - val_root_mean_squared_error: 1.0592\n",
      "Epoch 29/300\n",
      "2188/2188 [==============================] - 7s 3ms/step - loss: 1.1264 - root_mean_squared_error: 1.0613 - val_loss: 1.1468 - val_root_mean_squared_error: 1.0709\n",
      "Epoch 30/300\n",
      "2188/2188 [==============================] - 7s 3ms/step - loss: 1.1264 - root_mean_squared_error: 1.0613 - val_loss: 1.1314 - val_root_mean_squared_error: 1.0637\n",
      "Epoch 31/300\n",
      "2188/2188 [==============================] - 7s 3ms/step - loss: 1.1263 - root_mean_squared_error: 1.0613 - val_loss: 1.1171 - val_root_mean_squared_error: 1.0569\n",
      "Epoch 32/300\n",
      "2188/2188 [==============================] - 6s 3ms/step - loss: 1.1259 - root_mean_squared_error: 1.0611 - val_loss: 1.1318 - val_root_mean_squared_error: 1.0639\n",
      "Epoch 33/300\n",
      "2188/2188 [==============================] - 7s 3ms/step - loss: 1.1268 - root_mean_squared_error: 1.0615 - val_loss: 1.1240 - val_root_mean_squared_error: 1.0602\n",
      "Epoch 34/300\n",
      "2188/2188 [==============================] - 7s 3ms/step - loss: 1.1263 - root_mean_squared_error: 1.0613 - val_loss: 1.1262 - val_root_mean_squared_error: 1.0612\n",
      "Epoch 35/300\n",
      "2188/2188 [==============================] - 7s 3ms/step - loss: 1.1262 - root_mean_squared_error: 1.0612 - val_loss: 1.1142 - val_root_mean_squared_error: 1.0556\n",
      "Epoch 36/300\n",
      "2188/2188 [==============================] - 7s 3ms/step - loss: 1.1257 - root_mean_squared_error: 1.0610 - val_loss: 1.1447 - val_root_mean_squared_error: 1.0699\n",
      "Epoch 37/300\n",
      "2188/2188 [==============================] - 7s 3ms/step - loss: 1.1256 - root_mean_squared_error: 1.0609 - val_loss: 1.1294 - val_root_mean_squared_error: 1.0628\n",
      "Epoch 38/300\n",
      "2188/2188 [==============================] - 7s 3ms/step - loss: 1.1256 - root_mean_squared_error: 1.0609 - val_loss: 1.1193 - val_root_mean_squared_error: 1.0580\n",
      "Epoch 39/300\n",
      "2188/2188 [==============================] - 7s 3ms/step - loss: 1.1256 - root_mean_squared_error: 1.0610 - val_loss: 1.1174 - val_root_mean_squared_error: 1.0571\n",
      "Epoch 40/300\n",
      "2188/2188 [==============================] - 7s 3ms/step - loss: 1.1256 - root_mean_squared_error: 1.0609 - val_loss: 1.1453 - val_root_mean_squared_error: 1.0702\n",
      "Epoch 41/300\n",
      "2188/2188 [==============================] - 7s 3ms/step - loss: 1.1249 - root_mean_squared_error: 1.0606 - val_loss: 1.1243 - val_root_mean_squared_error: 1.0603\n",
      "Epoch 42/300\n",
      "2188/2188 [==============================] - 7s 3ms/step - loss: 1.1253 - root_mean_squared_error: 1.0608 - val_loss: 1.1277 - val_root_mean_squared_error: 1.0619\n",
      "Epoch 43/300\n",
      "2188/2188 [==============================] - 7s 3ms/step - loss: 1.1254 - root_mean_squared_error: 1.0608 - val_loss: 1.1334 - val_root_mean_squared_error: 1.0646\n",
      "Epoch 44/300\n",
      "2188/2188 [==============================] - 7s 3ms/step - loss: 1.1247 - root_mean_squared_error: 1.0605 - val_loss: 1.1353 - val_root_mean_squared_error: 1.0655\n",
      "Epoch 45/300\n",
      "2188/2188 [==============================] - 7s 3ms/step - loss: 1.1249 - root_mean_squared_error: 1.0606 - val_loss: 1.1326 - val_root_mean_squared_error: 1.0642\n",
      "Epoch 46/300\n",
      "2188/2188 [==============================] - 7s 3ms/step - loss: 1.1253 - root_mean_squared_error: 1.0608 - val_loss: 1.1349 - val_root_mean_squared_error: 1.0653\n",
      "Epoch 47/300\n",
      "2188/2188 [==============================] - 7s 3ms/step - loss: 1.1243 - root_mean_squared_error: 1.0604 - val_loss: 1.1206 - val_root_mean_squared_error: 1.0586\n",
      "Epoch 48/300\n",
      "2188/2188 [==============================] - 7s 3ms/step - loss: 1.1245 - root_mean_squared_error: 1.0604 - val_loss: 1.1244 - val_root_mean_squared_error: 1.0604\n",
      "Epoch 49/300\n",
      "2188/2188 [==============================] - 7s 3ms/step - loss: 1.1248 - root_mean_squared_error: 1.0605 - val_loss: 1.1194 - val_root_mean_squared_error: 1.0580\n",
      "Epoch 50/300\n",
      "2188/2188 [==============================] - 7s 3ms/step - loss: 1.1249 - root_mean_squared_error: 1.0606 - val_loss: 1.1279 - val_root_mean_squared_error: 1.0620\n",
      "Epoch 51/300\n",
      "2188/2188 [==============================] - 7s 3ms/step - loss: 1.1239 - root_mean_squared_error: 1.0601 - val_loss: 1.1245 - val_root_mean_squared_error: 1.0604\n",
      "Epoch 52/300\n",
      "2188/2188 [==============================] - 12s 5ms/step - loss: 1.1242 - root_mean_squared_error: 1.0603 - val_loss: 1.1110 - val_root_mean_squared_error: 1.0541\n",
      "Epoch 53/300\n",
      "2188/2188 [==============================] - 7s 3ms/step - loss: 1.1246 - root_mean_squared_error: 1.0605 - val_loss: 1.1123 - val_root_mean_squared_error: 1.0547\n",
      "Epoch 54/300\n",
      "2188/2188 [==============================] - 7s 3ms/step - loss: 1.1241 - root_mean_squared_error: 1.0602 - val_loss: 1.1393 - val_root_mean_squared_error: 1.0674\n",
      "Epoch 55/300\n",
      "2188/2188 [==============================] - 7s 3ms/step - loss: 1.1238 - root_mean_squared_error: 1.0601 - val_loss: 1.1221 - val_root_mean_squared_error: 1.0593\n",
      "Epoch 56/300\n",
      "2188/2188 [==============================] - 7s 3ms/step - loss: 1.1239 - root_mean_squared_error: 1.0601 - val_loss: 1.1248 - val_root_mean_squared_error: 1.0606\n",
      "Epoch 57/300\n",
      "2188/2188 [==============================] - 7s 3ms/step - loss: 1.1242 - root_mean_squared_error: 1.0603 - val_loss: 1.1285 - val_root_mean_squared_error: 1.0623\n",
      "Epoch 58/300\n",
      "2188/2188 [==============================] - 7s 3ms/step - loss: 1.1242 - root_mean_squared_error: 1.0603 - val_loss: 1.1264 - val_root_mean_squared_error: 1.0613\n",
      "Epoch 59/300\n",
      "2188/2188 [==============================] - 7s 3ms/step - loss: 1.1243 - root_mean_squared_error: 1.0603 - val_loss: 1.1208 - val_root_mean_squared_error: 1.0587\n",
      "Epoch 60/300\n",
      "2188/2188 [==============================] - 7s 3ms/step - loss: 1.1233 - root_mean_squared_error: 1.0599 - val_loss: 1.1389 - val_root_mean_squared_error: 1.0672\n",
      "Epoch 61/300\n",
      "2188/2188 [==============================] - 7s 3ms/step - loss: 1.1237 - root_mean_squared_error: 1.0601 - val_loss: 1.1141 - val_root_mean_squared_error: 1.0555\n",
      "Epoch 62/300\n",
      "2188/2188 [==============================] - 7s 3ms/step - loss: 1.1237 - root_mean_squared_error: 1.0601 - val_loss: 1.1215 - val_root_mean_squared_error: 1.0590\n",
      "Epoch 63/300\n",
      "2188/2188 [==============================] - 7s 3ms/step - loss: 1.1223 - root_mean_squared_error: 1.0594 - val_loss: 1.1360 - val_root_mean_squared_error: 1.0658\n",
      "Epoch 64/300\n",
      "2188/2188 [==============================] - 7s 3ms/step - loss: 1.1230 - root_mean_squared_error: 1.0597 - val_loss: 1.1167 - val_root_mean_squared_error: 1.0567\n",
      "Epoch 65/300\n",
      "2188/2188 [==============================] - 7s 3ms/step - loss: 1.1229 - root_mean_squared_error: 1.0597 - val_loss: 1.1156 - val_root_mean_squared_error: 1.0562\n",
      "Epoch 66/300\n",
      "2188/2188 [==============================] - 7s 3ms/step - loss: 1.1230 - root_mean_squared_error: 1.0597 - val_loss: 1.1343 - val_root_mean_squared_error: 1.0650\n",
      "Epoch 67/300\n",
      "2188/2188 [==============================] - 12s 5ms/step - loss: 1.1223 - root_mean_squared_error: 1.0594 - val_loss: 1.1108 - val_root_mean_squared_error: 1.0540\n",
      "Epoch 68/300\n",
      "2188/2188 [==============================] - 11s 5ms/step - loss: 1.1230 - root_mean_squared_error: 1.0597 - val_loss: 1.1071 - val_root_mean_squared_error: 1.0522\n",
      "Epoch 69/300\n",
      "2188/2188 [==============================] - 7s 3ms/step - loss: 1.1226 - root_mean_squared_error: 1.0595 - val_loss: 1.1259 - val_root_mean_squared_error: 1.0611\n",
      "Epoch 70/300\n",
      "2188/2188 [==============================] - 7s 3ms/step - loss: 1.1231 - root_mean_squared_error: 1.0597 - val_loss: 1.1092 - val_root_mean_squared_error: 1.0532\n",
      "Epoch 71/300\n",
      "2188/2188 [==============================] - 7s 3ms/step - loss: 1.1229 - root_mean_squared_error: 1.0597 - val_loss: 1.1243 - val_root_mean_squared_error: 1.0603\n",
      "Epoch 72/300\n",
      "2188/2188 [==============================] - 6s 3ms/step - loss: 1.1224 - root_mean_squared_error: 1.0594 - val_loss: 1.1204 - val_root_mean_squared_error: 1.0585\n",
      "Epoch 73/300\n",
      "2188/2188 [==============================] - 7s 3ms/step - loss: 1.1225 - root_mean_squared_error: 1.0595 - val_loss: 1.1251 - val_root_mean_squared_error: 1.0607\n",
      "Epoch 74/300\n",
      "2188/2188 [==============================] - 7s 3ms/step - loss: 1.1228 - root_mean_squared_error: 1.0596 - val_loss: 1.1156 - val_root_mean_squared_error: 1.0562\n",
      "Epoch 75/300\n",
      "2188/2188 [==============================] - 7s 3ms/step - loss: 1.1225 - root_mean_squared_error: 1.0595 - val_loss: 1.1110 - val_root_mean_squared_error: 1.0541\n",
      "Epoch 76/300\n",
      "2188/2188 [==============================] - 6s 3ms/step - loss: 1.1221 - root_mean_squared_error: 1.0593 - val_loss: 1.1413 - val_root_mean_squared_error: 1.0683\n",
      "Epoch 77/300\n",
      "2188/2188 [==============================] - 6s 3ms/step - loss: 1.1223 - root_mean_squared_error: 1.0594 - val_loss: 1.1141 - val_root_mean_squared_error: 1.0555\n",
      "Epoch 78/300\n",
      "2188/2188 [==============================] - 6s 3ms/step - loss: 1.1220 - root_mean_squared_error: 1.0592 - val_loss: 1.1252 - val_root_mean_squared_error: 1.0608\n",
      "Epoch 79/300\n",
      "2188/2188 [==============================] - 6s 3ms/step - loss: 1.1219 - root_mean_squared_error: 1.0592 - val_loss: 1.1351 - val_root_mean_squared_error: 1.0654\n",
      "Epoch 80/300\n",
      "2188/2188 [==============================] - 7s 3ms/step - loss: 1.1221 - root_mean_squared_error: 1.0593 - val_loss: 1.1083 - val_root_mean_squared_error: 1.0528\n",
      "Epoch 81/300\n",
      "2188/2188 [==============================] - 7s 3ms/step - loss: 1.1225 - root_mean_squared_error: 1.0595 - val_loss: 1.1288 - val_root_mean_squared_error: 1.0625\n",
      "Epoch 82/300\n",
      "2188/2188 [==============================] - 6s 3ms/step - loss: 1.1213 - root_mean_squared_error: 1.0589 - val_loss: 1.1185 - val_root_mean_squared_error: 1.0576\n",
      "Epoch 83/300\n",
      "2188/2188 [==============================] - 6s 3ms/step - loss: 1.1218 - root_mean_squared_error: 1.0592 - val_loss: 1.1260 - val_root_mean_squared_error: 1.0611\n",
      "Epoch 84/300\n",
      "2188/2188 [==============================] - 6s 3ms/step - loss: 1.1209 - root_mean_squared_error: 1.0587 - val_loss: 1.1154 - val_root_mean_squared_error: 1.0561\n",
      "Epoch 85/300\n",
      "2188/2188 [==============================] - 7s 3ms/step - loss: 1.1218 - root_mean_squared_error: 1.0592 - val_loss: 1.1179 - val_root_mean_squared_error: 1.0573\n",
      "Epoch 86/300\n",
      "2188/2188 [==============================] - 7s 3ms/step - loss: 1.1217 - root_mean_squared_error: 1.0591 - val_loss: 1.1313 - val_root_mean_squared_error: 1.0636\n",
      "Epoch 87/300\n",
      "2188/2188 [==============================] - 6s 3ms/step - loss: 1.1214 - root_mean_squared_error: 1.0590 - val_loss: 1.1256 - val_root_mean_squared_error: 1.0609\n",
      "Epoch 88/300\n",
      "2188/2188 [==============================] - 7s 3ms/step - loss: 1.1217 - root_mean_squared_error: 1.0591 - val_loss: 1.1301 - val_root_mean_squared_error: 1.0631\n",
      "Epoch 89/300\n",
      "2188/2188 [==============================] - 7s 3ms/step - loss: 1.1216 - root_mean_squared_error: 1.0591 - val_loss: 1.1251 - val_root_mean_squared_error: 1.0607\n",
      "Epoch 90/300\n",
      "2188/2188 [==============================] - 7s 3ms/step - loss: 1.1210 - root_mean_squared_error: 1.0588 - val_loss: 1.1412 - val_root_mean_squared_error: 1.0683\n",
      "Epoch 91/300\n",
      "2188/2188 [==============================] - 7s 3ms/step - loss: 1.1210 - root_mean_squared_error: 1.0588 - val_loss: 1.1287 - val_root_mean_squared_error: 1.0624\n",
      "Epoch 92/300\n",
      "2188/2188 [==============================] - 7s 3ms/step - loss: 1.1209 - root_mean_squared_error: 1.0587 - val_loss: 1.1204 - val_root_mean_squared_error: 1.0585\n",
      "Epoch 93/300\n",
      "2188/2188 [==============================] - 7s 3ms/step - loss: 1.1204 - root_mean_squared_error: 1.0585 - val_loss: 1.1103 - val_root_mean_squared_error: 1.0537\n",
      "Epoch 94/300\n",
      "2188/2188 [==============================] - 7s 3ms/step - loss: 1.1211 - root_mean_squared_error: 1.0588 - val_loss: 1.1152 - val_root_mean_squared_error: 1.0560\n",
      "Epoch 95/300\n",
      "2188/2188 [==============================] - 7s 3ms/step - loss: 1.1211 - root_mean_squared_error: 1.0588 - val_loss: 1.1105 - val_root_mean_squared_error: 1.0538\n",
      "Epoch 96/300\n",
      "2188/2188 [==============================] - 7s 3ms/step - loss: 1.1213 - root_mean_squared_error: 1.0589 - val_loss: 1.1229 - val_root_mean_squared_error: 1.0597\n",
      "Epoch 97/300\n",
      "2188/2188 [==============================] - 7s 3ms/step - loss: 1.1209 - root_mean_squared_error: 1.0587 - val_loss: 1.1332 - val_root_mean_squared_error: 1.0645\n",
      "Epoch 98/300\n",
      "2188/2188 [==============================] - 7s 3ms/step - loss: 1.1208 - root_mean_squared_error: 1.0587 - val_loss: 1.1126 - val_root_mean_squared_error: 1.0548\n",
      "Epoch 99/300\n",
      "2188/2188 [==============================] - 7s 3ms/step - loss: 1.1209 - root_mean_squared_error: 1.0587 - val_loss: 1.1355 - val_root_mean_squared_error: 1.0656\n",
      "Epoch 100/300\n",
      "2188/2188 [==============================] - 7s 3ms/step - loss: 1.1207 - root_mean_squared_error: 1.0586 - val_loss: 1.1199 - val_root_mean_squared_error: 1.0583\n",
      "Epoch 101/300\n",
      "2188/2188 [==============================] - 7s 3ms/step - loss: 1.1204 - root_mean_squared_error: 1.0585 - val_loss: 1.1091 - val_root_mean_squared_error: 1.0531\n",
      "Epoch 102/300\n",
      "2188/2188 [==============================] - 7s 3ms/step - loss: 1.1207 - root_mean_squared_error: 1.0587 - val_loss: 1.1206 - val_root_mean_squared_error: 1.0586\n",
      "Epoch 103/300\n",
      "2188/2188 [==============================] - 7s 3ms/step - loss: 1.1204 - root_mean_squared_error: 1.0585 - val_loss: 1.1244 - val_root_mean_squared_error: 1.0604\n",
      "Epoch 104/300\n",
      "2188/2188 [==============================] - 7s 3ms/step - loss: 1.1203 - root_mean_squared_error: 1.0584 - val_loss: 1.1257 - val_root_mean_squared_error: 1.0610\n",
      "Epoch 105/300\n",
      "2188/2188 [==============================] - 7s 3ms/step - loss: 1.1203 - root_mean_squared_error: 1.0584 - val_loss: 1.1296 - val_root_mean_squared_error: 1.0628\n",
      "Epoch 106/300\n",
      "2188/2188 [==============================] - 7s 3ms/step - loss: 1.1203 - root_mean_squared_error: 1.0584 - val_loss: 1.1160 - val_root_mean_squared_error: 1.0564\n",
      "Epoch 107/300\n",
      "2188/2188 [==============================] - 7s 3ms/step - loss: 1.1195 - root_mean_squared_error: 1.0580 - val_loss: 1.1351 - val_root_mean_squared_error: 1.0654\n",
      "Epoch 108/300\n",
      "2188/2188 [==============================] - 7s 3ms/step - loss: 1.1201 - root_mean_squared_error: 1.0584 - val_loss: 1.1145 - val_root_mean_squared_error: 1.0557\n",
      "Epoch 109/300\n",
      "2188/2188 [==============================] - 7s 3ms/step - loss: 1.1202 - root_mean_squared_error: 1.0584 - val_loss: 1.1160 - val_root_mean_squared_error: 1.0564\n",
      "Epoch 110/300\n",
      "2188/2188 [==============================] - 6s 3ms/step - loss: 1.1205 - root_mean_squared_error: 1.0585 - val_loss: 1.1224 - val_root_mean_squared_error: 1.0594\n",
      "Epoch 111/300\n",
      "2188/2188 [==============================] - 6s 3ms/step - loss: 1.1200 - root_mean_squared_error: 1.0583 - val_loss: 1.1208 - val_root_mean_squared_error: 1.0587\n",
      "Epoch 112/300\n",
      "2188/2188 [==============================] - 7s 3ms/step - loss: 1.1205 - root_mean_squared_error: 1.0585 - val_loss: 1.1301 - val_root_mean_squared_error: 1.0631\n",
      "Epoch 113/300\n",
      "2188/2188 [==============================] - 7s 3ms/step - loss: 1.1200 - root_mean_squared_error: 1.0583 - val_loss: 1.1233 - val_root_mean_squared_error: 1.0598\n",
      "Epoch 114/300\n",
      "2188/2188 [==============================] - 7s 3ms/step - loss: 1.1198 - root_mean_squared_error: 1.0582 - val_loss: 1.1268 - val_root_mean_squared_error: 1.0615\n",
      "Epoch 115/300\n",
      "2188/2188 [==============================] - 7s 3ms/step - loss: 1.1201 - root_mean_squared_error: 1.0583 - val_loss: 1.1259 - val_root_mean_squared_error: 1.0611\n",
      "Epoch 116/300\n",
      "2188/2188 [==============================] - 7s 3ms/step - loss: 1.1203 - root_mean_squared_error: 1.0584 - val_loss: 1.1193 - val_root_mean_squared_error: 1.0580\n",
      "Epoch 117/300\n",
      "2188/2188 [==============================] - 7s 3ms/step - loss: 1.1201 - root_mean_squared_error: 1.0584 - val_loss: 1.1334 - val_root_mean_squared_error: 1.0646\n",
      "Epoch 118/300\n",
      "2188/2188 [==============================] - 7s 3ms/step - loss: 1.1195 - root_mean_squared_error: 1.0581 - val_loss: 1.1293 - val_root_mean_squared_error: 1.0627\n",
      "Epoch 119/300\n",
      "2188/2188 [==============================] - 7s 3ms/step - loss: 1.1197 - root_mean_squared_error: 1.0582 - val_loss: 1.1130 - val_root_mean_squared_error: 1.0550\n",
      "Epoch 120/300\n",
      "2188/2188 [==============================] - 7s 3ms/step - loss: 1.1197 - root_mean_squared_error: 1.0582 - val_loss: 1.1184 - val_root_mean_squared_error: 1.0576\n",
      "Epoch 121/300\n",
      "2188/2188 [==============================] - 11s 5ms/step - loss: 1.1193 - root_mean_squared_error: 1.0580 - val_loss: 1.1051 - val_root_mean_squared_error: 1.0512\n",
      "Epoch 122/300\n",
      "2188/2188 [==============================] - 7s 3ms/step - loss: 1.1195 - root_mean_squared_error: 1.0580 - val_loss: 1.1337 - val_root_mean_squared_error: 1.0648\n",
      "Epoch 123/300\n",
      "2188/2188 [==============================] - 7s 3ms/step - loss: 1.1197 - root_mean_squared_error: 1.0581 - val_loss: 1.1167 - val_root_mean_squared_error: 1.0568\n",
      "Epoch 124/300\n",
      "2188/2188 [==============================] - 7s 3ms/step - loss: 1.1188 - root_mean_squared_error: 1.0577 - val_loss: 1.1206 - val_root_mean_squared_error: 1.0586\n",
      "Epoch 125/300\n",
      "2188/2188 [==============================] - 7s 3ms/step - loss: 1.1192 - root_mean_squared_error: 1.0579 - val_loss: 1.1069 - val_root_mean_squared_error: 1.0521\n",
      "Epoch 126/300\n",
      "2188/2188 [==============================] - 7s 3ms/step - loss: 1.1186 - root_mean_squared_error: 1.0576 - val_loss: 1.1382 - val_root_mean_squared_error: 1.0669\n",
      "Epoch 127/300\n",
      "2188/2188 [==============================] - 7s 3ms/step - loss: 1.1193 - root_mean_squared_error: 1.0579 - val_loss: 1.1085 - val_root_mean_squared_error: 1.0528\n",
      "Epoch 128/300\n",
      "2188/2188 [==============================] - 7s 3ms/step - loss: 1.1193 - root_mean_squared_error: 1.0580 - val_loss: 1.1198 - val_root_mean_squared_error: 1.0582\n",
      "Epoch 129/300\n",
      "2188/2188 [==============================] - 7s 3ms/step - loss: 1.1196 - root_mean_squared_error: 1.0581 - val_loss: 1.1133 - val_root_mean_squared_error: 1.0551\n",
      "Epoch 130/300\n",
      "2188/2188 [==============================] - 7s 3ms/step - loss: 1.1189 - root_mean_squared_error: 1.0578 - val_loss: 1.1190 - val_root_mean_squared_error: 1.0578\n",
      "Epoch 131/300\n",
      "2188/2188 [==============================] - 7s 3ms/step - loss: 1.1197 - root_mean_squared_error: 1.0582 - val_loss: 1.1208 - val_root_mean_squared_error: 1.0587\n",
      "Epoch 132/300\n",
      "2188/2188 [==============================] - 7s 3ms/step - loss: 1.1187 - root_mean_squared_error: 1.0577 - val_loss: 1.1384 - val_root_mean_squared_error: 1.0670\n",
      "Epoch 133/300\n",
      "2188/2188 [==============================] - 8s 3ms/step - loss: 1.1190 - root_mean_squared_error: 1.0578 - val_loss: 1.1108 - val_root_mean_squared_error: 1.0539\n",
      "Epoch 134/300\n",
      "2188/2188 [==============================] - 8s 4ms/step - loss: 1.1186 - root_mean_squared_error: 1.0576 - val_loss: 1.1227 - val_root_mean_squared_error: 1.0596\n",
      "Epoch 135/300\n",
      "2188/2188 [==============================] - 7s 3ms/step - loss: 1.1185 - root_mean_squared_error: 1.0576 - val_loss: 1.1260 - val_root_mean_squared_error: 1.0611\n",
      "Epoch 136/300\n",
      "2188/2188 [==============================] - 7s 3ms/step - loss: 1.1187 - root_mean_squared_error: 1.0577 - val_loss: 1.1148 - val_root_mean_squared_error: 1.0559\n",
      "Epoch 137/300\n",
      "2188/2188 [==============================] - 7s 3ms/step - loss: 1.1188 - root_mean_squared_error: 1.0577 - val_loss: 1.1197 - val_root_mean_squared_error: 1.0582\n",
      "Epoch 138/300\n",
      "2188/2188 [==============================] - 7s 3ms/step - loss: 1.1187 - root_mean_squared_error: 1.0577 - val_loss: 1.1207 - val_root_mean_squared_error: 1.0586\n",
      "Epoch 139/300\n",
      "2188/2188 [==============================] - 7s 3ms/step - loss: 1.1189 - root_mean_squared_error: 1.0578 - val_loss: 1.1189 - val_root_mean_squared_error: 1.0578\n",
      "Epoch 140/300\n",
      "2188/2188 [==============================] - 7s 3ms/step - loss: 1.1189 - root_mean_squared_error: 1.0578 - val_loss: 1.1164 - val_root_mean_squared_error: 1.0566\n",
      "Epoch 141/300\n",
      "2188/2188 [==============================] - 12s 5ms/step - loss: 1.1183 - root_mean_squared_error: 1.0575 - val_loss: 1.1036 - val_root_mean_squared_error: 1.0505\n",
      "Epoch 142/300\n",
      "2188/2188 [==============================] - 7s 3ms/step - loss: 1.1185 - root_mean_squared_error: 1.0576 - val_loss: 1.1111 - val_root_mean_squared_error: 1.0541\n",
      "Epoch 143/300\n",
      "2188/2188 [==============================] - 7s 3ms/step - loss: 1.1186 - root_mean_squared_error: 1.0576 - val_loss: 1.1193 - val_root_mean_squared_error: 1.0580\n",
      "Epoch 144/300\n",
      "2188/2188 [==============================] - 7s 3ms/step - loss: 1.1190 - root_mean_squared_error: 1.0578 - val_loss: 1.1259 - val_root_mean_squared_error: 1.0611\n",
      "Epoch 145/300\n",
      "2188/2188 [==============================] - 7s 3ms/step - loss: 1.1181 - root_mean_squared_error: 1.0574 - val_loss: 1.1110 - val_root_mean_squared_error: 1.0540\n",
      "Epoch 146/300\n",
      "2188/2188 [==============================] - 8s 3ms/step - loss: 1.1182 - root_mean_squared_error: 1.0575 - val_loss: 1.1159 - val_root_mean_squared_error: 1.0564\n",
      "Epoch 147/300\n",
      "2188/2188 [==============================] - 7s 3ms/step - loss: 1.1182 - root_mean_squared_error: 1.0575 - val_loss: 1.1075 - val_root_mean_squared_error: 1.0524\n",
      "Epoch 148/300\n",
      "2188/2188 [==============================] - 7s 3ms/step - loss: 1.1187 - root_mean_squared_error: 1.0577 - val_loss: 1.1101 - val_root_mean_squared_error: 1.0536\n",
      "Epoch 149/300\n",
      "2188/2188 [==============================] - 7s 3ms/step - loss: 1.1178 - root_mean_squared_error: 1.0572 - val_loss: 1.1136 - val_root_mean_squared_error: 1.0553\n",
      "Epoch 150/300\n",
      "2188/2188 [==============================] - 7s 3ms/step - loss: 1.1187 - root_mean_squared_error: 1.0577 - val_loss: 1.1153 - val_root_mean_squared_error: 1.0561\n",
      "Epoch 151/300\n",
      "2188/2188 [==============================] - 7s 3ms/step - loss: 1.1179 - root_mean_squared_error: 1.0573 - val_loss: 1.1182 - val_root_mean_squared_error: 1.0575\n",
      "Epoch 152/300\n",
      "2188/2188 [==============================] - 7s 3ms/step - loss: 1.1180 - root_mean_squared_error: 1.0574 - val_loss: 1.1294 - val_root_mean_squared_error: 1.0627\n",
      "Epoch 153/300\n",
      "2188/2188 [==============================] - 7s 3ms/step - loss: 1.1172 - root_mean_squared_error: 1.0570 - val_loss: 1.1157 - val_root_mean_squared_error: 1.0563\n",
      "Epoch 154/300\n",
      "2188/2188 [==============================] - 7s 3ms/step - loss: 1.1182 - root_mean_squared_error: 1.0574 - val_loss: 1.1222 - val_root_mean_squared_error: 1.0593\n",
      "Epoch 155/300\n",
      "2188/2188 [==============================] - 8s 4ms/step - loss: 1.1182 - root_mean_squared_error: 1.0575 - val_loss: 1.1143 - val_root_mean_squared_error: 1.0556\n",
      "Epoch 156/300\n",
      "2188/2188 [==============================] - 7s 3ms/step - loss: 1.1186 - root_mean_squared_error: 1.0576 - val_loss: 1.1123 - val_root_mean_squared_error: 1.0546\n",
      "Epoch 157/300\n",
      "2188/2188 [==============================] - 7s 3ms/step - loss: 1.1178 - root_mean_squared_error: 1.0572 - val_loss: 1.1153 - val_root_mean_squared_error: 1.0561\n",
      "Epoch 158/300\n",
      "2188/2188 [==============================] - 7s 3ms/step - loss: 1.1183 - root_mean_squared_error: 1.0575 - val_loss: 1.1090 - val_root_mean_squared_error: 1.0531\n",
      "Epoch 159/300\n",
      "2188/2188 [==============================] - 7s 3ms/step - loss: 1.1183 - root_mean_squared_error: 1.0575 - val_loss: 1.1184 - val_root_mean_squared_error: 1.0575\n",
      "Epoch 160/300\n",
      "2188/2188 [==============================] - 7s 3ms/step - loss: 1.1184 - root_mean_squared_error: 1.0576 - val_loss: 1.1186 - val_root_mean_squared_error: 1.0576\n",
      "Epoch 161/300\n",
      "2188/2188 [==============================] - 7s 3ms/step - loss: 1.1177 - root_mean_squared_error: 1.0572 - val_loss: 1.1225 - val_root_mean_squared_error: 1.0595\n",
      "Epoch 162/300\n",
      "2188/2188 [==============================] - 7s 3ms/step - loss: 1.1175 - root_mean_squared_error: 1.0571 - val_loss: 1.1140 - val_root_mean_squared_error: 1.0555\n",
      "Epoch 163/300\n",
      "2188/2188 [==============================] - 12s 5ms/step - loss: 1.1169 - root_mean_squared_error: 1.0569 - val_loss: 1.1030 - val_root_mean_squared_error: 1.0502\n",
      "Epoch 164/300\n",
      "2188/2188 [==============================] - 7s 3ms/step - loss: 1.1176 - root_mean_squared_error: 1.0571 - val_loss: 1.1183 - val_root_mean_squared_error: 1.0575\n",
      "Epoch 165/300\n",
      "2188/2188 [==============================] - 7s 3ms/step - loss: 1.1180 - root_mean_squared_error: 1.0574 - val_loss: 1.1256 - val_root_mean_squared_error: 1.0609\n",
      "Epoch 166/300\n",
      "2188/2188 [==============================] - 7s 3ms/step - loss: 1.1177 - root_mean_squared_error: 1.0572 - val_loss: 1.1176 - val_root_mean_squared_error: 1.0572\n",
      "Epoch 167/300\n",
      "2188/2188 [==============================] - 7s 3ms/step - loss: 1.1176 - root_mean_squared_error: 1.0572 - val_loss: 1.1139 - val_root_mean_squared_error: 1.0554\n",
      "Epoch 168/300\n",
      "2188/2188 [==============================] - 7s 3ms/step - loss: 1.1169 - root_mean_squared_error: 1.0568 - val_loss: 1.1033 - val_root_mean_squared_error: 1.0504\n",
      "Epoch 169/300\n",
      "2188/2188 [==============================] - 7s 3ms/step - loss: 1.1179 - root_mean_squared_error: 1.0573 - val_loss: 1.1133 - val_root_mean_squared_error: 1.0551\n",
      "Epoch 170/300\n",
      "2188/2188 [==============================] - 7s 3ms/step - loss: 1.1170 - root_mean_squared_error: 1.0569 - val_loss: 1.1159 - val_root_mean_squared_error: 1.0564\n",
      "Epoch 171/300\n",
      "2188/2188 [==============================] - 7s 3ms/step - loss: 1.1170 - root_mean_squared_error: 1.0569 - val_loss: 1.1333 - val_root_mean_squared_error: 1.0646\n",
      "Epoch 172/300\n",
      "2188/2188 [==============================] - 7s 3ms/step - loss: 1.1177 - root_mean_squared_error: 1.0572 - val_loss: 1.1228 - val_root_mean_squared_error: 1.0596\n",
      "Epoch 173/300\n",
      "2188/2188 [==============================] - 7s 3ms/step - loss: 1.1174 - root_mean_squared_error: 1.0571 - val_loss: 1.1327 - val_root_mean_squared_error: 1.0643\n",
      "Epoch 174/300\n",
      "2188/2188 [==============================] - 7s 3ms/step - loss: 1.1177 - root_mean_squared_error: 1.0572 - val_loss: 1.1055 - val_root_mean_squared_error: 1.0514\n",
      "Epoch 175/300\n",
      "2188/2188 [==============================] - 12s 5ms/step - loss: 1.1171 - root_mean_squared_error: 1.0570 - val_loss: 1.1017 - val_root_mean_squared_error: 1.0496\n",
      "Epoch 176/300\n",
      "2188/2188 [==============================] - 7s 3ms/step - loss: 1.1175 - root_mean_squared_error: 1.0571 - val_loss: 1.1235 - val_root_mean_squared_error: 1.0600\n",
      "Epoch 177/300\n",
      "2188/2188 [==============================] - 7s 3ms/step - loss: 1.1173 - root_mean_squared_error: 1.0570 - val_loss: 1.1116 - val_root_mean_squared_error: 1.0543\n",
      "Epoch 178/300\n",
      "2188/2188 [==============================] - 7s 3ms/step - loss: 1.1176 - root_mean_squared_error: 1.0571 - val_loss: 1.1126 - val_root_mean_squared_error: 1.0548\n",
      "Epoch 179/300\n",
      "2188/2188 [==============================] - 7s 3ms/step - loss: 1.1176 - root_mean_squared_error: 1.0572 - val_loss: 1.1196 - val_root_mean_squared_error: 1.0581\n",
      "Epoch 180/300\n",
      "2188/2188 [==============================] - 7s 3ms/step - loss: 1.1174 - root_mean_squared_error: 1.0571 - val_loss: 1.1261 - val_root_mean_squared_error: 1.0612\n",
      "Epoch 181/300\n",
      "2188/2188 [==============================] - 11s 5ms/step - loss: 1.1176 - root_mean_squared_error: 1.0572 - val_loss: 1.1005 - val_root_mean_squared_error: 1.0490\n",
      "Epoch 182/300\n",
      "2188/2188 [==============================] - 7s 3ms/step - loss: 1.1174 - root_mean_squared_error: 1.0571 - val_loss: 1.1079 - val_root_mean_squared_error: 1.0526\n",
      "Epoch 183/300\n",
      "2188/2188 [==============================] - 7s 3ms/step - loss: 1.1170 - root_mean_squared_error: 1.0569 - val_loss: 1.1097 - val_root_mean_squared_error: 1.0534\n",
      "Epoch 184/300\n",
      "2188/2188 [==============================] - 7s 3ms/step - loss: 1.1172 - root_mean_squared_error: 1.0570 - val_loss: 1.1219 - val_root_mean_squared_error: 1.0592\n",
      "Epoch 185/300\n",
      "2188/2188 [==============================] - 7s 3ms/step - loss: 1.1169 - root_mean_squared_error: 1.0568 - val_loss: 1.1255 - val_root_mean_squared_error: 1.0609\n",
      "Epoch 186/300\n",
      "2188/2188 [==============================] - 7s 3ms/step - loss: 1.1174 - root_mean_squared_error: 1.0571 - val_loss: 1.1104 - val_root_mean_squared_error: 1.0538\n",
      "Epoch 187/300\n",
      "2188/2188 [==============================] - 6s 3ms/step - loss: 1.1173 - root_mean_squared_error: 1.0570 - val_loss: 1.1373 - val_root_mean_squared_error: 1.0664\n",
      "Epoch 188/300\n",
      "2188/2188 [==============================] - 7s 3ms/step - loss: 1.1172 - root_mean_squared_error: 1.0570 - val_loss: 1.1129 - val_root_mean_squared_error: 1.0549\n",
      "Epoch 189/300\n",
      "2188/2188 [==============================] - 7s 3ms/step - loss: 1.1167 - root_mean_squared_error: 1.0567 - val_loss: 1.1300 - val_root_mean_squared_error: 1.0630\n",
      "Epoch 190/300\n",
      "2188/2188 [==============================] - 7s 3ms/step - loss: 1.1169 - root_mean_squared_error: 1.0568 - val_loss: 1.1183 - val_root_mean_squared_error: 1.0575\n",
      "Epoch 191/300\n",
      "2188/2188 [==============================] - 7s 3ms/step - loss: 1.1175 - root_mean_squared_error: 1.0571 - val_loss: 1.1124 - val_root_mean_squared_error: 1.0547\n",
      "Epoch 192/300\n",
      "2188/2188 [==============================] - 7s 3ms/step - loss: 1.1166 - root_mean_squared_error: 1.0567 - val_loss: 1.1264 - val_root_mean_squared_error: 1.0613\n",
      "Epoch 193/300\n",
      "2188/2188 [==============================] - 7s 3ms/step - loss: 1.1164 - root_mean_squared_error: 1.0566 - val_loss: 1.1193 - val_root_mean_squared_error: 1.0580\n",
      "Epoch 194/300\n",
      "2188/2188 [==============================] - 8s 3ms/step - loss: 1.1165 - root_mean_squared_error: 1.0567 - val_loss: 1.1278 - val_root_mean_squared_error: 1.0620\n",
      "Epoch 195/300\n",
      "2188/2188 [==============================] - 7s 3ms/step - loss: 1.1163 - root_mean_squared_error: 1.0566 - val_loss: 1.1207 - val_root_mean_squared_error: 1.0586\n",
      "Epoch 196/300\n",
      "2188/2188 [==============================] - 7s 3ms/step - loss: 1.1162 - root_mean_squared_error: 1.0565 - val_loss: 1.1079 - val_root_mean_squared_error: 1.0526\n",
      "Epoch 197/300\n",
      "2188/2188 [==============================] - 7s 3ms/step - loss: 1.1163 - root_mean_squared_error: 1.0565 - val_loss: 1.1076 - val_root_mean_squared_error: 1.0524\n",
      "Epoch 198/300\n",
      "2188/2188 [==============================] - 7s 3ms/step - loss: 1.1167 - root_mean_squared_error: 1.0567 - val_loss: 1.1134 - val_root_mean_squared_error: 1.0552\n",
      "Epoch 199/300\n",
      "2188/2188 [==============================] - 7s 3ms/step - loss: 1.1168 - root_mean_squared_error: 1.0568 - val_loss: 1.1131 - val_root_mean_squared_error: 1.0550\n",
      "Epoch 200/300\n",
      "2188/2188 [==============================] - 7s 3ms/step - loss: 1.1160 - root_mean_squared_error: 1.0564 - val_loss: 1.1051 - val_root_mean_squared_error: 1.0513\n",
      "Epoch 201/300\n",
      "2188/2188 [==============================] - 7s 3ms/step - loss: 1.1159 - root_mean_squared_error: 1.0564 - val_loss: 1.1131 - val_root_mean_squared_error: 1.0550\n",
      "Epoch 202/300\n",
      "2188/2188 [==============================] - 6s 3ms/step - loss: 1.1161 - root_mean_squared_error: 1.0564 - val_loss: 1.1105 - val_root_mean_squared_error: 1.0538\n",
      "Epoch 203/300\n",
      "2188/2188 [==============================] - 7s 3ms/step - loss: 1.1167 - root_mean_squared_error: 1.0568 - val_loss: 1.1307 - val_root_mean_squared_error: 1.0633\n",
      "Epoch 204/300\n",
      "2188/2188 [==============================] - 7s 3ms/step - loss: 1.1163 - root_mean_squared_error: 1.0565 - val_loss: 1.1035 - val_root_mean_squared_error: 1.0505\n",
      "Epoch 205/300\n",
      "2188/2188 [==============================] - 7s 3ms/step - loss: 1.1163 - root_mean_squared_error: 1.0565 - val_loss: 1.1218 - val_root_mean_squared_error: 1.0592\n",
      "Epoch 206/300\n",
      "2188/2188 [==============================] - 7s 3ms/step - loss: 1.1162 - root_mean_squared_error: 1.0565 - val_loss: 1.1192 - val_root_mean_squared_error: 1.0579\n",
      "Epoch 207/300\n",
      "2188/2188 [==============================] - 7s 3ms/step - loss: 1.1161 - root_mean_squared_error: 1.0565 - val_loss: 1.1152 - val_root_mean_squared_error: 1.0560\n",
      "Epoch 208/300\n",
      "2188/2188 [==============================] - 7s 3ms/step - loss: 1.1163 - root_mean_squared_error: 1.0565 - val_loss: 1.1074 - val_root_mean_squared_error: 1.0523\n",
      "Epoch 209/300\n",
      "2188/2188 [==============================] - 7s 3ms/step - loss: 1.1158 - root_mean_squared_error: 1.0563 - val_loss: 1.1116 - val_root_mean_squared_error: 1.0543\n",
      "Epoch 210/300\n",
      "2188/2188 [==============================] - 7s 3ms/step - loss: 1.1156 - root_mean_squared_error: 1.0562 - val_loss: 1.1169 - val_root_mean_squared_error: 1.0568\n",
      "Epoch 211/300\n",
      "2188/2188 [==============================] - 7s 3ms/step - loss: 1.1157 - root_mean_squared_error: 1.0563 - val_loss: 1.1129 - val_root_mean_squared_error: 1.0549\n",
      "Epoch 212/300\n",
      "2188/2188 [==============================] - 7s 3ms/step - loss: 1.1158 - root_mean_squared_error: 1.0563 - val_loss: 1.1122 - val_root_mean_squared_error: 1.0546\n",
      "Epoch 213/300\n",
      "2188/2188 [==============================] - 7s 3ms/step - loss: 1.1154 - root_mean_squared_error: 1.0561 - val_loss: 1.1078 - val_root_mean_squared_error: 1.0525\n",
      "Epoch 214/300\n",
      "2188/2188 [==============================] - 7s 3ms/step - loss: 1.1160 - root_mean_squared_error: 1.0564 - val_loss: 1.1115 - val_root_mean_squared_error: 1.0543\n",
      "Epoch 215/300\n",
      "2188/2188 [==============================] - 8s 4ms/step - loss: 1.1151 - root_mean_squared_error: 1.0560 - val_loss: 1.1234 - val_root_mean_squared_error: 1.0599\n",
      "Epoch 216/300\n",
      "2188/2188 [==============================] - 8s 4ms/step - loss: 1.1159 - root_mean_squared_error: 1.0564 - val_loss: 1.1109 - val_root_mean_squared_error: 1.0540\n",
      "Epoch 217/300\n",
      "2188/2188 [==============================] - 8s 3ms/step - loss: 1.1159 - root_mean_squared_error: 1.0564 - val_loss: 1.1168 - val_root_mean_squared_error: 1.0568\n",
      "Epoch 218/300\n",
      "2188/2188 [==============================] - 7s 3ms/step - loss: 1.1160 - root_mean_squared_error: 1.0564 - val_loss: 1.1197 - val_root_mean_squared_error: 1.0582\n",
      "Epoch 219/300\n",
      "2188/2188 [==============================] - 7s 3ms/step - loss: 1.1157 - root_mean_squared_error: 1.0563 - val_loss: 1.1185 - val_root_mean_squared_error: 1.0576\n",
      "Epoch 220/300\n",
      "2188/2188 [==============================] - 7s 3ms/step - loss: 1.1159 - root_mean_squared_error: 1.0564 - val_loss: 1.1175 - val_root_mean_squared_error: 1.0571\n",
      "Epoch 221/300\n",
      "2188/2188 [==============================] - 7s 3ms/step - loss: 1.1158 - root_mean_squared_error: 1.0563 - val_loss: 1.1168 - val_root_mean_squared_error: 1.0568\n",
      "Epoch 222/300\n",
      "2188/2188 [==============================] - 8s 4ms/step - loss: 1.1158 - root_mean_squared_error: 1.0563 - val_loss: 1.1147 - val_root_mean_squared_error: 1.0558\n",
      "Epoch 223/300\n",
      "2188/2188 [==============================] - 8s 4ms/step - loss: 1.1152 - root_mean_squared_error: 1.0561 - val_loss: 1.1178 - val_root_mean_squared_error: 1.0573\n",
      "Epoch 224/300\n",
      "2188/2188 [==============================] - 8s 3ms/step - loss: 1.1152 - root_mean_squared_error: 1.0560 - val_loss: 1.1110 - val_root_mean_squared_error: 1.0540\n",
      "Epoch 225/300\n",
      "2188/2188 [==============================] - 8s 4ms/step - loss: 1.1158 - root_mean_squared_error: 1.0563 - val_loss: 1.1063 - val_root_mean_squared_error: 1.0518\n",
      "Epoch 226/300\n",
      "2188/2188 [==============================] - 7s 3ms/step - loss: 1.1157 - root_mean_squared_error: 1.0562 - val_loss: 1.1089 - val_root_mean_squared_error: 1.0530\n",
      "Epoch 227/300\n",
      "2188/2188 [==============================] - 7s 3ms/step - loss: 1.1160 - root_mean_squared_error: 1.0564 - val_loss: 1.1130 - val_root_mean_squared_error: 1.0550\n",
      "Epoch 228/300\n",
      "2188/2188 [==============================] - 7s 3ms/step - loss: 1.1154 - root_mean_squared_error: 1.0561 - val_loss: 1.1226 - val_root_mean_squared_error: 1.0595\n",
      "Epoch 229/300\n",
      "2188/2188 [==============================] - 7s 3ms/step - loss: 1.1150 - root_mean_squared_error: 1.0559 - val_loss: 1.1207 - val_root_mean_squared_error: 1.0586\n",
      "Epoch 230/300\n",
      "2188/2188 [==============================] - 7s 3ms/step - loss: 1.1146 - root_mean_squared_error: 1.0558 - val_loss: 1.1097 - val_root_mean_squared_error: 1.0534\n",
      "Epoch 231/300\n",
      "2188/2188 [==============================] - 7s 3ms/step - loss: 1.1154 - root_mean_squared_error: 1.0561 - val_loss: 1.1217 - val_root_mean_squared_error: 1.0591\n",
      "Epoch 232/300\n",
      "2188/2188 [==============================] - 7s 3ms/step - loss: 1.1150 - root_mean_squared_error: 1.0560 - val_loss: 1.1047 - val_root_mean_squared_error: 1.0511\n",
      "Epoch 233/300\n",
      "2188/2188 [==============================] - 8s 3ms/step - loss: 1.1149 - root_mean_squared_error: 1.0559 - val_loss: 1.1369 - val_root_mean_squared_error: 1.0663\n",
      "Epoch 234/300\n",
      "2188/2188 [==============================] - 8s 4ms/step - loss: 1.1148 - root_mean_squared_error: 1.0558 - val_loss: 1.1256 - val_root_mean_squared_error: 1.0610\n",
      "Epoch 235/300\n",
      "2188/2188 [==============================] - 8s 4ms/step - loss: 1.1152 - root_mean_squared_error: 1.0560 - val_loss: 1.1069 - val_root_mean_squared_error: 1.0521\n",
      "Epoch 236/300\n",
      "2188/2188 [==============================] - 8s 4ms/step - loss: 1.1152 - root_mean_squared_error: 1.0561 - val_loss: 1.1141 - val_root_mean_squared_error: 1.0555\n",
      "Epoch 237/300\n",
      "2188/2188 [==============================] - 7s 3ms/step - loss: 1.1148 - root_mean_squared_error: 1.0558 - val_loss: 1.1359 - val_root_mean_squared_error: 1.0658\n",
      "Epoch 238/300\n",
      "2188/2188 [==============================] - 8s 3ms/step - loss: 1.1154 - root_mean_squared_error: 1.0561 - val_loss: 1.1231 - val_root_mean_squared_error: 1.0598\n",
      "Epoch 239/300\n",
      "2188/2188 [==============================] - 8s 4ms/step - loss: 1.1152 - root_mean_squared_error: 1.0560 - val_loss: 1.1128 - val_root_mean_squared_error: 1.0549\n",
      "Epoch 240/300\n",
      "2188/2188 [==============================] - 7s 3ms/step - loss: 1.1145 - root_mean_squared_error: 1.0557 - val_loss: 1.1036 - val_root_mean_squared_error: 1.0505\n",
      "Epoch 241/300\n",
      "2188/2188 [==============================] - 8s 3ms/step - loss: 1.1151 - root_mean_squared_error: 1.0560 - val_loss: 1.1121 - val_root_mean_squared_error: 1.0545\n",
      "Epoch 242/300\n",
      "2188/2188 [==============================] - 8s 4ms/step - loss: 1.1145 - root_mean_squared_error: 1.0557 - val_loss: 1.1261 - val_root_mean_squared_error: 1.0612\n",
      "Epoch 243/300\n",
      "2188/2188 [==============================] - 7s 3ms/step - loss: 1.1144 - root_mean_squared_error: 1.0556 - val_loss: 1.1276 - val_root_mean_squared_error: 1.0619\n",
      "Epoch 244/300\n",
      "2188/2188 [==============================] - 8s 3ms/step - loss: 1.1146 - root_mean_squared_error: 1.0557 - val_loss: 1.1188 - val_root_mean_squared_error: 1.0577\n",
      "Epoch 245/300\n",
      "2188/2188 [==============================] - 8s 4ms/step - loss: 1.1144 - root_mean_squared_error: 1.0557 - val_loss: 1.1059 - val_root_mean_squared_error: 1.0516\n",
      "Epoch 246/300\n",
      "2188/2188 [==============================] - 8s 4ms/step - loss: 1.1146 - root_mean_squared_error: 1.0558 - val_loss: 1.1119 - val_root_mean_squared_error: 1.0545\n",
      "Epoch 247/300\n",
      "2188/2188 [==============================] - 7s 3ms/step - loss: 1.1148 - root_mean_squared_error: 1.0559 - val_loss: 1.1128 - val_root_mean_squared_error: 1.0549\n",
      "Epoch 248/300\n",
      "2188/2188 [==============================] - 7s 3ms/step - loss: 1.1144 - root_mean_squared_error: 1.0557 - val_loss: 1.1360 - val_root_mean_squared_error: 1.0658\n",
      "Epoch 249/300\n",
      "2188/2188 [==============================] - 7s 3ms/step - loss: 1.1146 - root_mean_squared_error: 1.0557 - val_loss: 1.1146 - val_root_mean_squared_error: 1.0557\n",
      "Epoch 250/300\n",
      "2188/2188 [==============================] - 7s 3ms/step - loss: 1.1139 - root_mean_squared_error: 1.0554 - val_loss: 1.1032 - val_root_mean_squared_error: 1.0503\n",
      "Epoch 251/300\n",
      "2188/2188 [==============================] - 7s 3ms/step - loss: 1.1142 - root_mean_squared_error: 1.0555 - val_loss: 1.1181 - val_root_mean_squared_error: 1.0574\n",
      "Epoch 252/300\n",
      "2188/2188 [==============================] - 7s 3ms/step - loss: 1.1147 - root_mean_squared_error: 1.0558 - val_loss: 1.1281 - val_root_mean_squared_error: 1.0621\n",
      "Epoch 253/300\n",
      "2188/2188 [==============================] - 7s 3ms/step - loss: 1.1139 - root_mean_squared_error: 1.0554 - val_loss: 1.1095 - val_root_mean_squared_error: 1.0533\n",
      "Epoch 254/300\n",
      "2188/2188 [==============================] - 7s 3ms/step - loss: 1.1143 - root_mean_squared_error: 1.0556 - val_loss: 1.1112 - val_root_mean_squared_error: 1.0541\n",
      "Epoch 255/300\n",
      "2188/2188 [==============================] - 7s 3ms/step - loss: 1.1142 - root_mean_squared_error: 1.0555 - val_loss: 1.1189 - val_root_mean_squared_error: 1.0578\n",
      "Epoch 256/300\n",
      "2188/2188 [==============================] - 7s 3ms/step - loss: 1.1142 - root_mean_squared_error: 1.0556 - val_loss: 1.1070 - val_root_mean_squared_error: 1.0522\n",
      "Epoch 257/300\n",
      "2188/2188 [==============================] - 7s 3ms/step - loss: 1.1145 - root_mean_squared_error: 1.0557 - val_loss: 1.1070 - val_root_mean_squared_error: 1.0522\n",
      "Epoch 258/300\n",
      "2188/2188 [==============================] - 7s 3ms/step - loss: 1.1134 - root_mean_squared_error: 1.0552 - val_loss: 1.1192 - val_root_mean_squared_error: 1.0579\n",
      "Epoch 259/300\n",
      "2188/2188 [==============================] - 7s 3ms/step - loss: 1.1145 - root_mean_squared_error: 1.0557 - val_loss: 1.1160 - val_root_mean_squared_error: 1.0564\n",
      "Epoch 260/300\n",
      "2188/2188 [==============================] - 7s 3ms/step - loss: 1.1142 - root_mean_squared_error: 1.0556 - val_loss: 1.1128 - val_root_mean_squared_error: 1.0549\n",
      "Epoch 261/300\n",
      "2188/2188 [==============================] - 7s 3ms/step - loss: 1.1136 - root_mean_squared_error: 1.0553 - val_loss: 1.1062 - val_root_mean_squared_error: 1.0517\n",
      "Epoch 262/300\n",
      "2188/2188 [==============================] - 7s 3ms/step - loss: 1.1140 - root_mean_squared_error: 1.0555 - val_loss: 1.1228 - val_root_mean_squared_error: 1.0596\n",
      "Epoch 263/300\n",
      "2188/2188 [==============================] - 8s 4ms/step - loss: 1.1138 - root_mean_squared_error: 1.0553 - val_loss: 1.1269 - val_root_mean_squared_error: 1.0616\n",
      "Epoch 264/300\n",
      "2188/2188 [==============================] - 8s 4ms/step - loss: 1.1133 - root_mean_squared_error: 1.0551 - val_loss: 1.1176 - val_root_mean_squared_error: 1.0572\n",
      "Epoch 265/300\n",
      "2188/2188 [==============================] - 8s 4ms/step - loss: 1.1146 - root_mean_squared_error: 1.0557 - val_loss: 1.1157 - val_root_mean_squared_error: 1.0563\n",
      "Epoch 266/300\n",
      "2188/2188 [==============================] - 8s 4ms/step - loss: 1.1132 - root_mean_squared_error: 1.0551 - val_loss: 1.1188 - val_root_mean_squared_error: 1.0578\n",
      "Epoch 267/300\n",
      "2188/2188 [==============================] - 8s 4ms/step - loss: 1.1131 - root_mean_squared_error: 1.0551 - val_loss: 1.1188 - val_root_mean_squared_error: 1.0577\n",
      "Epoch 268/300\n",
      "2188/2188 [==============================] - 8s 4ms/step - loss: 1.1138 - root_mean_squared_error: 1.0554 - val_loss: 1.1260 - val_root_mean_squared_error: 1.0611\n",
      "Epoch 269/300\n",
      "2188/2188 [==============================] - 8s 4ms/step - loss: 1.1132 - root_mean_squared_error: 1.0551 - val_loss: 1.1069 - val_root_mean_squared_error: 1.0521\n",
      "Epoch 270/300\n",
      "2188/2188 [==============================] - 8s 4ms/step - loss: 1.1135 - root_mean_squared_error: 1.0552 - val_loss: 1.1115 - val_root_mean_squared_error: 1.0543\n",
      "Epoch 271/300\n",
      "2188/2188 [==============================] - 8s 3ms/step - loss: 1.1140 - root_mean_squared_error: 1.0555 - val_loss: 1.1233 - val_root_mean_squared_error: 1.0599\n",
      "Epoch 272/300\n",
      "2188/2188 [==============================] - 8s 3ms/step - loss: 1.1139 - root_mean_squared_error: 1.0554 - val_loss: 1.1208 - val_root_mean_squared_error: 1.0587\n",
      "Epoch 273/300\n",
      "2188/2188 [==============================] - 7s 3ms/step - loss: 1.1133 - root_mean_squared_error: 1.0551 - val_loss: 1.1125 - val_root_mean_squared_error: 1.0547\n",
      "Epoch 274/300\n",
      "2188/2188 [==============================] - 7s 3ms/step - loss: 1.1138 - root_mean_squared_error: 1.0554 - val_loss: 1.1268 - val_root_mean_squared_error: 1.0615\n",
      "Epoch 275/300\n",
      "2188/2188 [==============================] - 7s 3ms/step - loss: 1.1139 - root_mean_squared_error: 1.0554 - val_loss: 1.1082 - val_root_mean_squared_error: 1.0527\n",
      "Epoch 276/300\n",
      "2188/2188 [==============================] - 7s 3ms/step - loss: 1.1138 - root_mean_squared_error: 1.0554 - val_loss: 1.1204 - val_root_mean_squared_error: 1.0585\n",
      "Epoch 277/300\n",
      "2188/2188 [==============================] - 7s 3ms/step - loss: 1.1129 - root_mean_squared_error: 1.0549 - val_loss: 1.1266 - val_root_mean_squared_error: 1.0614\n",
      "Epoch 278/300\n",
      "2188/2188 [==============================] - 7s 3ms/step - loss: 1.1131 - root_mean_squared_error: 1.0551 - val_loss: 1.1336 - val_root_mean_squared_error: 1.0647\n",
      "Epoch 279/300\n",
      "2188/2188 [==============================] - 7s 3ms/step - loss: 1.1133 - root_mean_squared_error: 1.0551 - val_loss: 1.1159 - val_root_mean_squared_error: 1.0564\n",
      "Epoch 280/300\n",
      "2188/2188 [==============================] - 7s 3ms/step - loss: 1.1130 - root_mean_squared_error: 1.0550 - val_loss: 1.1074 - val_root_mean_squared_error: 1.0523\n",
      "Epoch 281/300\n",
      "2188/2188 [==============================] - 8s 4ms/step - loss: 1.1136 - root_mean_squared_error: 1.0553 - val_loss: 1.1223 - val_root_mean_squared_error: 1.0594\n",
      "Epoch 282/300\n",
      "2188/2188 [==============================] - 8s 4ms/step - loss: 1.1132 - root_mean_squared_error: 1.0551 - val_loss: 1.1137 - val_root_mean_squared_error: 1.0553\n",
      "Epoch 283/300\n",
      "2188/2188 [==============================] - 7s 3ms/step - loss: 1.1135 - root_mean_squared_error: 1.0552 - val_loss: 1.1234 - val_root_mean_squared_error: 1.0599\n",
      "Epoch 284/300\n",
      "2188/2188 [==============================] - 7s 3ms/step - loss: 1.1131 - root_mean_squared_error: 1.0550 - val_loss: 1.1113 - val_root_mean_squared_error: 1.0542\n",
      "Epoch 285/300\n",
      "2188/2188 [==============================] - 7s 3ms/step - loss: 1.1132 - root_mean_squared_error: 1.0551 - val_loss: 1.1317 - val_root_mean_squared_error: 1.0638\n",
      "Epoch 286/300\n",
      "2188/2188 [==============================] - 7s 3ms/step - loss: 1.1135 - root_mean_squared_error: 1.0552 - val_loss: 1.1298 - val_root_mean_squared_error: 1.0629\n",
      "Epoch 287/300\n",
      "2188/2188 [==============================] - 7s 3ms/step - loss: 1.1127 - root_mean_squared_error: 1.0549 - val_loss: 1.1294 - val_root_mean_squared_error: 1.0627\n",
      "Epoch 288/300\n",
      "2188/2188 [==============================] - 8s 3ms/step - loss: 1.1127 - root_mean_squared_error: 1.0548 - val_loss: 1.1249 - val_root_mean_squared_error: 1.0606\n",
      "Epoch 289/300\n",
      "2188/2188 [==============================] - 8s 4ms/step - loss: 1.1128 - root_mean_squared_error: 1.0549 - val_loss: 1.1074 - val_root_mean_squared_error: 1.0523\n",
      "Epoch 290/300\n",
      "2188/2188 [==============================] - 8s 4ms/step - loss: 1.1128 - root_mean_squared_error: 1.0549 - val_loss: 1.1287 - val_root_mean_squared_error: 1.0624\n",
      "Epoch 291/300\n",
      "2188/2188 [==============================] - 8s 3ms/step - loss: 1.1128 - root_mean_squared_error: 1.0549 - val_loss: 1.1268 - val_root_mean_squared_error: 1.0615\n",
      "Epoch 292/300\n",
      "2188/2188 [==============================] - 7s 3ms/step - loss: 1.1134 - root_mean_squared_error: 1.0552 - val_loss: 1.1271 - val_root_mean_squared_error: 1.0617\n",
      "Epoch 293/300\n",
      "2188/2188 [==============================] - 7s 3ms/step - loss: 1.1132 - root_mean_squared_error: 1.0551 - val_loss: 1.1271 - val_root_mean_squared_error: 1.0617\n",
      "Epoch 294/300\n",
      "2188/2188 [==============================] - 7s 3ms/step - loss: 1.1129 - root_mean_squared_error: 1.0549 - val_loss: 1.1094 - val_root_mean_squared_error: 1.0533\n",
      "Epoch 295/300\n",
      "2188/2188 [==============================] - 7s 3ms/step - loss: 1.1130 - root_mean_squared_error: 1.0550 - val_loss: 1.1084 - val_root_mean_squared_error: 1.0528\n",
      "Epoch 296/300\n",
      "2188/2188 [==============================] - 7s 3ms/step - loss: 1.1133 - root_mean_squared_error: 1.0551 - val_loss: 1.1177 - val_root_mean_squared_error: 1.0572\n",
      "Epoch 297/300\n",
      "2188/2188 [==============================] - 7s 3ms/step - loss: 1.1130 - root_mean_squared_error: 1.0550 - val_loss: 1.1244 - val_root_mean_squared_error: 1.0604\n",
      "Epoch 298/300\n",
      "2188/2188 [==============================] - 8s 4ms/step - loss: 1.1125 - root_mean_squared_error: 1.0547 - val_loss: 1.1222 - val_root_mean_squared_error: 1.0594\n",
      "Epoch 299/300\n",
      "2188/2188 [==============================] - 8s 3ms/step - loss: 1.1127 - root_mean_squared_error: 1.0548 - val_loss: 1.1130 - val_root_mean_squared_error: 1.0550\n",
      "Epoch 300/300\n",
      "2188/2188 [==============================] - 8s 4ms/step - loss: 1.1130 - root_mean_squared_error: 1.0550 - val_loss: 1.1232 - val_root_mean_squared_error: 1.0598\n"
     ]
    }
   ],
   "source": [
    "History_3 = model3.fit(X_train1, y_train1, validation_data=(X_val1, y_val1), epochs=300, callbacks=[cp3])"
   ]
  },
  {
   "cell_type": "code",
   "execution_count": 25,
   "metadata": {
    "execution": {
     "iopub.execute_input": "2022-11-12T13:21:45.032250Z",
     "iopub.status.busy": "2022-11-12T13:21:45.031560Z",
     "iopub.status.idle": "2022-11-12T13:21:45.035430Z",
     "shell.execute_reply": "2022-11-12T13:21:45.034768Z",
     "shell.execute_reply.started": "2022-11-12T12:38:03.960906Z"
    },
    "papermill": {
     "duration": 12.233457,
     "end_time": "2022-11-12T13:21:45.035548",
     "exception": false,
     "start_time": "2022-11-12T13:21:32.802091",
     "status": "completed"
    },
    "tags": []
   },
   "outputs": [
    {
     "data": {
      "text/plain": [
       "dict_keys(['loss', 'root_mean_squared_error', 'val_loss', 'val_root_mean_squared_error'])"
      ]
     },
     "execution_count": 25,
     "metadata": {},
     "output_type": "execute_result"
    }
   ],
   "source": [
    "History_3.history.keys()"
   ]
  },
  {
   "cell_type": "code",
   "execution_count": 26,
   "metadata": {
    "execution": {
     "iopub.execute_input": "2022-11-12T13:22:09.450692Z",
     "iopub.status.busy": "2022-11-12T13:22:09.449560Z",
     "iopub.status.idle": "2022-11-12T13:22:09.646521Z",
     "shell.execute_reply": "2022-11-12T13:22:09.645815Z",
     "shell.execute_reply.started": "2022-11-12T12:38:05.017283Z"
    },
    "papermill": {
     "duration": 12.382528,
     "end_time": "2022-11-12T13:22:09.646648",
     "exception": false,
     "start_time": "2022-11-12T13:21:57.264120",
     "status": "completed"
    },
    "tags": []
   },
   "outputs": [
    {
     "data": {
      "text/plain": [
       "<matplotlib.legend.Legend at 0x7f8ffc25ba50>"
      ]
     },
     "execution_count": 26,
     "metadata": {},
     "output_type": "execute_result"
    },
    {
     "data": {
      "image/png": "[encoded data removed]",
      "text/plain": [
       "<Figure size 720x432 with 1 Axes>"
      ]
     },
     "metadata": {
      "needs_background": "light"
     },
     "output_type": "display_data"
    }
   ],
   "source": [
    "plt.figure(figsize = (10, 6))\n",
    "plt.plot(History_3.history['loss'])\n",
    "plt.plot(History_3.history['val_loss'])\n",
    "plt.title('Train vs Validation Loss for Univariate LSTM')\n",
    "plt.ylabel('Loss')\n",
    "plt.xlabel('epoch')\n",
    "plt.legend(['Train loss', 'Validation loss'], loc='upper right')"
   ]
  },
  {
   "cell_type": "code",
   "execution_count": 27,
   "metadata": {
    "execution": {
     "iopub.execute_input": "2022-11-12T13:22:34.729039Z",
     "iopub.status.busy": "2022-11-12T13:22:34.728060Z",
     "iopub.status.idle": "2022-11-12T13:22:37.274435Z",
     "shell.execute_reply": "2022-11-12T13:22:37.275464Z",
     "shell.execute_reply.started": "2022-11-12T12:38:06.756740Z"
    },
    "papermill": {
     "duration": 15.098889,
     "end_time": "2022-11-12T13:22:37.275645",
     "exception": false,
     "start_time": "2022-11-12T13:22:22.176756",
     "status": "completed"
    },
    "tags": []
   },
   "outputs": [],
   "source": [
    "from tensorflow.keras.models import load_model\n",
    "model3 = load_model('model3/')"
   ]
  },
  {
   "cell_type": "code",
   "execution_count": 28,
   "metadata": {
    "execution": {
     "iopub.execute_input": "2022-11-12T13:23:01.771768Z",
     "iopub.status.busy": "2022-11-12T13:23:01.770813Z",
     "iopub.status.idle": "2022-11-12T13:23:04.306322Z",
     "shell.execute_reply": "2022-11-12T13:23:04.305381Z",
     "shell.execute_reply.started": "2022-11-12T12:41:25.814380Z"
    },
    "papermill": {
     "duration": 14.520708,
     "end_time": "2022-11-12T13:23:04.306463",
     "exception": false,
     "start_time": "2022-11-12T13:22:49.785755",
     "status": "completed"
    },
    "tags": []
   },
   "outputs": [
    {
     "data": {
      "text/html": [
       "<div>\n",
       "<style scoped>\n",
       "    .dataframe tbody tr th:only-of-type {\n",
       "        vertical-align: middle;\n",
       "    }\n",
       "\n",
       "    .dataframe tbody tr th {\n",
       "        vertical-align: top;\n",
       "    }\n",
       "\n",
       "    .dataframe thead th {\n",
       "        text-align: right;\n",
       "    }\n",
       "</style>\n",
       "<table border=\"1\" class=\"dataframe\">\n",
       "  <thead>\n",
       "    <tr style=\"text-align: right;\">\n",
       "      <th></th>\n",
       "      <th>Train Predictions</th>\n",
       "      <th>Actuals</th>\n",
       "    </tr>\n",
       "  </thead>\n",
       "  <tbody>\n",
       "    <tr>\n",
       "      <th>0</th>\n",
       "      <td>5.024975</td>\n",
       "      <td>5.00</td>\n",
       "    </tr>\n",
       "    <tr>\n",
       "      <th>1</th>\n",
       "      <td>5.095970</td>\n",
       "      <td>5.00</td>\n",
       "    </tr>\n",
       "    <tr>\n",
       "      <th>2</th>\n",
       "      <td>5.059266</td>\n",
       "      <td>5.00</td>\n",
       "    </tr>\n",
       "    <tr>\n",
       "      <th>3</th>\n",
       "      <td>5.059266</td>\n",
       "      <td>4.00</td>\n",
       "    </tr>\n",
       "    <tr>\n",
       "      <th>4</th>\n",
       "      <td>4.191221</td>\n",
       "      <td>1.25</td>\n",
       "    </tr>\n",
       "    <tr>\n",
       "      <th>5</th>\n",
       "      <td>1.950192</td>\n",
       "      <td>2.50</td>\n",
       "    </tr>\n",
       "    <tr>\n",
       "      <th>6</th>\n",
       "      <td>3.656052</td>\n",
       "      <td>2.50</td>\n",
       "    </tr>\n",
       "    <tr>\n",
       "      <th>7</th>\n",
       "      <td>3.543867</td>\n",
       "      <td>5.00</td>\n",
       "    </tr>\n",
       "    <tr>\n",
       "      <th>8</th>\n",
       "      <td>5.942211</td>\n",
       "      <td>5.00</td>\n",
       "    </tr>\n",
       "    <tr>\n",
       "      <th>9</th>\n",
       "      <td>5.728166</td>\n",
       "      <td>7.00</td>\n",
       "    </tr>\n",
       "  </tbody>\n",
       "</table>\n",
       "</div>"
      ],
      "text/plain": [
       "   Train Predictions  Actuals\n",
       "0           5.024975     5.00\n",
       "1           5.095970     5.00\n",
       "2           5.059266     5.00\n",
       "3           5.059266     4.00\n",
       "4           4.191221     1.25\n",
       "5           1.950192     2.50\n",
       "6           3.656052     2.50\n",
       "7           3.543867     5.00\n",
       "8           5.942211     5.00\n",
       "9           5.728166     7.00"
      ]
     },
     "execution_count": 28,
     "metadata": {},
     "output_type": "execute_result"
    }
   ],
   "source": [
    "train_predictions_1 = model3.predict(X_train1).flatten()\n",
    "train_results_1 = pd.DataFrame(data={'Train Predictions':train_predictions_1, 'Actuals':y_train1})\n",
    "train_results_1.head(10)"
   ]
  },
  {
   "cell_type": "code",
   "execution_count": 29,
   "metadata": {
    "execution": {
     "iopub.execute_input": "2022-11-12T13:23:28.891415Z",
     "iopub.status.busy": "2022-11-12T13:23:28.890734Z",
     "iopub.status.idle": "2022-11-12T13:23:29.255638Z",
     "shell.execute_reply": "2022-11-12T13:23:29.254975Z",
     "shell.execute_reply.started": "2022-11-12T12:38:21.894946Z"
    },
    "papermill": {
     "duration": 12.914624,
     "end_time": "2022-11-12T13:23:29.255755",
     "exception": false,
     "start_time": "2022-11-12T13:23:16.341131",
     "status": "completed"
    },
    "tags": []
   },
   "outputs": [
    {
     "data": {
      "text/plain": [
       "<matplotlib.legend.Legend at 0x7f8fdb183a90>"
      ]
     },
     "execution_count": 29,
     "metadata": {},
     "output_type": "execute_result"
    },
    {
     "data": {
      "image/png": "[encoded data removed]",
      "text/plain": [
       "<Figure size 720x432 with 1 Axes>"
      ]
     },
     "metadata": {
      "needs_background": "light"
     },
     "output_type": "display_data"
    }
   ],
   "source": [
    "plt.figure(figsize = (10, 6))\n",
    "plt.plot(train_results_1['Train Predictions'])\n",
    "plt.plot(train_results_1['Actuals'])\n",
    "plt.title('Train Predictions vs Actuals for Univariate LSTM')\n",
    "plt.legend(['Train Predictions', 'Actuals'], loc='lower right')"
   ]
  },
  {
   "cell_type": "code",
   "execution_count": 30,
   "metadata": {
    "execution": {
     "iopub.execute_input": "2022-11-12T13:23:53.576112Z",
     "iopub.status.busy": "2022-11-12T13:23:53.575002Z",
     "iopub.status.idle": "2022-11-12T13:23:53.581633Z",
     "shell.execute_reply": "2022-11-12T13:23:53.581073Z",
     "shell.execute_reply.started": "2022-11-12T12:41:46.477123Z"
    },
    "papermill": {
     "duration": 12.26819,
     "end_time": "2022-11-12T13:23:53.581760",
     "exception": false,
     "start_time": "2022-11-12T13:23:41.313570",
     "status": "completed"
    },
    "tags": []
   },
   "outputs": [
    {
     "data": {
      "text/plain": [
       "1.0561231898963759"
      ]
     },
     "execution_count": 30,
     "metadata": {},
     "output_type": "execute_result"
    }
   ],
   "source": [
    "rms = sqrt(mean_squared_error(y_train1, train_predictions_1))\n",
    "rms"
   ]
  },
  {
   "cell_type": "markdown",
   "metadata": {
    "papermill": {
     "duration": 12.332446,
     "end_time": "2022-11-12T13:24:17.963831",
     "exception": false,
     "start_time": "2022-11-12T13:24:05.631385",
     "status": "completed"
    },
    "tags": []
   },
   "source": [
    "To see limited train results"
   ]
  },
  {
   "cell_type": "code",
   "execution_count": 31,
   "metadata": {
    "execution": {
     "iopub.execute_input": "2022-11-12T13:24:42.548354Z",
     "iopub.status.busy": "2022-11-12T13:24:42.547645Z",
     "iopub.status.idle": "2022-11-12T13:24:42.551089Z",
     "shell.execute_reply": "2022-11-12T13:24:42.550530Z",
     "shell.execute_reply.started": "2022-11-12T12:38:26.768407Z"
    },
    "papermill": {
     "duration": 12.285604,
     "end_time": "2022-11-12T13:24:42.551215",
     "exception": false,
     "start_time": "2022-11-12T13:24:30.265611",
     "status": "completed"
    },
    "tags": []
   },
   "outputs": [],
   "source": [
    "train_results_minimize = train_results_1[100:300]"
   ]
  },
  {
   "cell_type": "code",
   "execution_count": 32,
   "metadata": {
    "execution": {
     "iopub.execute_input": "2022-11-12T13:25:07.270642Z",
     "iopub.status.busy": "2022-11-12T13:25:07.269643Z",
     "iopub.status.idle": "2022-11-12T13:25:07.273296Z",
     "shell.execute_reply": "2022-11-12T13:25:07.273926Z",
     "shell.execute_reply.started": "2022-11-12T12:38:26.987303Z"
    },
    "papermill": {
     "duration": 12.467308,
     "end_time": "2022-11-12T13:25:07.274113",
     "exception": false,
     "start_time": "2022-11-12T13:24:54.806805",
     "status": "completed"
    },
    "tags": []
   },
   "outputs": [
    {
     "data": {
      "text/plain": [
       "(200, 2)"
      ]
     },
     "execution_count": 32,
     "metadata": {},
     "output_type": "execute_result"
    }
   ],
   "source": [
    "train_results_minimize.shape"
   ]
  },
  {
   "cell_type": "code",
   "execution_count": 33,
   "metadata": {
    "execution": {
     "iopub.execute_input": "2022-11-12T13:25:32.655643Z",
     "iopub.status.busy": "2022-11-12T13:25:32.644433Z",
     "iopub.status.idle": "2022-11-12T13:25:32.848188Z",
     "shell.execute_reply": "2022-11-12T13:25:32.848716Z",
     "shell.execute_reply.started": "2022-11-12T12:38:27.196712Z"
    },
    "papermill": {
     "duration": 12.58695,
     "end_time": "2022-11-12T13:25:32.848871",
     "exception": false,
     "start_time": "2022-11-12T13:25:20.261921",
     "status": "completed"
    },
    "tags": []
   },
   "outputs": [
    {
     "data": {
      "text/plain": [
       "<matplotlib.legend.Legend at 0x7f8ffc36a3d0>"
      ]
     },
     "execution_count": 33,
     "metadata": {},
     "output_type": "execute_result"
    },
    {
     "data": {
      "image/png": "[encoded data removed]",
      "text/plain": [
       "<Figure size 720x432 with 1 Axes>"
      ]
     },
     "metadata": {
      "needs_background": "light"
     },
     "output_type": "display_data"
    }
   ],
   "source": [
    "plt.figure(figsize = (10, 6))\n",
    "plt.plot(train_results_minimize['Train Predictions'])\n",
    "plt.plot(train_results_minimize['Actuals'])\n",
    "plt.title('Train Predictions vs Actuals for Univariate LSTM')\n",
    "plt.legend(['Train Predictions', 'Actuals'], loc='lower right')"
   ]
  },
  {
   "cell_type": "code",
   "execution_count": 34,
   "metadata": {
    "execution": {
     "iopub.execute_input": "2022-11-12T13:25:57.509102Z",
     "iopub.status.busy": "2022-11-12T13:25:57.508058Z",
     "iopub.status.idle": "2022-11-12T13:25:57.656216Z",
     "shell.execute_reply": "2022-11-12T13:25:57.655490Z",
     "shell.execute_reply.started": "2022-11-12T12:38:31.385348Z"
    },
    "papermill": {
     "duration": 12.516854,
     "end_time": "2022-11-12T13:25:57.656370",
     "exception": false,
     "start_time": "2022-11-12T13:25:45.139516",
     "status": "completed"
    },
    "tags": []
   },
   "outputs": [
    {
     "data": {
      "text/html": [
       "<div>\n",
       "<style scoped>\n",
       "    .dataframe tbody tr th:only-of-type {\n",
       "        vertical-align: middle;\n",
       "    }\n",
       "\n",
       "    .dataframe tbody tr th {\n",
       "        vertical-align: top;\n",
       "    }\n",
       "\n",
       "    .dataframe thead th {\n",
       "        text-align: right;\n",
       "    }\n",
       "</style>\n",
       "<table border=\"1\" class=\"dataframe\">\n",
       "  <thead>\n",
       "    <tr style=\"text-align: right;\">\n",
       "      <th></th>\n",
       "      <th>Val Predictions</th>\n",
       "      <th>Actuals</th>\n",
       "    </tr>\n",
       "  </thead>\n",
       "  <tbody>\n",
       "    <tr>\n",
       "      <th>0</th>\n",
       "      <td>9.944838</td>\n",
       "      <td>10.0</td>\n",
       "    </tr>\n",
       "    <tr>\n",
       "      <th>1</th>\n",
       "      <td>9.944838</td>\n",
       "      <td>10.0</td>\n",
       "    </tr>\n",
       "    <tr>\n",
       "      <th>2</th>\n",
       "      <td>9.944838</td>\n",
       "      <td>10.0</td>\n",
       "    </tr>\n",
       "    <tr>\n",
       "      <th>3</th>\n",
       "      <td>9.944838</td>\n",
       "      <td>10.0</td>\n",
       "    </tr>\n",
       "    <tr>\n",
       "      <th>4</th>\n",
       "      <td>9.944838</td>\n",
       "      <td>10.0</td>\n",
       "    </tr>\n",
       "    <tr>\n",
       "      <th>5</th>\n",
       "      <td>9.944838</td>\n",
       "      <td>10.0</td>\n",
       "    </tr>\n",
       "    <tr>\n",
       "      <th>6</th>\n",
       "      <td>9.944838</td>\n",
       "      <td>10.0</td>\n",
       "    </tr>\n",
       "    <tr>\n",
       "      <th>7</th>\n",
       "      <td>9.944838</td>\n",
       "      <td>10.0</td>\n",
       "    </tr>\n",
       "    <tr>\n",
       "      <th>8</th>\n",
       "      <td>9.944838</td>\n",
       "      <td>10.0</td>\n",
       "    </tr>\n",
       "    <tr>\n",
       "      <th>9</th>\n",
       "      <td>9.944838</td>\n",
       "      <td>10.0</td>\n",
       "    </tr>\n",
       "  </tbody>\n",
       "</table>\n",
       "</div>"
      ],
      "text/plain": [
       "   Val Predictions  Actuals\n",
       "0         9.944838     10.0\n",
       "1         9.944838     10.0\n",
       "2         9.944838     10.0\n",
       "3         9.944838     10.0\n",
       "4         9.944838     10.0\n",
       "5         9.944838     10.0\n",
       "6         9.944838     10.0\n",
       "7         9.944838     10.0\n",
       "8         9.944838     10.0\n",
       "9         9.944838     10.0"
      ]
     },
     "execution_count": 34,
     "metadata": {},
     "output_type": "execute_result"
    }
   ],
   "source": [
    "val_predictions_1 = model3.predict(X_val1).flatten()\n",
    "val_results_1 = pd.DataFrame(data={'Val Predictions':val_predictions_1, 'Actuals':y_val1})\n",
    "val_results_1.head(10)"
   ]
  },
  {
   "cell_type": "code",
   "execution_count": 35,
   "metadata": {
    "execution": {
     "iopub.execute_input": "2022-11-12T13:26:22.182659Z",
     "iopub.status.busy": "2022-11-12T13:26:22.181655Z",
     "iopub.status.idle": "2022-11-12T13:26:22.186923Z",
     "shell.execute_reply": "2022-11-12T13:26:22.186329Z",
     "shell.execute_reply.started": "2022-11-12T12:38:32.222969Z"
    },
    "papermill": {
     "duration": 12.200361,
     "end_time": "2022-11-12T13:26:22.187055",
     "exception": false,
     "start_time": "2022-11-12T13:26:09.986694",
     "status": "completed"
    },
    "tags": []
   },
   "outputs": [
    {
     "data": {
      "text/plain": [
       "(3000, 2)"
      ]
     },
     "execution_count": 35,
     "metadata": {},
     "output_type": "execute_result"
    }
   ],
   "source": [
    "val_results_1.shape"
   ]
  },
  {
   "cell_type": "code",
   "execution_count": 36,
   "metadata": {
    "execution": {
     "iopub.execute_input": "2022-11-12T13:26:46.696290Z",
     "iopub.status.busy": "2022-11-12T13:26:46.691638Z",
     "iopub.status.idle": "2022-11-12T13:26:46.889096Z",
     "shell.execute_reply": "2022-11-12T13:26:46.888371Z",
     "shell.execute_reply.started": "2022-11-12T12:38:33.054275Z"
    },
    "papermill": {
     "duration": 12.354445,
     "end_time": "2022-11-12T13:26:46.889277",
     "exception": false,
     "start_time": "2022-11-12T13:26:34.534832",
     "status": "completed"
    },
    "tags": []
   },
   "outputs": [
    {
     "data": {
      "text/plain": [
       "<matplotlib.legend.Legend at 0x7f8fdadf64d0>"
      ]
     },
     "execution_count": 36,
     "metadata": {},
     "output_type": "execute_result"
    },
    {
     "data": {
      "image/png": "[encoded data removed]",
      "text/plain": [
       "<Figure size 720x432 with 1 Axes>"
      ]
     },
     "metadata": {
      "needs_background": "light"
     },
     "output_type": "display_data"
    }
   ],
   "source": [
    "plt.figure(figsize = (10, 6))\n",
    "plt.plot(val_results_1['Val Predictions'])\n",
    "plt.plot(val_results_1['Actuals'])\n",
    "plt.title('Validation Predictions vs Actuals for Univariate LSTM')\n",
    "plt.legend(['Validation Predictions', 'Actuals'], loc='lower right')"
   ]
  },
  {
   "cell_type": "code",
   "execution_count": 37,
   "metadata": {
    "execution": {
     "iopub.execute_input": "2022-11-12T13:27:11.167677Z",
     "iopub.status.busy": "2022-11-12T13:27:11.166976Z",
     "iopub.status.idle": "2022-11-12T13:27:11.169858Z",
     "shell.execute_reply": "2022-11-12T13:27:11.170394Z",
     "shell.execute_reply.started": "2022-11-12T12:38:36.643685Z"
    },
    "papermill": {
     "duration": 12.123416,
     "end_time": "2022-11-12T13:27:11.170546",
     "exception": false,
     "start_time": "2022-11-12T13:26:59.047130",
     "status": "completed"
    },
    "tags": []
   },
   "outputs": [
    {
     "data": {
      "text/plain": [
       "1.0490322558292142"
      ]
     },
     "execution_count": 37,
     "metadata": {},
     "output_type": "execute_result"
    }
   ],
   "source": [
    "rms = sqrt(mean_squared_error(y_val1, val_predictions_1))\n",
    "rms"
   ]
  },
  {
   "cell_type": "markdown",
   "metadata": {
    "papermill": {
     "duration": 12.331781,
     "end_time": "2022-11-12T13:27:35.619127",
     "exception": false,
     "start_time": "2022-11-12T13:27:23.287346",
     "status": "completed"
    },
    "tags": []
   },
   "source": [
    "To see limited validation data:"
   ]
  },
  {
   "cell_type": "code",
   "execution_count": 38,
   "metadata": {
    "execution": {
     "iopub.execute_input": "2022-11-12T13:28:00.314714Z",
     "iopub.status.busy": "2022-11-12T13:28:00.314005Z",
     "iopub.status.idle": "2022-11-12T13:28:00.316592Z",
     "shell.execute_reply": "2022-11-12T13:28:00.317121Z",
     "shell.execute_reply.started": "2022-11-12T12:38:37.862844Z"
    },
    "papermill": {
     "duration": 12.308008,
     "end_time": "2022-11-12T13:28:00.317338",
     "exception": false,
     "start_time": "2022-11-12T13:27:48.009330",
     "status": "completed"
    },
    "tags": []
   },
   "outputs": [],
   "source": [
    "val_results_minimize = val_results_1[100:300]"
   ]
  },
  {
   "cell_type": "code",
   "execution_count": 39,
   "metadata": {
    "execution": {
     "iopub.execute_input": "2022-11-12T13:28:24.716686Z",
     "iopub.status.busy": "2022-11-12T13:28:24.716008Z",
     "iopub.status.idle": "2022-11-12T13:28:24.720527Z",
     "shell.execute_reply": "2022-11-12T13:28:24.721090Z",
     "shell.execute_reply.started": "2022-11-12T12:38:38.148976Z"
    },
    "papermill": {
     "duration": 12.154131,
     "end_time": "2022-11-12T13:28:24.721247",
     "exception": false,
     "start_time": "2022-11-12T13:28:12.567116",
     "status": "completed"
    },
    "tags": []
   },
   "outputs": [
    {
     "data": {
      "text/plain": [
       "(200, 2)"
      ]
     },
     "execution_count": 39,
     "metadata": {},
     "output_type": "execute_result"
    }
   ],
   "source": [
    "val_results_minimize.shape"
   ]
  },
  {
   "cell_type": "code",
   "execution_count": 40,
   "metadata": {
    "execution": {
     "iopub.execute_input": "2022-11-12T13:28:49.140959Z",
     "iopub.status.busy": "2022-11-12T13:28:49.139918Z",
     "iopub.status.idle": "2022-11-12T13:28:49.328408Z",
     "shell.execute_reply": "2022-11-12T13:28:49.328987Z",
     "shell.execute_reply.started": "2022-11-12T12:38:39.576492Z"
    },
    "papermill": {
     "duration": 12.500194,
     "end_time": "2022-11-12T13:28:49.329150",
     "exception": false,
     "start_time": "2022-11-12T13:28:36.828956",
     "status": "completed"
    },
    "tags": []
   },
   "outputs": [
    {
     "data": {
      "text/plain": [
       "<matplotlib.legend.Legend at 0x7f8fdbc81a50>"
      ]
     },
     "execution_count": 40,
     "metadata": {},
     "output_type": "execute_result"
    },
    {
     "data": {
      "image/png": "[encoded data removed]",
      "text/plain": [
       "<Figure size 720x432 with 1 Axes>"
      ]
     },
     "metadata": {
      "needs_background": "light"
     },
     "output_type": "display_data"
    }
   ],
   "source": [
    "plt.figure(figsize = (10, 6))\n",
    "plt.plot(val_results_minimize['Val Predictions'])\n",
    "plt.plot(val_results_minimize['Actuals'])\n",
    "plt.title('Validation Predictions vs Actuals for Univariate LSTM')\n",
    "plt.legend(['Validation Predictions', 'Actuals'], loc='lower right')"
   ]
  },
  {
   "cell_type": "code",
   "execution_count": 41,
   "metadata": {
    "execution": {
     "iopub.execute_input": "2022-11-12T13:29:13.928125Z",
     "iopub.status.busy": "2022-11-12T13:29:13.927122Z",
     "iopub.status.idle": "2022-11-12T13:29:14.047273Z",
     "shell.execute_reply": "2022-11-12T13:29:14.046710Z",
     "shell.execute_reply.started": "2022-11-12T12:38:42.974055Z"
    },
    "papermill": {
     "duration": 12.581947,
     "end_time": "2022-11-12T13:29:14.047402",
     "exception": false,
     "start_time": "2022-11-12T13:29:01.465455",
     "status": "completed"
    },
    "tags": []
   },
   "outputs": [
    {
     "data": {
      "text/html": [
       "<div>\n",
       "<style scoped>\n",
       "    .dataframe tbody tr th:only-of-type {\n",
       "        vertical-align: middle;\n",
       "    }\n",
       "\n",
       "    .dataframe tbody tr th {\n",
       "        vertical-align: top;\n",
       "    }\n",
       "\n",
       "    .dataframe thead th {\n",
       "        text-align: right;\n",
       "    }\n",
       "</style>\n",
       "<table border=\"1\" class=\"dataframe\">\n",
       "  <thead>\n",
       "    <tr style=\"text-align: right;\">\n",
       "      <th></th>\n",
       "      <th>Test Predictions</th>\n",
       "      <th>Actuals</th>\n",
       "    </tr>\n",
       "  </thead>\n",
       "  <tbody>\n",
       "    <tr>\n",
       "      <th>0</th>\n",
       "      <td>9.944838</td>\n",
       "      <td>10.0</td>\n",
       "    </tr>\n",
       "    <tr>\n",
       "      <th>1</th>\n",
       "      <td>9.944838</td>\n",
       "      <td>10.0</td>\n",
       "    </tr>\n",
       "    <tr>\n",
       "      <th>2</th>\n",
       "      <td>9.944838</td>\n",
       "      <td>10.0</td>\n",
       "    </tr>\n",
       "    <tr>\n",
       "      <th>3</th>\n",
       "      <td>9.944838</td>\n",
       "      <td>10.0</td>\n",
       "    </tr>\n",
       "    <tr>\n",
       "      <th>4</th>\n",
       "      <td>9.944838</td>\n",
       "      <td>10.0</td>\n",
       "    </tr>\n",
       "    <tr>\n",
       "      <th>5</th>\n",
       "      <td>9.944838</td>\n",
       "      <td>10.0</td>\n",
       "    </tr>\n",
       "    <tr>\n",
       "      <th>6</th>\n",
       "      <td>9.944838</td>\n",
       "      <td>10.0</td>\n",
       "    </tr>\n",
       "    <tr>\n",
       "      <th>7</th>\n",
       "      <td>9.944838</td>\n",
       "      <td>10.0</td>\n",
       "    </tr>\n",
       "    <tr>\n",
       "      <th>8</th>\n",
       "      <td>9.944838</td>\n",
       "      <td>10.0</td>\n",
       "    </tr>\n",
       "    <tr>\n",
       "      <th>9</th>\n",
       "      <td>9.944838</td>\n",
       "      <td>10.0</td>\n",
       "    </tr>\n",
       "  </tbody>\n",
       "</table>\n",
       "</div>"
      ],
      "text/plain": [
       "   Test Predictions  Actuals\n",
       "0          9.944838     10.0\n",
       "1          9.944838     10.0\n",
       "2          9.944838     10.0\n",
       "3          9.944838     10.0\n",
       "4          9.944838     10.0\n",
       "5          9.944838     10.0\n",
       "6          9.944838     10.0\n",
       "7          9.944838     10.0\n",
       "8          9.944838     10.0\n",
       "9          9.944838     10.0"
      ]
     },
     "execution_count": 41,
     "metadata": {},
     "output_type": "execute_result"
    }
   ],
   "source": [
    "test_predictions_1 = model3.predict(X_test1).flatten()\n",
    "test_results_1 = pd.DataFrame(data={'Test Predictions':test_predictions_1, 'Actuals':y_test1})\n",
    "test_results_1.head(10)"
   ]
  },
  {
   "cell_type": "code",
   "execution_count": 42,
   "metadata": {
    "execution": {
     "iopub.execute_input": "2022-11-12T13:29:38.823374Z",
     "iopub.status.busy": "2022-11-12T13:29:38.822455Z",
     "iopub.status.idle": "2022-11-12T13:29:38.826942Z",
     "shell.execute_reply": "2022-11-12T13:29:38.827487Z",
     "shell.execute_reply.started": "2022-11-12T12:38:44.985913Z"
    },
    "papermill": {
     "duration": 12.598154,
     "end_time": "2022-11-12T13:29:38.827644",
     "exception": false,
     "start_time": "2022-11-12T13:29:26.229490",
     "status": "completed"
    },
    "tags": []
   },
   "outputs": [
    {
     "data": {
      "text/plain": [
       "(2116, 2)"
      ]
     },
     "execution_count": 42,
     "metadata": {},
     "output_type": "execute_result"
    }
   ],
   "source": [
    "test_results_1.shape"
   ]
  },
  {
   "cell_type": "code",
   "execution_count": 43,
   "metadata": {
    "execution": {
     "iopub.execute_input": "2022-11-12T13:30:03.465600Z",
     "iopub.status.busy": "2022-11-12T13:30:03.459923Z",
     "iopub.status.idle": "2022-11-12T13:30:03.672132Z",
     "shell.execute_reply": "2022-11-12T13:30:03.671382Z",
     "shell.execute_reply.started": "2022-11-12T12:38:45.225996Z"
    },
    "papermill": {
     "duration": 12.507564,
     "end_time": "2022-11-12T13:30:03.672269",
     "exception": false,
     "start_time": "2022-11-12T13:29:51.164705",
     "status": "completed"
    },
    "tags": []
   },
   "outputs": [
    {
     "data": {
      "text/plain": [
       "<matplotlib.legend.Legend at 0x7f90202efd50>"
      ]
     },
     "execution_count": 43,
     "metadata": {},
     "output_type": "execute_result"
    },
    {
     "data": {
      "image/png": "[encoded data removed]",
      "text/plain": [
       "<Figure size 720x432 with 1 Axes>"
      ]
     },
     "metadata": {
      "needs_background": "light"
     },
     "output_type": "display_data"
    }
   ],
   "source": [
    "plt.figure(figsize = (10, 6))\n",
    "plt.plot(test_results_1['Test Predictions'])\n",
    "plt.plot(test_results_1['Actuals'])\n",
    "plt.title('Test Predictions vs Actuals for Univariate LSTM')\n",
    "plt.legend(['Test Predictions', 'Actuals'], loc='lower right')"
   ]
  },
  {
   "cell_type": "code",
   "execution_count": 44,
   "metadata": {
    "execution": {
     "iopub.execute_input": "2022-11-12T13:30:28.421806Z",
     "iopub.status.busy": "2022-11-12T13:30:28.421127Z",
     "iopub.status.idle": "2022-11-12T13:30:28.424163Z",
     "shell.execute_reply": "2022-11-12T13:30:28.424639Z",
     "shell.execute_reply.started": "2022-11-12T12:38:48.061479Z"
    },
    "papermill": {
     "duration": 12.397708,
     "end_time": "2022-11-12T13:30:28.424799",
     "exception": false,
     "start_time": "2022-11-12T13:30:16.027091",
     "status": "completed"
    },
    "tags": []
   },
   "outputs": [
    {
     "data": {
      "text/plain": [
       "1.1654473338572082"
      ]
     },
     "execution_count": 44,
     "metadata": {},
     "output_type": "execute_result"
    }
   ],
   "source": [
    "rms = sqrt(mean_squared_error(y_test1, test_predictions_1))\n",
    "rms"
   ]
  },
  {
   "cell_type": "markdown",
   "metadata": {
    "papermill": {
     "duration": 12.90885,
     "end_time": "2022-11-12T13:30:53.956631",
     "exception": false,
     "start_time": "2022-11-12T13:30:41.047781",
     "status": "completed"
    },
    "tags": []
   },
   "source": [
    "To see limited test results"
   ]
  },
  {
   "cell_type": "code",
   "execution_count": 45,
   "metadata": {
    "execution": {
     "iopub.execute_input": "2022-11-12T13:31:18.915875Z",
     "iopub.status.busy": "2022-11-12T13:31:18.915208Z",
     "iopub.status.idle": "2022-11-12T13:31:18.917659Z",
     "shell.execute_reply": "2022-11-12T13:31:18.918488Z",
     "shell.execute_reply.started": "2022-11-12T12:38:50.251537Z"
    },
    "papermill": {
     "duration": 12.665572,
     "end_time": "2022-11-12T13:31:18.918666",
     "exception": false,
     "start_time": "2022-11-12T13:31:06.253094",
     "status": "completed"
    },
    "tags": []
   },
   "outputs": [],
   "source": [
    "test_results_minimize = test_results_1[100:300]"
   ]
  },
  {
   "cell_type": "code",
   "execution_count": 46,
   "metadata": {
    "execution": {
     "iopub.execute_input": "2022-11-12T13:31:44.241154Z",
     "iopub.status.busy": "2022-11-12T13:31:44.240430Z",
     "iopub.status.idle": "2022-11-12T13:31:44.245450Z",
     "shell.execute_reply": "2022-11-12T13:31:44.246051Z",
     "shell.execute_reply.started": "2022-11-12T12:38:50.521683Z"
    },
    "papermill": {
     "duration": 12.866596,
     "end_time": "2022-11-12T13:31:44.246217",
     "exception": false,
     "start_time": "2022-11-12T13:31:31.379621",
     "status": "completed"
    },
    "tags": []
   },
   "outputs": [
    {
     "data": {
      "text/plain": [
       "(200, 2)"
      ]
     },
     "execution_count": 46,
     "metadata": {},
     "output_type": "execute_result"
    }
   ],
   "source": [
    "test_results_minimize.shape"
   ]
  },
  {
   "cell_type": "code",
   "execution_count": 47,
   "metadata": {
    "execution": {
     "iopub.execute_input": "2022-11-12T13:32:09.027715Z",
     "iopub.status.busy": "2022-11-12T13:32:09.026640Z",
     "iopub.status.idle": "2022-11-12T13:32:09.222444Z",
     "shell.execute_reply": "2022-11-12T13:32:09.223002Z",
     "shell.execute_reply.started": "2022-11-12T12:38:52.446833Z"
    },
    "papermill": {
     "duration": 12.689235,
     "end_time": "2022-11-12T13:32:09.223166",
     "exception": false,
     "start_time": "2022-11-12T13:31:56.533931",
     "status": "completed"
    },
    "tags": []
   },
   "outputs": [
    {
     "data": {
      "text/plain": [
       "<matplotlib.legend.Legend at 0x7f8fdbcb4e10>"
      ]
     },
     "execution_count": 47,
     "metadata": {},
     "output_type": "execute_result"
    },
    {
     "data": {
      "image/png": "[encoded data removed]",
      "text/plain": [
       "<Figure size 720x432 with 1 Axes>"
      ]
     },
     "metadata": {
      "needs_background": "light"
     },
     "output_type": "display_data"
    }
   ],
   "source": [
    "plt.figure(figsize = (10, 6))\n",
    "plt.plot(test_results_minimize['Test Predictions'])\n",
    "plt.plot(test_results_minimize['Actuals'])\n",
    "plt.title('Test Predictions vs Actuals for Univariate LSTM')\n",
    "plt.legend(['Test Predictions', 'Actuals'], loc='lower right')"
   ]
  },
  {
   "cell_type": "code",
   "execution_count": 48,
   "metadata": {
    "execution": {
     "iopub.execute_input": "2022-11-12T13:32:34.177333Z",
     "iopub.status.busy": "2022-11-12T13:32:34.176240Z",
     "iopub.status.idle": "2022-11-12T13:32:34.410226Z",
     "shell.execute_reply": "2022-11-12T13:32:34.410747Z",
     "shell.execute_reply.started": "2022-11-12T12:38:58.440389Z"
    },
    "papermill": {
     "duration": 12.698495,
     "end_time": "2022-11-12T13:32:34.410976",
     "exception": false,
     "start_time": "2022-11-12T13:32:21.712481",
     "status": "completed"
    },
    "tags": []
   },
   "outputs": [
    {
     "name": "stdout",
     "output_type": "stream",
     "text": [
      "Model: \"sequential_1\"\n",
      "_________________________________________________________________\n",
      "Layer (type)                 Output Shape              Param #   \n",
      "=================================================================\n",
      "gru (GRU)                    (None, 64)                12864     \n",
      "_________________________________________________________________\n",
      "dense_2 (Dense)              (None, 8)                 520       \n",
      "_________________________________________________________________\n",
      "dense_3 (Dense)              (None, 1)                 9         \n",
      "=================================================================\n",
      "Total params: 13,393\n",
      "Trainable params: 13,393\n",
      "Non-trainable params: 0\n",
      "_________________________________________________________________\n"
     ]
    }
   ],
   "source": [
    "model4 = Sequential()\n",
    "model4.add(InputLayer((3, 1)))\n",
    "model4.add(GRU(64))\n",
    "model4.add(Dense(8, 'relu'))\n",
    "model4.add(Dense(1, 'linear'))\n",
    "model4.summary()"
   ]
  },
  {
   "cell_type": "code",
   "execution_count": 49,
   "metadata": {
    "execution": {
     "iopub.execute_input": "2022-11-12T13:33:01.081852Z",
     "iopub.status.busy": "2022-11-12T13:33:01.081181Z",
     "iopub.status.idle": "2022-11-12T13:33:01.092770Z",
     "shell.execute_reply": "2022-11-12T13:33:01.093367Z",
     "shell.execute_reply.started": "2022-11-12T12:38:58.674279Z"
    },
    "papermill": {
     "duration": 13.944971,
     "end_time": "2022-11-12T13:33:01.093553",
     "exception": false,
     "start_time": "2022-11-12T13:32:47.148582",
     "status": "completed"
    },
    "tags": []
   },
   "outputs": [],
   "source": [
    "cp4 = ModelCheckpoint('model4/', save_best_only=True)\n",
    "model4.compile(loss=MeanSquaredError(), optimizer=Adam(learning_rate=0.0001), metrics=[RootMeanSquaredError()])"
   ]
  },
  {
   "cell_type": "code",
   "execution_count": 50,
   "metadata": {
    "execution": {
     "iopub.execute_input": "2022-11-12T13:33:26.091500Z",
     "iopub.status.busy": "2022-11-12T13:33:26.090721Z",
     "iopub.status.idle": "2022-11-12T14:11:22.252549Z",
     "shell.execute_reply": "2022-11-12T14:11:22.253186Z",
     "shell.execute_reply.started": "2022-11-12T12:39:02.909121Z"
    },
    "papermill": {
     "duration": 2288.796051,
     "end_time": "2022-11-12T14:11:22.253399",
     "exception": false,
     "start_time": "2022-11-12T13:33:13.457348",
     "status": "completed"
    },
    "tags": []
   },
   "outputs": [
    {
     "name": "stdout",
     "output_type": "stream",
     "text": [
      "Epoch 1/300\n",
      "2188/2188 [==============================] - 12s 6ms/step - loss: 14.4451 - root_mean_squared_error: 3.8007 - val_loss: 1.2886 - val_root_mean_squared_error: 1.1352\n",
      "Epoch 2/300\n",
      "2188/2188 [==============================] - 12s 6ms/step - loss: 1.2047 - root_mean_squared_error: 1.0976 - val_loss: 1.1718 - val_root_mean_squared_error: 1.0825\n",
      "Epoch 3/300\n",
      "2188/2188 [==============================] - 12s 5ms/step - loss: 1.1676 - root_mean_squared_error: 1.0806 - val_loss: 1.1614 - val_root_mean_squared_error: 1.0777\n",
      "Epoch 4/300\n",
      "2188/2188 [==============================] - 12s 6ms/step - loss: 1.1533 - root_mean_squared_error: 1.0739 - val_loss: 1.1461 - val_root_mean_squared_error: 1.0706\n",
      "Epoch 5/300\n",
      "2188/2188 [==============================] - 8s 3ms/step - loss: 1.1463 - root_mean_squared_error: 1.0706 - val_loss: 1.1477 - val_root_mean_squared_error: 1.0713\n",
      "Epoch 6/300\n",
      "2188/2188 [==============================] - 12s 5ms/step - loss: 1.1417 - root_mean_squared_error: 1.0685 - val_loss: 1.1344 - val_root_mean_squared_error: 1.0651\n",
      "Epoch 7/300\n",
      "2188/2188 [==============================] - 8s 3ms/step - loss: 1.1381 - root_mean_squared_error: 1.0668 - val_loss: 1.1464 - val_root_mean_squared_error: 1.0707\n",
      "Epoch 8/300\n",
      "2188/2188 [==============================] - 12s 6ms/step - loss: 1.1369 - root_mean_squared_error: 1.0663 - val_loss: 1.1315 - val_root_mean_squared_error: 1.0637\n",
      "Epoch 9/300\n",
      "2188/2188 [==============================] - 12s 5ms/step - loss: 1.1357 - root_mean_squared_error: 1.0657 - val_loss: 1.1253 - val_root_mean_squared_error: 1.0608\n",
      "Epoch 10/300\n",
      "2188/2188 [==============================] - 8s 4ms/step - loss: 1.1345 - root_mean_squared_error: 1.0651 - val_loss: 1.1770 - val_root_mean_squared_error: 1.0849\n",
      "Epoch 11/300\n",
      "2188/2188 [==============================] - 7s 3ms/step - loss: 1.1342 - root_mean_squared_error: 1.0650 - val_loss: 1.1398 - val_root_mean_squared_error: 1.0676\n",
      "Epoch 12/300\n",
      "2188/2188 [==============================] - 8s 4ms/step - loss: 1.1330 - root_mean_squared_error: 1.0644 - val_loss: 1.1294 - val_root_mean_squared_error: 1.0628\n",
      "Epoch 13/300\n",
      "2188/2188 [==============================] - 8s 4ms/step - loss: 1.1323 - root_mean_squared_error: 1.0641 - val_loss: 1.1335 - val_root_mean_squared_error: 1.0647\n",
      "Epoch 14/300\n",
      "2188/2188 [==============================] - 8s 4ms/step - loss: 1.1317 - root_mean_squared_error: 1.0638 - val_loss: 1.1294 - val_root_mean_squared_error: 1.0628\n",
      "Epoch 15/300\n",
      "2188/2188 [==============================] - 12s 6ms/step - loss: 1.1315 - root_mean_squared_error: 1.0637 - val_loss: 1.1196 - val_root_mean_squared_error: 1.0581\n",
      "Epoch 16/300\n",
      "2188/2188 [==============================] - 7s 3ms/step - loss: 1.1316 - root_mean_squared_error: 1.0638 - val_loss: 1.1283 - val_root_mean_squared_error: 1.0622\n",
      "Epoch 17/300\n",
      "2188/2188 [==============================] - 8s 3ms/step - loss: 1.1309 - root_mean_squared_error: 1.0634 - val_loss: 1.1279 - val_root_mean_squared_error: 1.0620\n",
      "Epoch 18/300\n",
      "2188/2188 [==============================] - 8s 4ms/step - loss: 1.1302 - root_mean_squared_error: 1.0631 - val_loss: 1.1310 - val_root_mean_squared_error: 1.0635\n",
      "Epoch 19/300\n",
      "2188/2188 [==============================] - 8s 3ms/step - loss: 1.1299 - root_mean_squared_error: 1.0630 - val_loss: 1.1278 - val_root_mean_squared_error: 1.0620\n",
      "Epoch 20/300\n",
      "2188/2188 [==============================] - 8s 3ms/step - loss: 1.1295 - root_mean_squared_error: 1.0628 - val_loss: 1.1371 - val_root_mean_squared_error: 1.0663\n",
      "Epoch 21/300\n",
      "2188/2188 [==============================] - 8s 4ms/step - loss: 1.1292 - root_mean_squared_error: 1.0626 - val_loss: 1.1451 - val_root_mean_squared_error: 1.0701\n",
      "Epoch 22/300\n",
      "2188/2188 [==============================] - 8s 4ms/step - loss: 1.1292 - root_mean_squared_error: 1.0627 - val_loss: 1.1262 - val_root_mean_squared_error: 1.0612\n",
      "Epoch 23/300\n",
      "2188/2188 [==============================] - 8s 4ms/step - loss: 1.1288 - root_mean_squared_error: 1.0625 - val_loss: 1.1330 - val_root_mean_squared_error: 1.0644\n",
      "Epoch 24/300\n",
      "2188/2188 [==============================] - 8s 3ms/step - loss: 1.1284 - root_mean_squared_error: 1.0623 - val_loss: 1.1228 - val_root_mean_squared_error: 1.0596\n",
      "Epoch 25/300\n",
      "2188/2188 [==============================] - 8s 4ms/step - loss: 1.1281 - root_mean_squared_error: 1.0621 - val_loss: 1.1289 - val_root_mean_squared_error: 1.0625\n",
      "Epoch 26/300\n",
      "2188/2188 [==============================] - 8s 4ms/step - loss: 1.1280 - root_mean_squared_error: 1.0621 - val_loss: 1.1495 - val_root_mean_squared_error: 1.0722\n",
      "Epoch 27/300\n",
      "2188/2188 [==============================] - 8s 3ms/step - loss: 1.1279 - root_mean_squared_error: 1.0620 - val_loss: 1.1327 - val_root_mean_squared_error: 1.0643\n",
      "Epoch 28/300\n",
      "2188/2188 [==============================] - 8s 4ms/step - loss: 1.1276 - root_mean_squared_error: 1.0619 - val_loss: 1.1340 - val_root_mean_squared_error: 1.0649\n",
      "Epoch 29/300\n",
      "2188/2188 [==============================] - 8s 4ms/step - loss: 1.1280 - root_mean_squared_error: 1.0621 - val_loss: 1.1335 - val_root_mean_squared_error: 1.0647\n",
      "Epoch 30/300\n",
      "2188/2188 [==============================] - 9s 4ms/step - loss: 1.1274 - root_mean_squared_error: 1.0618 - val_loss: 1.1338 - val_root_mean_squared_error: 1.0648\n",
      "Epoch 31/300\n",
      "2188/2188 [==============================] - 8s 4ms/step - loss: 1.1275 - root_mean_squared_error: 1.0618 - val_loss: 1.1512 - val_root_mean_squared_error: 1.0729\n",
      "Epoch 32/300\n",
      "2188/2188 [==============================] - 8s 4ms/step - loss: 1.1269 - root_mean_squared_error: 1.0616 - val_loss: 1.1332 - val_root_mean_squared_error: 1.0645\n",
      "Epoch 33/300\n",
      "2188/2188 [==============================] - 8s 4ms/step - loss: 1.1268 - root_mean_squared_error: 1.0615 - val_loss: 1.1314 - val_root_mean_squared_error: 1.0637\n",
      "Epoch 34/300\n",
      "2188/2188 [==============================] - 8s 4ms/step - loss: 1.1270 - root_mean_squared_error: 1.0616 - val_loss: 1.1280 - val_root_mean_squared_error: 1.0621\n",
      "Epoch 35/300\n",
      "2188/2188 [==============================] - 8s 4ms/step - loss: 1.1264 - root_mean_squared_error: 1.0613 - val_loss: 1.1514 - val_root_mean_squared_error: 1.0730\n",
      "Epoch 36/300\n",
      "2188/2188 [==============================] - 12s 5ms/step - loss: 1.1263 - root_mean_squared_error: 1.0613 - val_loss: 1.1153 - val_root_mean_squared_error: 1.0561\n",
      "Epoch 37/300\n",
      "2188/2188 [==============================] - 8s 4ms/step - loss: 1.1258 - root_mean_squared_error: 1.0611 - val_loss: 1.1592 - val_root_mean_squared_error: 1.0767\n",
      "Epoch 38/300\n",
      "2188/2188 [==============================] - 8s 3ms/step - loss: 1.1263 - root_mean_squared_error: 1.0613 - val_loss: 1.1318 - val_root_mean_squared_error: 1.0638\n",
      "Epoch 39/300\n",
      "2188/2188 [==============================] - 8s 4ms/step - loss: 1.1259 - root_mean_squared_error: 1.0611 - val_loss: 1.1496 - val_root_mean_squared_error: 1.0722\n",
      "Epoch 40/300\n",
      "2188/2188 [==============================] - 8s 4ms/step - loss: 1.1256 - root_mean_squared_error: 1.0610 - val_loss: 1.1340 - val_root_mean_squared_error: 1.0649\n",
      "Epoch 41/300\n",
      "2188/2188 [==============================] - 8s 4ms/step - loss: 1.1255 - root_mean_squared_error: 1.0609 - val_loss: 1.1275 - val_root_mean_squared_error: 1.0618\n",
      "Epoch 42/300\n",
      "2188/2188 [==============================] - 8s 4ms/step - loss: 1.1255 - root_mean_squared_error: 1.0609 - val_loss: 1.1364 - val_root_mean_squared_error: 1.0660\n",
      "Epoch 43/300\n",
      "2188/2188 [==============================] - 8s 4ms/step - loss: 1.1252 - root_mean_squared_error: 1.0607 - val_loss: 1.1429 - val_root_mean_squared_error: 1.0690\n",
      "Epoch 44/300\n",
      "2188/2188 [==============================] - 7s 3ms/step - loss: 1.1254 - root_mean_squared_error: 1.0609 - val_loss: 1.1274 - val_root_mean_squared_error: 1.0618\n",
      "Epoch 45/300\n",
      "2188/2188 [==============================] - 8s 4ms/step - loss: 1.1256 - root_mean_squared_error: 1.0609 - val_loss: 1.1355 - val_root_mean_squared_error: 1.0656\n",
      "Epoch 46/300\n",
      "2188/2188 [==============================] - 8s 4ms/step - loss: 1.1253 - root_mean_squared_error: 1.0608 - val_loss: 1.1198 - val_root_mean_squared_error: 1.0582\n",
      "Epoch 47/300\n",
      "2188/2188 [==============================] - 8s 4ms/step - loss: 1.1248 - root_mean_squared_error: 1.0606 - val_loss: 1.1443 - val_root_mean_squared_error: 1.0697\n",
      "Epoch 48/300\n",
      "2188/2188 [==============================] - 9s 4ms/step - loss: 1.1250 - root_mean_squared_error: 1.0607 - val_loss: 1.1255 - val_root_mean_squared_error: 1.0609\n",
      "Epoch 49/300\n",
      "2188/2188 [==============================] - 9s 4ms/step - loss: 1.1255 - root_mean_squared_error: 1.0609 - val_loss: 1.1173 - val_root_mean_squared_error: 1.0570\n",
      "Epoch 50/300\n",
      "2188/2188 [==============================] - 12s 6ms/step - loss: 1.1240 - root_mean_squared_error: 1.0602 - val_loss: 1.1074 - val_root_mean_squared_error: 1.0523\n",
      "Epoch 51/300\n",
      "2188/2188 [==============================] - 8s 3ms/step - loss: 1.1245 - root_mean_squared_error: 1.0604 - val_loss: 1.1217 - val_root_mean_squared_error: 1.0591\n",
      "Epoch 52/300\n",
      "2188/2188 [==============================] - 8s 3ms/step - loss: 1.1239 - root_mean_squared_error: 1.0601 - val_loss: 1.1551 - val_root_mean_squared_error: 1.0748\n",
      "Epoch 53/300\n",
      "2188/2188 [==============================] - 8s 4ms/step - loss: 1.1243 - root_mean_squared_error: 1.0603 - val_loss: 1.1307 - val_root_mean_squared_error: 1.0634\n",
      "Epoch 54/300\n",
      "2188/2188 [==============================] - 8s 4ms/step - loss: 1.1238 - root_mean_squared_error: 1.0601 - val_loss: 1.1185 - val_root_mean_squared_error: 1.0576\n",
      "Epoch 55/300\n",
      "2188/2188 [==============================] - 8s 4ms/step - loss: 1.1240 - root_mean_squared_error: 1.0602 - val_loss: 1.1264 - val_root_mean_squared_error: 1.0613\n",
      "Epoch 56/300\n",
      "2188/2188 [==============================] - 8s 4ms/step - loss: 1.1235 - root_mean_squared_error: 1.0600 - val_loss: 1.1173 - val_root_mean_squared_error: 1.0570\n",
      "Epoch 57/300\n",
      "2188/2188 [==============================] - 8s 4ms/step - loss: 1.1234 - root_mean_squared_error: 1.0599 - val_loss: 1.1367 - val_root_mean_squared_error: 1.0662\n",
      "Epoch 58/300\n",
      "2188/2188 [==============================] - 8s 4ms/step - loss: 1.1228 - root_mean_squared_error: 1.0596 - val_loss: 1.1197 - val_root_mean_squared_error: 1.0582\n",
      "Epoch 59/300\n",
      "2188/2188 [==============================] - 8s 4ms/step - loss: 1.1237 - root_mean_squared_error: 1.0601 - val_loss: 1.1242 - val_root_mean_squared_error: 1.0603\n",
      "Epoch 60/300\n",
      "2188/2188 [==============================] - 8s 4ms/step - loss: 1.1232 - root_mean_squared_error: 1.0598 - val_loss: 1.1229 - val_root_mean_squared_error: 1.0597\n",
      "Epoch 61/300\n",
      "2188/2188 [==============================] - 8s 4ms/step - loss: 1.1226 - root_mean_squared_error: 1.0595 - val_loss: 1.1401 - val_root_mean_squared_error: 1.0677\n",
      "Epoch 62/300\n",
      "2188/2188 [==============================] - 8s 4ms/step - loss: 1.1225 - root_mean_squared_error: 1.0595 - val_loss: 1.1395 - val_root_mean_squared_error: 1.0675\n",
      "Epoch 63/300\n",
      "2188/2188 [==============================] - 8s 4ms/step - loss: 1.1226 - root_mean_squared_error: 1.0595 - val_loss: 1.1200 - val_root_mean_squared_error: 1.0583\n",
      "Epoch 64/300\n",
      "2188/2188 [==============================] - 8s 4ms/step - loss: 1.1226 - root_mean_squared_error: 1.0595 - val_loss: 1.1420 - val_root_mean_squared_error: 1.0687\n",
      "Epoch 65/300\n",
      "2188/2188 [==============================] - 9s 4ms/step - loss: 1.1225 - root_mean_squared_error: 1.0595 - val_loss: 1.1236 - val_root_mean_squared_error: 1.0600\n",
      "Epoch 66/300\n",
      "2188/2188 [==============================] - 8s 4ms/step - loss: 1.1228 - root_mean_squared_error: 1.0596 - val_loss: 1.1245 - val_root_mean_squared_error: 1.0604\n",
      "Epoch 67/300\n",
      "2188/2188 [==============================] - 8s 4ms/step - loss: 1.1223 - root_mean_squared_error: 1.0594 - val_loss: 1.1239 - val_root_mean_squared_error: 1.0601\n",
      "Epoch 68/300\n",
      "2188/2188 [==============================] - 8s 3ms/step - loss: 1.1223 - root_mean_squared_error: 1.0594 - val_loss: 1.1261 - val_root_mean_squared_error: 1.0612\n",
      "Epoch 69/300\n",
      "2188/2188 [==============================] - 8s 3ms/step - loss: 1.1216 - root_mean_squared_error: 1.0590 - val_loss: 1.1501 - val_root_mean_squared_error: 1.0724\n",
      "Epoch 70/300\n",
      "2188/2188 [==============================] - 8s 3ms/step - loss: 1.1220 - root_mean_squared_error: 1.0593 - val_loss: 1.1156 - val_root_mean_squared_error: 1.0562\n",
      "Epoch 71/300\n",
      "2188/2188 [==============================] - 7s 3ms/step - loss: 1.1222 - root_mean_squared_error: 1.0594 - val_loss: 1.1093 - val_root_mean_squared_error: 1.0533\n",
      "Epoch 72/300\n",
      "2188/2188 [==============================] - 7s 3ms/step - loss: 1.1217 - root_mean_squared_error: 1.0591 - val_loss: 1.1223 - val_root_mean_squared_error: 1.0594\n",
      "Epoch 73/300\n",
      "2188/2188 [==============================] - 7s 3ms/step - loss: 1.1217 - root_mean_squared_error: 1.0591 - val_loss: 1.1114 - val_root_mean_squared_error: 1.0542\n",
      "Epoch 74/300\n",
      "2188/2188 [==============================] - 7s 3ms/step - loss: 1.1212 - root_mean_squared_error: 1.0589 - val_loss: 1.1373 - val_root_mean_squared_error: 1.0664\n",
      "Epoch 75/300\n",
      "2188/2188 [==============================] - 8s 3ms/step - loss: 1.1216 - root_mean_squared_error: 1.0591 - val_loss: 1.1407 - val_root_mean_squared_error: 1.0680\n",
      "Epoch 76/300\n",
      "2188/2188 [==============================] - 7s 3ms/step - loss: 1.1211 - root_mean_squared_error: 1.0588 - val_loss: 1.1311 - val_root_mean_squared_error: 1.0635\n",
      "Epoch 77/300\n",
      "2188/2188 [==============================] - 8s 3ms/step - loss: 1.1207 - root_mean_squared_error: 1.0586 - val_loss: 1.1307 - val_root_mean_squared_error: 1.0634\n",
      "Epoch 78/300\n",
      "2188/2188 [==============================] - 7s 3ms/step - loss: 1.1208 - root_mean_squared_error: 1.0587 - val_loss: 1.1158 - val_root_mean_squared_error: 1.0563\n",
      "Epoch 79/300\n",
      "2188/2188 [==============================] - 7s 3ms/step - loss: 1.1219 - root_mean_squared_error: 1.0592 - val_loss: 1.1088 - val_root_mean_squared_error: 1.0530\n",
      "Epoch 80/300\n",
      "2188/2188 [==============================] - 7s 3ms/step - loss: 1.1209 - root_mean_squared_error: 1.0587 - val_loss: 1.1173 - val_root_mean_squared_error: 1.0570\n",
      "Epoch 81/300\n",
      "2188/2188 [==============================] - 8s 3ms/step - loss: 1.1211 - root_mean_squared_error: 1.0588 - val_loss: 1.1186 - val_root_mean_squared_error: 1.0576\n",
      "Epoch 82/300\n",
      "2188/2188 [==============================] - 7s 3ms/step - loss: 1.1207 - root_mean_squared_error: 1.0586 - val_loss: 1.1326 - val_root_mean_squared_error: 1.0642\n",
      "Epoch 83/300\n",
      "2188/2188 [==============================] - 8s 3ms/step - loss: 1.1199 - root_mean_squared_error: 1.0582 - val_loss: 1.1566 - val_root_mean_squared_error: 1.0755\n",
      "Epoch 84/300\n",
      "2188/2188 [==============================] - 12s 5ms/step - loss: 1.1203 - root_mean_squared_error: 1.0585 - val_loss: 1.1071 - val_root_mean_squared_error: 1.0522\n",
      "Epoch 85/300\n",
      "2188/2188 [==============================] - 8s 4ms/step - loss: 1.1207 - root_mean_squared_error: 1.0587 - val_loss: 1.1258 - val_root_mean_squared_error: 1.0610\n",
      "Epoch 86/300\n",
      "2188/2188 [==============================] - 7s 3ms/step - loss: 1.1210 - root_mean_squared_error: 1.0588 - val_loss: 1.1146 - val_root_mean_squared_error: 1.0557\n",
      "Epoch 87/300\n",
      "2188/2188 [==============================] - 7s 3ms/step - loss: 1.1203 - root_mean_squared_error: 1.0585 - val_loss: 1.1185 - val_root_mean_squared_error: 1.0576\n",
      "Epoch 88/300\n",
      "2188/2188 [==============================] - 7s 3ms/step - loss: 1.1206 - root_mean_squared_error: 1.0586 - val_loss: 1.1307 - val_root_mean_squared_error: 1.0633\n",
      "Epoch 89/300\n",
      "2188/2188 [==============================] - 7s 3ms/step - loss: 1.1214 - root_mean_squared_error: 1.0590 - val_loss: 1.1202 - val_root_mean_squared_error: 1.0584\n",
      "Epoch 90/300\n",
      "2188/2188 [==============================] - 7s 3ms/step - loss: 1.1205 - root_mean_squared_error: 1.0585 - val_loss: 1.1230 - val_root_mean_squared_error: 1.0597\n",
      "Epoch 91/300\n",
      "2188/2188 [==============================] - 7s 3ms/step - loss: 1.1208 - root_mean_squared_error: 1.0587 - val_loss: 1.1143 - val_root_mean_squared_error: 1.0556\n",
      "Epoch 92/300\n",
      "2188/2188 [==============================] - 7s 3ms/step - loss: 1.1197 - root_mean_squared_error: 1.0581 - val_loss: 1.1090 - val_root_mean_squared_error: 1.0531\n",
      "Epoch 93/300\n",
      "2188/2188 [==============================] - 7s 3ms/step - loss: 1.1203 - root_mean_squared_error: 1.0585 - val_loss: 1.1108 - val_root_mean_squared_error: 1.0540\n",
      "Epoch 94/300\n",
      "2188/2188 [==============================] - 7s 3ms/step - loss: 1.1198 - root_mean_squared_error: 1.0582 - val_loss: 1.1095 - val_root_mean_squared_error: 1.0533\n",
      "Epoch 95/300\n",
      "2188/2188 [==============================] - 7s 3ms/step - loss: 1.1199 - root_mean_squared_error: 1.0582 - val_loss: 1.1349 - val_root_mean_squared_error: 1.0653\n",
      "Epoch 96/300\n",
      "2188/2188 [==============================] - 7s 3ms/step - loss: 1.1203 - root_mean_squared_error: 1.0584 - val_loss: 1.1162 - val_root_mean_squared_error: 1.0565\n",
      "Epoch 97/300\n",
      "2188/2188 [==============================] - 7s 3ms/step - loss: 1.1200 - root_mean_squared_error: 1.0583 - val_loss: 1.1158 - val_root_mean_squared_error: 1.0563\n",
      "Epoch 98/300\n",
      "2188/2188 [==============================] - 7s 3ms/step - loss: 1.1204 - root_mean_squared_error: 1.0585 - val_loss: 1.1221 - val_root_mean_squared_error: 1.0593\n",
      "Epoch 99/300\n",
      "2188/2188 [==============================] - 7s 3ms/step - loss: 1.1199 - root_mean_squared_error: 1.0583 - val_loss: 1.1146 - val_root_mean_squared_error: 1.0557\n",
      "Epoch 100/300\n",
      "2188/2188 [==============================] - 7s 3ms/step - loss: 1.1198 - root_mean_squared_error: 1.0582 - val_loss: 1.1151 - val_root_mean_squared_error: 1.0560\n",
      "Epoch 101/300\n",
      "2188/2188 [==============================] - 7s 3ms/step - loss: 1.1195 - root_mean_squared_error: 1.0581 - val_loss: 1.1291 - val_root_mean_squared_error: 1.0626\n",
      "Epoch 102/300\n",
      "2188/2188 [==============================] - 8s 4ms/step - loss: 1.1197 - root_mean_squared_error: 1.0582 - val_loss: 1.1274 - val_root_mean_squared_error: 1.0618\n",
      "Epoch 103/300\n",
      "2188/2188 [==============================] - 12s 5ms/step - loss: 1.1196 - root_mean_squared_error: 1.0581 - val_loss: 1.1061 - val_root_mean_squared_error: 1.0517\n",
      "Epoch 104/300\n",
      "2188/2188 [==============================] - 8s 4ms/step - loss: 1.1202 - root_mean_squared_error: 1.0584 - val_loss: 1.1197 - val_root_mean_squared_error: 1.0582\n",
      "Epoch 105/300\n",
      "2188/2188 [==============================] - 7s 3ms/step - loss: 1.1193 - root_mean_squared_error: 1.0580 - val_loss: 1.1094 - val_root_mean_squared_error: 1.0533\n",
      "Epoch 106/300\n",
      "2188/2188 [==============================] - 7s 3ms/step - loss: 1.1199 - root_mean_squared_error: 1.0583 - val_loss: 1.1164 - val_root_mean_squared_error: 1.0566\n",
      "Epoch 107/300\n",
      "2188/2188 [==============================] - 11s 5ms/step - loss: 1.1187 - root_mean_squared_error: 1.0577 - val_loss: 1.1059 - val_root_mean_squared_error: 1.0516\n",
      "Epoch 108/300\n",
      "2188/2188 [==============================] - 7s 3ms/step - loss: 1.1192 - root_mean_squared_error: 1.0579 - val_loss: 1.1123 - val_root_mean_squared_error: 1.0547\n",
      "Epoch 109/300\n",
      "2188/2188 [==============================] - 7s 3ms/step - loss: 1.1192 - root_mean_squared_error: 1.0579 - val_loss: 1.1182 - val_root_mean_squared_error: 1.0575\n",
      "Epoch 110/300\n",
      "2188/2188 [==============================] - 7s 3ms/step - loss: 1.1190 - root_mean_squared_error: 1.0579 - val_loss: 1.1183 - val_root_mean_squared_error: 1.0575\n",
      "Epoch 111/300\n",
      "2188/2188 [==============================] - 7s 3ms/step - loss: 1.1184 - root_mean_squared_error: 1.0575 - val_loss: 1.1096 - val_root_mean_squared_error: 1.0534\n",
      "Epoch 112/300\n",
      "2188/2188 [==============================] - 7s 3ms/step - loss: 1.1196 - root_mean_squared_error: 1.0581 - val_loss: 1.1156 - val_root_mean_squared_error: 1.0562\n",
      "Epoch 113/300\n",
      "2188/2188 [==============================] - 7s 3ms/step - loss: 1.1188 - root_mean_squared_error: 1.0577 - val_loss: 1.1252 - val_root_mean_squared_error: 1.0607\n",
      "Epoch 114/300\n",
      "2188/2188 [==============================] - 7s 3ms/step - loss: 1.1194 - root_mean_squared_error: 1.0580 - val_loss: 1.1148 - val_root_mean_squared_error: 1.0558\n",
      "Epoch 115/300\n",
      "2188/2188 [==============================] - 7s 3ms/step - loss: 1.1190 - root_mean_squared_error: 1.0578 - val_loss: 1.1321 - val_root_mean_squared_error: 1.0640\n",
      "Epoch 116/300\n",
      "2188/2188 [==============================] - 7s 3ms/step - loss: 1.1188 - root_mean_squared_error: 1.0578 - val_loss: 1.1090 - val_root_mean_squared_error: 1.0531\n",
      "Epoch 117/300\n",
      "2188/2188 [==============================] - 7s 3ms/step - loss: 1.1184 - root_mean_squared_error: 1.0575 - val_loss: 1.1197 - val_root_mean_squared_error: 1.0582\n",
      "Epoch 118/300\n",
      "2188/2188 [==============================] - 7s 3ms/step - loss: 1.1189 - root_mean_squared_error: 1.0578 - val_loss: 1.1581 - val_root_mean_squared_error: 1.0762\n",
      "Epoch 119/300\n",
      "2188/2188 [==============================] - 7s 3ms/step - loss: 1.1189 - root_mean_squared_error: 1.0578 - val_loss: 1.1321 - val_root_mean_squared_error: 1.0640\n",
      "Epoch 120/300\n",
      "2188/2188 [==============================] - 7s 3ms/step - loss: 1.1189 - root_mean_squared_error: 1.0578 - val_loss: 1.1156 - val_root_mean_squared_error: 1.0562\n",
      "Epoch 121/300\n",
      "2188/2188 [==============================] - 12s 6ms/step - loss: 1.1183 - root_mean_squared_error: 1.0575 - val_loss: 1.1005 - val_root_mean_squared_error: 1.0491\n",
      "Epoch 122/300\n",
      "2188/2188 [==============================] - 8s 4ms/step - loss: 1.1189 - root_mean_squared_error: 1.0578 - val_loss: 1.1242 - val_root_mean_squared_error: 1.0603\n",
      "Epoch 123/300\n",
      "2188/2188 [==============================] - 8s 4ms/step - loss: 1.1188 - root_mean_squared_error: 1.0577 - val_loss: 1.1165 - val_root_mean_squared_error: 1.0566\n",
      "Epoch 124/300\n",
      "2188/2188 [==============================] - 7s 3ms/step - loss: 1.1185 - root_mean_squared_error: 1.0576 - val_loss: 1.1177 - val_root_mean_squared_error: 1.0572\n",
      "Epoch 125/300\n",
      "2188/2188 [==============================] - 7s 3ms/step - loss: 1.1193 - root_mean_squared_error: 1.0580 - val_loss: 1.1188 - val_root_mean_squared_error: 1.0577\n",
      "Epoch 126/300\n",
      "2188/2188 [==============================] - 7s 3ms/step - loss: 1.1185 - root_mean_squared_error: 1.0576 - val_loss: 1.1098 - val_root_mean_squared_error: 1.0535\n",
      "Epoch 127/300\n",
      "2188/2188 [==============================] - 7s 3ms/step - loss: 1.1185 - root_mean_squared_error: 1.0576 - val_loss: 1.1037 - val_root_mean_squared_error: 1.0506\n",
      "Epoch 128/300\n",
      "2188/2188 [==============================] - 7s 3ms/step - loss: 1.1184 - root_mean_squared_error: 1.0575 - val_loss: 1.1190 - val_root_mean_squared_error: 1.0578\n",
      "Epoch 129/300\n",
      "2188/2188 [==============================] - 7s 3ms/step - loss: 1.1186 - root_mean_squared_error: 1.0576 - val_loss: 1.1072 - val_root_mean_squared_error: 1.0522\n",
      "Epoch 130/300\n",
      "2188/2188 [==============================] - 7s 3ms/step - loss: 1.1184 - root_mean_squared_error: 1.0576 - val_loss: 1.1159 - val_root_mean_squared_error: 1.0564\n",
      "Epoch 131/300\n",
      "2188/2188 [==============================] - 7s 3ms/step - loss: 1.1181 - root_mean_squared_error: 1.0574 - val_loss: 1.1174 - val_root_mean_squared_error: 1.0571\n",
      "Epoch 132/300\n",
      "2188/2188 [==============================] - 7s 3ms/step - loss: 1.1183 - root_mean_squared_error: 1.0575 - val_loss: 1.1191 - val_root_mean_squared_error: 1.0579\n",
      "Epoch 133/300\n",
      "2188/2188 [==============================] - 7s 3ms/step - loss: 1.1178 - root_mean_squared_error: 1.0573 - val_loss: 1.1243 - val_root_mean_squared_error: 1.0603\n",
      "Epoch 134/300\n",
      "2188/2188 [==============================] - 7s 3ms/step - loss: 1.1185 - root_mean_squared_error: 1.0576 - val_loss: 1.1147 - val_root_mean_squared_error: 1.0558\n",
      "Epoch 135/300\n",
      "2188/2188 [==============================] - 7s 3ms/step - loss: 1.1183 - root_mean_squared_error: 1.0575 - val_loss: 1.1226 - val_root_mean_squared_error: 1.0595\n",
      "Epoch 136/300\n",
      "2188/2188 [==============================] - 7s 3ms/step - loss: 1.1186 - root_mean_squared_error: 1.0576 - val_loss: 1.1280 - val_root_mean_squared_error: 1.0621\n",
      "Epoch 137/300\n",
      "2188/2188 [==============================] - 7s 3ms/step - loss: 1.1179 - root_mean_squared_error: 1.0573 - val_loss: 1.1213 - val_root_mean_squared_error: 1.0589\n",
      "Epoch 138/300\n",
      "2188/2188 [==============================] - 7s 3ms/step - loss: 1.1186 - root_mean_squared_error: 1.0576 - val_loss: 1.1170 - val_root_mean_squared_error: 1.0569\n",
      "Epoch 139/300\n",
      "2188/2188 [==============================] - 7s 3ms/step - loss: 1.1178 - root_mean_squared_error: 1.0573 - val_loss: 1.1134 - val_root_mean_squared_error: 1.0552\n",
      "Epoch 140/300\n",
      "2188/2188 [==============================] - 7s 3ms/step - loss: 1.1176 - root_mean_squared_error: 1.0572 - val_loss: 1.1128 - val_root_mean_squared_error: 1.0549\n",
      "Epoch 141/300\n",
      "2188/2188 [==============================] - 8s 3ms/step - loss: 1.1176 - root_mean_squared_error: 1.0572 - val_loss: 1.1236 - val_root_mean_squared_error: 1.0600\n",
      "Epoch 142/300\n",
      "2188/2188 [==============================] - 7s 3ms/step - loss: 1.1181 - root_mean_squared_error: 1.0574 - val_loss: 1.1131 - val_root_mean_squared_error: 1.0550\n",
      "Epoch 143/300\n",
      "2188/2188 [==============================] - 7s 3ms/step - loss: 1.1180 - root_mean_squared_error: 1.0574 - val_loss: 1.1184 - val_root_mean_squared_error: 1.0576\n",
      "Epoch 144/300\n",
      "2188/2188 [==============================] - 8s 3ms/step - loss: 1.1184 - root_mean_squared_error: 1.0576 - val_loss: 1.1196 - val_root_mean_squared_error: 1.0581\n",
      "Epoch 145/300\n",
      "2188/2188 [==============================] - 7s 3ms/step - loss: 1.1181 - root_mean_squared_error: 1.0574 - val_loss: 1.1042 - val_root_mean_squared_error: 1.0508\n",
      "Epoch 146/300\n",
      "2188/2188 [==============================] - 7s 3ms/step - loss: 1.1178 - root_mean_squared_error: 1.0573 - val_loss: 1.1250 - val_root_mean_squared_error: 1.0606\n",
      "Epoch 147/300\n",
      "2188/2188 [==============================] - 7s 3ms/step - loss: 1.1169 - root_mean_squared_error: 1.0568 - val_loss: 1.1244 - val_root_mean_squared_error: 1.0604\n",
      "Epoch 148/300\n",
      "2188/2188 [==============================] - 7s 3ms/step - loss: 1.1176 - root_mean_squared_error: 1.0572 - val_loss: 1.1186 - val_root_mean_squared_error: 1.0577\n",
      "Epoch 149/300\n",
      "2188/2188 [==============================] - 7s 3ms/step - loss: 1.1174 - root_mean_squared_error: 1.0570 - val_loss: 1.1146 - val_root_mean_squared_error: 1.0558\n",
      "Epoch 150/300\n",
      "2188/2188 [==============================] - 7s 3ms/step - loss: 1.1180 - root_mean_squared_error: 1.0574 - val_loss: 1.1060 - val_root_mean_squared_error: 1.0517\n",
      "Epoch 151/300\n",
      "2188/2188 [==============================] - 7s 3ms/step - loss: 1.1173 - root_mean_squared_error: 1.0570 - val_loss: 1.1209 - val_root_mean_squared_error: 1.0587\n",
      "Epoch 152/300\n",
      "2188/2188 [==============================] - 7s 3ms/step - loss: 1.1171 - root_mean_squared_error: 1.0569 - val_loss: 1.1046 - val_root_mean_squared_error: 1.0510\n",
      "Epoch 153/300\n",
      "2188/2188 [==============================] - 7s 3ms/step - loss: 1.1177 - root_mean_squared_error: 1.0572 - val_loss: 1.1128 - val_root_mean_squared_error: 1.0549\n",
      "Epoch 154/300\n",
      "2188/2188 [==============================] - 7s 3ms/step - loss: 1.1169 - root_mean_squared_error: 1.0568 - val_loss: 1.1249 - val_root_mean_squared_error: 1.0606\n",
      "Epoch 155/300\n",
      "2188/2188 [==============================] - 7s 3ms/step - loss: 1.1177 - root_mean_squared_error: 1.0572 - val_loss: 1.1114 - val_root_mean_squared_error: 1.0542\n",
      "Epoch 156/300\n",
      "2188/2188 [==============================] - 7s 3ms/step - loss: 1.1169 - root_mean_squared_error: 1.0569 - val_loss: 1.1116 - val_root_mean_squared_error: 1.0543\n",
      "Epoch 157/300\n",
      "2188/2188 [==============================] - 7s 3ms/step - loss: 1.1165 - root_mean_squared_error: 1.0566 - val_loss: 1.1083 - val_root_mean_squared_error: 1.0528\n",
      "Epoch 158/300\n",
      "2188/2188 [==============================] - 11s 5ms/step - loss: 1.1170 - root_mean_squared_error: 1.0569 - val_loss: 1.0985 - val_root_mean_squared_error: 1.0481\n",
      "Epoch 159/300\n",
      "2188/2188 [==============================] - 7s 3ms/step - loss: 1.1177 - root_mean_squared_error: 1.0572 - val_loss: 1.1191 - val_root_mean_squared_error: 1.0579\n",
      "Epoch 160/300\n",
      "2188/2188 [==============================] - 7s 3ms/step - loss: 1.1168 - root_mean_squared_error: 1.0568 - val_loss: 1.1090 - val_root_mean_squared_error: 1.0531\n",
      "Epoch 161/300\n",
      "2188/2188 [==============================] - 8s 4ms/step - loss: 1.1174 - root_mean_squared_error: 1.0571 - val_loss: 1.1200 - val_root_mean_squared_error: 1.0583\n",
      "Epoch 162/300\n",
      "2188/2188 [==============================] - 8s 4ms/step - loss: 1.1168 - root_mean_squared_error: 1.0568 - val_loss: 1.1143 - val_root_mean_squared_error: 1.0556\n",
      "Epoch 163/300\n",
      "2188/2188 [==============================] - 8s 4ms/step - loss: 1.1170 - root_mean_squared_error: 1.0569 - val_loss: 1.1130 - val_root_mean_squared_error: 1.0550\n",
      "Epoch 164/300\n",
      "2188/2188 [==============================] - 7s 3ms/step - loss: 1.1171 - root_mean_squared_error: 1.0569 - val_loss: 1.1105 - val_root_mean_squared_error: 1.0538\n",
      "Epoch 165/300\n",
      "2188/2188 [==============================] - 7s 3ms/step - loss: 1.1165 - root_mean_squared_error: 1.0566 - val_loss: 1.1257 - val_root_mean_squared_error: 1.0610\n",
      "Epoch 166/300\n",
      "2188/2188 [==============================] - 7s 3ms/step - loss: 1.1175 - root_mean_squared_error: 1.0571 - val_loss: 1.1128 - val_root_mean_squared_error: 1.0549\n",
      "Epoch 167/300\n",
      "2188/2188 [==============================] - 7s 3ms/step - loss: 1.1161 - root_mean_squared_error: 1.0565 - val_loss: 1.1214 - val_root_mean_squared_error: 1.0590\n",
      "Epoch 168/300\n",
      "2188/2188 [==============================] - 7s 3ms/step - loss: 1.1173 - root_mean_squared_error: 1.0570 - val_loss: 1.1111 - val_root_mean_squared_error: 1.0541\n",
      "Epoch 169/300\n",
      "2188/2188 [==============================] - 7s 3ms/step - loss: 1.1169 - root_mean_squared_error: 1.0568 - val_loss: 1.1328 - val_root_mean_squared_error: 1.0644\n",
      "Epoch 170/300\n",
      "2188/2188 [==============================] - 7s 3ms/step - loss: 1.1171 - root_mean_squared_error: 1.0569 - val_loss: 1.1181 - val_root_mean_squared_error: 1.0574\n",
      "Epoch 171/300\n",
      "2188/2188 [==============================] - 7s 3ms/step - loss: 1.1166 - root_mean_squared_error: 1.0567 - val_loss: 1.1253 - val_root_mean_squared_error: 1.0608\n",
      "Epoch 172/300\n",
      "2188/2188 [==============================] - 7s 3ms/step - loss: 1.1172 - root_mean_squared_error: 1.0570 - val_loss: 1.1132 - val_root_mean_squared_error: 1.0551\n",
      "Epoch 173/300\n",
      "2188/2188 [==============================] - 7s 3ms/step - loss: 1.1166 - root_mean_squared_error: 1.0567 - val_loss: 1.1213 - val_root_mean_squared_error: 1.0589\n",
      "Epoch 174/300\n",
      "2188/2188 [==============================] - 7s 3ms/step - loss: 1.1165 - root_mean_squared_error: 1.0567 - val_loss: 1.1244 - val_root_mean_squared_error: 1.0604\n",
      "Epoch 175/300\n",
      "2188/2188 [==============================] - 7s 3ms/step - loss: 1.1165 - root_mean_squared_error: 1.0567 - val_loss: 1.1041 - val_root_mean_squared_error: 1.0508\n",
      "Epoch 176/300\n",
      "2188/2188 [==============================] - 7s 3ms/step - loss: 1.1162 - root_mean_squared_error: 1.0565 - val_loss: 1.1017 - val_root_mean_squared_error: 1.0496\n",
      "Epoch 177/300\n",
      "2188/2188 [==============================] - 7s 3ms/step - loss: 1.1164 - root_mean_squared_error: 1.0566 - val_loss: 1.1161 - val_root_mean_squared_error: 1.0564\n",
      "Epoch 178/300\n",
      "2188/2188 [==============================] - 7s 3ms/step - loss: 1.1162 - root_mean_squared_error: 1.0565 - val_loss: 1.1163 - val_root_mean_squared_error: 1.0565\n",
      "Epoch 179/300\n",
      "2188/2188 [==============================] - 7s 3ms/step - loss: 1.1163 - root_mean_squared_error: 1.0565 - val_loss: 1.1259 - val_root_mean_squared_error: 1.0611\n",
      "Epoch 180/300\n",
      "2188/2188 [==============================] - 7s 3ms/step - loss: 1.1165 - root_mean_squared_error: 1.0566 - val_loss: 1.1269 - val_root_mean_squared_error: 1.0616\n",
      "Epoch 181/300\n",
      "2188/2188 [==============================] - 7s 3ms/step - loss: 1.1166 - root_mean_squared_error: 1.0567 - val_loss: 1.1069 - val_root_mean_squared_error: 1.0521\n",
      "Epoch 182/300\n",
      "2188/2188 [==============================] - 7s 3ms/step - loss: 1.1168 - root_mean_squared_error: 1.0568 - val_loss: 1.1316 - val_root_mean_squared_error: 1.0638\n",
      "Epoch 183/300\n",
      "2188/2188 [==============================] - 8s 4ms/step - loss: 1.1170 - root_mean_squared_error: 1.0569 - val_loss: 1.1137 - val_root_mean_squared_error: 1.0553\n",
      "Epoch 184/300\n",
      "2188/2188 [==============================] - 8s 4ms/step - loss: 1.1166 - root_mean_squared_error: 1.0567 - val_loss: 1.1199 - val_root_mean_squared_error: 1.0583\n",
      "Epoch 185/300\n",
      "2188/2188 [==============================] - 8s 3ms/step - loss: 1.1166 - root_mean_squared_error: 1.0567 - val_loss: 1.1077 - val_root_mean_squared_error: 1.0525\n",
      "Epoch 186/300\n",
      "2188/2188 [==============================] - 7s 3ms/step - loss: 1.1163 - root_mean_squared_error: 1.0566 - val_loss: 1.1108 - val_root_mean_squared_error: 1.0540\n",
      "Epoch 187/300\n",
      "2188/2188 [==============================] - 7s 3ms/step - loss: 1.1162 - root_mean_squared_error: 1.0565 - val_loss: 1.1000 - val_root_mean_squared_error: 1.0488\n",
      "Epoch 188/300\n",
      "2188/2188 [==============================] - 7s 3ms/step - loss: 1.1167 - root_mean_squared_error: 1.0567 - val_loss: 1.1148 - val_root_mean_squared_error: 1.0558\n",
      "Epoch 189/300\n",
      "2188/2188 [==============================] - 7s 3ms/step - loss: 1.1165 - root_mean_squared_error: 1.0566 - val_loss: 1.1073 - val_root_mean_squared_error: 1.0523\n",
      "Epoch 190/300\n",
      "2188/2188 [==============================] - 7s 3ms/step - loss: 1.1162 - root_mean_squared_error: 1.0565 - val_loss: 1.1019 - val_root_mean_squared_error: 1.0497\n",
      "Epoch 191/300\n",
      "2188/2188 [==============================] - 7s 3ms/step - loss: 1.1158 - root_mean_squared_error: 1.0563 - val_loss: 1.1196 - val_root_mean_squared_error: 1.0581\n",
      "Epoch 192/300\n",
      "2188/2188 [==============================] - 7s 3ms/step - loss: 1.1160 - root_mean_squared_error: 1.0564 - val_loss: 1.1276 - val_root_mean_squared_error: 1.0619\n",
      "Epoch 193/300\n",
      "2188/2188 [==============================] - 7s 3ms/step - loss: 1.1161 - root_mean_squared_error: 1.0565 - val_loss: 1.1060 - val_root_mean_squared_error: 1.0517\n",
      "Epoch 194/300\n",
      "2188/2188 [==============================] - 7s 3ms/step - loss: 1.1161 - root_mean_squared_error: 1.0565 - val_loss: 1.1092 - val_root_mean_squared_error: 1.0532\n",
      "Epoch 195/300\n",
      "2188/2188 [==============================] - 7s 3ms/step - loss: 1.1157 - root_mean_squared_error: 1.0563 - val_loss: 1.1073 - val_root_mean_squared_error: 1.0523\n",
      "Epoch 196/300\n",
      "2188/2188 [==============================] - 7s 3ms/step - loss: 1.1155 - root_mean_squared_error: 1.0562 - val_loss: 1.1150 - val_root_mean_squared_error: 1.0559\n",
      "Epoch 197/300\n",
      "2188/2188 [==============================] - 7s 3ms/step - loss: 1.1159 - root_mean_squared_error: 1.0564 - val_loss: 1.1235 - val_root_mean_squared_error: 1.0599\n",
      "Epoch 198/300\n",
      "2188/2188 [==============================] - 7s 3ms/step - loss: 1.1159 - root_mean_squared_error: 1.0564 - val_loss: 1.1149 - val_root_mean_squared_error: 1.0559\n",
      "Epoch 199/300\n",
      "2188/2188 [==============================] - 7s 3ms/step - loss: 1.1156 - root_mean_squared_error: 1.0562 - val_loss: 1.1187 - val_root_mean_squared_error: 1.0577\n",
      "Epoch 200/300\n",
      "2188/2188 [==============================] - 7s 3ms/step - loss: 1.1161 - root_mean_squared_error: 1.0564 - val_loss: 1.1253 - val_root_mean_squared_error: 1.0608\n",
      "Epoch 201/300\n",
      "2188/2188 [==============================] - 7s 3ms/step - loss: 1.1162 - root_mean_squared_error: 1.0565 - val_loss: 1.1062 - val_root_mean_squared_error: 1.0518\n",
      "Epoch 202/300\n",
      "2188/2188 [==============================] - 7s 3ms/step - loss: 1.1162 - root_mean_squared_error: 1.0565 - val_loss: 1.1159 - val_root_mean_squared_error: 1.0564\n",
      "Epoch 203/300\n",
      "2188/2188 [==============================] - 7s 3ms/step - loss: 1.1152 - root_mean_squared_error: 1.0560 - val_loss: 1.1178 - val_root_mean_squared_error: 1.0573\n",
      "Epoch 204/300\n",
      "2188/2188 [==============================] - 7s 3ms/step - loss: 1.1158 - root_mean_squared_error: 1.0563 - val_loss: 1.1043 - val_root_mean_squared_error: 1.0508\n",
      "Epoch 205/300\n",
      "2188/2188 [==============================] - 8s 3ms/step - loss: 1.1164 - root_mean_squared_error: 1.0566 - val_loss: 1.1092 - val_root_mean_squared_error: 1.0532\n",
      "Epoch 206/300\n",
      "2188/2188 [==============================] - 7s 3ms/step - loss: 1.1156 - root_mean_squared_error: 1.0562 - val_loss: 1.1041 - val_root_mean_squared_error: 1.0507\n",
      "Epoch 207/300\n",
      "2188/2188 [==============================] - 7s 3ms/step - loss: 1.1158 - root_mean_squared_error: 1.0563 - val_loss: 1.1173 - val_root_mean_squared_error: 1.0570\n",
      "Epoch 208/300\n",
      "2188/2188 [==============================] - 7s 3ms/step - loss: 1.1157 - root_mean_squared_error: 1.0563 - val_loss: 1.1187 - val_root_mean_squared_error: 1.0577\n",
      "Epoch 209/300\n",
      "2188/2188 [==============================] - 7s 3ms/step - loss: 1.1158 - root_mean_squared_error: 1.0563 - val_loss: 1.1153 - val_root_mean_squared_error: 1.0561\n",
      "Epoch 210/300\n",
      "2188/2188 [==============================] - 7s 3ms/step - loss: 1.1163 - root_mean_squared_error: 1.0566 - val_loss: 1.1034 - val_root_mean_squared_error: 1.0504\n",
      "Epoch 211/300\n",
      "2188/2188 [==============================] - 7s 3ms/step - loss: 1.1149 - root_mean_squared_error: 1.0559 - val_loss: 1.1051 - val_root_mean_squared_error: 1.0513\n",
      "Epoch 212/300\n",
      "2188/2188 [==============================] - 7s 3ms/step - loss: 1.1158 - root_mean_squared_error: 1.0563 - val_loss: 1.1074 - val_root_mean_squared_error: 1.0523\n",
      "Epoch 213/300\n",
      "2188/2188 [==============================] - 7s 3ms/step - loss: 1.1152 - root_mean_squared_error: 1.0561 - val_loss: 1.1086 - val_root_mean_squared_error: 1.0529\n",
      "Epoch 214/300\n",
      "2188/2188 [==============================] - 8s 4ms/step - loss: 1.1158 - root_mean_squared_error: 1.0563 - val_loss: 1.1143 - val_root_mean_squared_error: 1.0556\n",
      "Epoch 215/300\n",
      "2188/2188 [==============================] - 7s 3ms/step - loss: 1.1152 - root_mean_squared_error: 1.0560 - val_loss: 1.1198 - val_root_mean_squared_error: 1.0582\n",
      "Epoch 216/300\n",
      "2188/2188 [==============================] - 7s 3ms/step - loss: 1.1153 - root_mean_squared_error: 1.0561 - val_loss: 1.1018 - val_root_mean_squared_error: 1.0497\n",
      "Epoch 217/300\n",
      "2188/2188 [==============================] - 7s 3ms/step - loss: 1.1155 - root_mean_squared_error: 1.0562 - val_loss: 1.1214 - val_root_mean_squared_error: 1.0589\n",
      "Epoch 218/300\n",
      "2188/2188 [==============================] - 7s 3ms/step - loss: 1.1148 - root_mean_squared_error: 1.0558 - val_loss: 1.1091 - val_root_mean_squared_error: 1.0531\n",
      "Epoch 219/300\n",
      "2188/2188 [==============================] - 7s 3ms/step - loss: 1.1151 - root_mean_squared_error: 1.0560 - val_loss: 1.1163 - val_root_mean_squared_error: 1.0565\n",
      "Epoch 220/300\n",
      "2188/2188 [==============================] - 8s 3ms/step - loss: 1.1153 - root_mean_squared_error: 1.0561 - val_loss: 1.1152 - val_root_mean_squared_error: 1.0561\n",
      "Epoch 221/300\n",
      "2188/2188 [==============================] - 8s 3ms/step - loss: 1.1154 - root_mean_squared_error: 1.0561 - val_loss: 1.1062 - val_root_mean_squared_error: 1.0517\n",
      "Epoch 222/300\n",
      "2188/2188 [==============================] - 8s 4ms/step - loss: 1.1143 - root_mean_squared_error: 1.0556 - val_loss: 1.1195 - val_root_mean_squared_error: 1.0581\n",
      "Epoch 223/300\n",
      "2188/2188 [==============================] - 8s 4ms/step - loss: 1.1150 - root_mean_squared_error: 1.0559 - val_loss: 1.1171 - val_root_mean_squared_error: 1.0569\n",
      "Epoch 224/300\n",
      "2188/2188 [==============================] - 7s 3ms/step - loss: 1.1151 - root_mean_squared_error: 1.0560 - val_loss: 1.1274 - val_root_mean_squared_error: 1.0618\n",
      "Epoch 225/300\n",
      "2188/2188 [==============================] - 7s 3ms/step - loss: 1.1146 - root_mean_squared_error: 1.0557 - val_loss: 1.1019 - val_root_mean_squared_error: 1.0497\n",
      "Epoch 226/300\n",
      "2188/2188 [==============================] - 7s 3ms/step - loss: 1.1153 - root_mean_squared_error: 1.0561 - val_loss: 1.1251 - val_root_mean_squared_error: 1.0607\n",
      "Epoch 227/300\n",
      "2188/2188 [==============================] - 7s 3ms/step - loss: 1.1150 - root_mean_squared_error: 1.0559 - val_loss: 1.0988 - val_root_mean_squared_error: 1.0482\n",
      "Epoch 228/300\n",
      "2188/2188 [==============================] - 7s 3ms/step - loss: 1.1150 - root_mean_squared_error: 1.0559 - val_loss: 1.1031 - val_root_mean_squared_error: 1.0503\n",
      "Epoch 229/300\n",
      "2188/2188 [==============================] - 7s 3ms/step - loss: 1.1155 - root_mean_squared_error: 1.0562 - val_loss: 1.1147 - val_root_mean_squared_error: 1.0558\n",
      "Epoch 230/300\n",
      "2188/2188 [==============================] - 7s 3ms/step - loss: 1.1145 - root_mean_squared_error: 1.0557 - val_loss: 1.0991 - val_root_mean_squared_error: 1.0484\n",
      "Epoch 231/300\n",
      "2188/2188 [==============================] - 7s 3ms/step - loss: 1.1150 - root_mean_squared_error: 1.0559 - val_loss: 1.1246 - val_root_mean_squared_error: 1.0605\n",
      "Epoch 232/300\n",
      "2188/2188 [==============================] - 7s 3ms/step - loss: 1.1151 - root_mean_squared_error: 1.0560 - val_loss: 1.1142 - val_root_mean_squared_error: 1.0556\n",
      "Epoch 233/300\n",
      "2188/2188 [==============================] - 7s 3ms/step - loss: 1.1144 - root_mean_squared_error: 1.0556 - val_loss: 1.1178 - val_root_mean_squared_error: 1.0573\n",
      "Epoch 234/300\n",
      "2188/2188 [==============================] - 7s 3ms/step - loss: 1.1150 - root_mean_squared_error: 1.0559 - val_loss: 1.1102 - val_root_mean_squared_error: 1.0537\n",
      "Epoch 235/300\n",
      "2188/2188 [==============================] - 7s 3ms/step - loss: 1.1144 - root_mean_squared_error: 1.0557 - val_loss: 1.1267 - val_root_mean_squared_error: 1.0615\n",
      "Epoch 236/300\n",
      "2188/2188 [==============================] - 7s 3ms/step - loss: 1.1145 - root_mean_squared_error: 1.0557 - val_loss: 1.1145 - val_root_mean_squared_error: 1.0557\n",
      "Epoch 237/300\n",
      "2188/2188 [==============================] - 7s 3ms/step - loss: 1.1148 - root_mean_squared_error: 1.0558 - val_loss: 1.1183 - val_root_mean_squared_error: 1.0575\n",
      "Epoch 238/300\n",
      "2188/2188 [==============================] - 7s 3ms/step - loss: 1.1139 - root_mean_squared_error: 1.0554 - val_loss: 1.1619 - val_root_mean_squared_error: 1.0779\n",
      "Epoch 239/300\n",
      "2188/2188 [==============================] - 7s 3ms/step - loss: 1.1151 - root_mean_squared_error: 1.0560 - val_loss: 1.1289 - val_root_mean_squared_error: 1.0625\n",
      "Epoch 240/300\n",
      "2188/2188 [==============================] - 7s 3ms/step - loss: 1.1145 - root_mean_squared_error: 1.0557 - val_loss: 1.1251 - val_root_mean_squared_error: 1.0607\n",
      "Epoch 241/300\n",
      "2188/2188 [==============================] - 7s 3ms/step - loss: 1.1149 - root_mean_squared_error: 1.0559 - val_loss: 1.1124 - val_root_mean_squared_error: 1.0547\n",
      "Epoch 242/300\n",
      "2188/2188 [==============================] - 7s 3ms/step - loss: 1.1147 - root_mean_squared_error: 1.0558 - val_loss: 1.1113 - val_root_mean_squared_error: 1.0542\n",
      "Epoch 243/300\n",
      "2188/2188 [==============================] - 7s 3ms/step - loss: 1.1147 - root_mean_squared_error: 1.0558 - val_loss: 1.1032 - val_root_mean_squared_error: 1.0503\n",
      "Epoch 244/300\n",
      "2188/2188 [==============================] - 7s 3ms/step - loss: 1.1151 - root_mean_squared_error: 1.0560 - val_loss: 1.1074 - val_root_mean_squared_error: 1.0523\n",
      "Epoch 245/300\n",
      "2188/2188 [==============================] - 7s 3ms/step - loss: 1.1148 - root_mean_squared_error: 1.0558 - val_loss: 1.1134 - val_root_mean_squared_error: 1.0552\n",
      "Epoch 246/300\n",
      "2188/2188 [==============================] - 7s 3ms/step - loss: 1.1149 - root_mean_squared_error: 1.0559 - val_loss: 1.1146 - val_root_mean_squared_error: 1.0557\n",
      "Epoch 247/300\n",
      "2188/2188 [==============================] - 7s 3ms/step - loss: 1.1143 - root_mean_squared_error: 1.0556 - val_loss: 1.1145 - val_root_mean_squared_error: 1.0557\n",
      "Epoch 248/300\n",
      "2188/2188 [==============================] - 7s 3ms/step - loss: 1.1148 - root_mean_squared_error: 1.0559 - val_loss: 1.1201 - val_root_mean_squared_error: 1.0583\n",
      "Epoch 249/300\n",
      "2188/2188 [==============================] - 7s 3ms/step - loss: 1.1142 - root_mean_squared_error: 1.0556 - val_loss: 1.1026 - val_root_mean_squared_error: 1.0501\n",
      "Epoch 250/300\n",
      "2188/2188 [==============================] - 7s 3ms/step - loss: 1.1143 - root_mean_squared_error: 1.0556 - val_loss: 1.1287 - val_root_mean_squared_error: 1.0624\n",
      "Epoch 251/300\n",
      "2188/2188 [==============================] - 7s 3ms/step - loss: 1.1138 - root_mean_squared_error: 1.0554 - val_loss: 1.1227 - val_root_mean_squared_error: 1.0596\n",
      "Epoch 252/300\n",
      "2188/2188 [==============================] - 7s 3ms/step - loss: 1.1144 - root_mean_squared_error: 1.0557 - val_loss: 1.1097 - val_root_mean_squared_error: 1.0534\n",
      "Epoch 253/300\n",
      "2188/2188 [==============================] - 7s 3ms/step - loss: 1.1144 - root_mean_squared_error: 1.0556 - val_loss: 1.1057 - val_root_mean_squared_error: 1.0515\n",
      "Epoch 254/300\n",
      "2188/2188 [==============================] - 7s 3ms/step - loss: 1.1139 - root_mean_squared_error: 1.0554 - val_loss: 1.1198 - val_root_mean_squared_error: 1.0582\n",
      "Epoch 255/300\n",
      "2188/2188 [==============================] - 7s 3ms/step - loss: 1.1142 - root_mean_squared_error: 1.0555 - val_loss: 1.1132 - val_root_mean_squared_error: 1.0551\n",
      "Epoch 256/300\n",
      "2188/2188 [==============================] - 7s 3ms/step - loss: 1.1135 - root_mean_squared_error: 1.0552 - val_loss: 1.1203 - val_root_mean_squared_error: 1.0585\n",
      "Epoch 257/300\n",
      "2188/2188 [==============================] - 7s 3ms/step - loss: 1.1143 - root_mean_squared_error: 1.0556 - val_loss: 1.1372 - val_root_mean_squared_error: 1.0664\n",
      "Epoch 258/300\n",
      "2188/2188 [==============================] - 8s 3ms/step - loss: 1.1143 - root_mean_squared_error: 1.0556 - val_loss: 1.1261 - val_root_mean_squared_error: 1.0612\n",
      "Epoch 259/300\n",
      "2188/2188 [==============================] - 8s 3ms/step - loss: 1.1141 - root_mean_squared_error: 1.0555 - val_loss: 1.1177 - val_root_mean_squared_error: 1.0572\n",
      "Epoch 260/300\n",
      "2188/2188 [==============================] - 8s 3ms/step - loss: 1.1143 - root_mean_squared_error: 1.0556 - val_loss: 1.1120 - val_root_mean_squared_error: 1.0545\n",
      "Epoch 261/300\n",
      "2188/2188 [==============================] - 8s 4ms/step - loss: 1.1143 - root_mean_squared_error: 1.0556 - val_loss: 1.1157 - val_root_mean_squared_error: 1.0563\n",
      "Epoch 262/300\n",
      "2188/2188 [==============================] - 8s 4ms/step - loss: 1.1142 - root_mean_squared_error: 1.0555 - val_loss: 1.1062 - val_root_mean_squared_error: 1.0518\n",
      "Epoch 263/300\n",
      "2188/2188 [==============================] - 7s 3ms/step - loss: 1.1143 - root_mean_squared_error: 1.0556 - val_loss: 1.1246 - val_root_mean_squared_error: 1.0605\n",
      "Epoch 264/300\n",
      "2188/2188 [==============================] - 7s 3ms/step - loss: 1.1139 - root_mean_squared_error: 1.0554 - val_loss: 1.1145 - val_root_mean_squared_error: 1.0557\n",
      "Epoch 265/300\n",
      "2188/2188 [==============================] - 7s 3ms/step - loss: 1.1139 - root_mean_squared_error: 1.0554 - val_loss: 1.1166 - val_root_mean_squared_error: 1.0567\n",
      "Epoch 266/300\n",
      "2188/2188 [==============================] - 7s 3ms/step - loss: 1.1140 - root_mean_squared_error: 1.0555 - val_loss: 1.1170 - val_root_mean_squared_error: 1.0569\n",
      "Epoch 267/300\n",
      "2188/2188 [==============================] - 7s 3ms/step - loss: 1.1139 - root_mean_squared_error: 1.0554 - val_loss: 1.1110 - val_root_mean_squared_error: 1.0540\n",
      "Epoch 268/300\n",
      "2188/2188 [==============================] - 7s 3ms/step - loss: 1.1136 - root_mean_squared_error: 1.0553 - val_loss: 1.1093 - val_root_mean_squared_error: 1.0533\n",
      "Epoch 269/300\n",
      "2188/2188 [==============================] - 7s 3ms/step - loss: 1.1138 - root_mean_squared_error: 1.0553 - val_loss: 1.1075 - val_root_mean_squared_error: 1.0524\n",
      "Epoch 270/300\n",
      "2188/2188 [==============================] - 7s 3ms/step - loss: 1.1138 - root_mean_squared_error: 1.0554 - val_loss: 1.1224 - val_root_mean_squared_error: 1.0594\n",
      "Epoch 271/300\n",
      "2188/2188 [==============================] - 7s 3ms/step - loss: 1.1140 - root_mean_squared_error: 1.0555 - val_loss: 1.1134 - val_root_mean_squared_error: 1.0552\n",
      "Epoch 272/300\n",
      "2188/2188 [==============================] - 7s 3ms/step - loss: 1.1140 - root_mean_squared_error: 1.0555 - val_loss: 1.1061 - val_root_mean_squared_error: 1.0517\n",
      "Epoch 273/300\n",
      "2188/2188 [==============================] - 7s 3ms/step - loss: 1.1149 - root_mean_squared_error: 1.0559 - val_loss: 1.1120 - val_root_mean_squared_error: 1.0545\n",
      "Epoch 274/300\n",
      "2188/2188 [==============================] - 7s 3ms/step - loss: 1.1137 - root_mean_squared_error: 1.0553 - val_loss: 1.1160 - val_root_mean_squared_error: 1.0564\n",
      "Epoch 275/300\n",
      "2188/2188 [==============================] - 7s 3ms/step - loss: 1.1135 - root_mean_squared_error: 1.0552 - val_loss: 1.1067 - val_root_mean_squared_error: 1.0520\n",
      "Epoch 276/300\n",
      "2188/2188 [==============================] - 7s 3ms/step - loss: 1.1135 - root_mean_squared_error: 1.0552 - val_loss: 1.1135 - val_root_mean_squared_error: 1.0552\n",
      "Epoch 277/300\n",
      "2188/2188 [==============================] - 7s 3ms/step - loss: 1.1131 - root_mean_squared_error: 1.0550 - val_loss: 1.1223 - val_root_mean_squared_error: 1.0594\n",
      "Epoch 278/300\n",
      "2188/2188 [==============================] - 7s 3ms/step - loss: 1.1140 - root_mean_squared_error: 1.0555 - val_loss: 1.1258 - val_root_mean_squared_error: 1.0610\n",
      "Epoch 279/300\n",
      "2188/2188 [==============================] - 7s 3ms/step - loss: 1.1136 - root_mean_squared_error: 1.0553 - val_loss: 1.1055 - val_root_mean_squared_error: 1.0514\n",
      "Epoch 280/300\n",
      "2188/2188 [==============================] - 7s 3ms/step - loss: 1.1135 - root_mean_squared_error: 1.0552 - val_loss: 1.1052 - val_root_mean_squared_error: 1.0513\n",
      "Epoch 281/300\n",
      "2188/2188 [==============================] - 7s 3ms/step - loss: 1.1133 - root_mean_squared_error: 1.0551 - val_loss: 1.1236 - val_root_mean_squared_error: 1.0600\n",
      "Epoch 282/300\n",
      "2188/2188 [==============================] - 11s 5ms/step - loss: 1.1125 - root_mean_squared_error: 1.0548 - val_loss: 1.0979 - val_root_mean_squared_error: 1.0478\n",
      "Epoch 283/300\n",
      "2188/2188 [==============================] - 7s 3ms/step - loss: 1.1134 - root_mean_squared_error: 1.0552 - val_loss: 1.1279 - val_root_mean_squared_error: 1.0620\n",
      "Epoch 284/300\n",
      "2188/2188 [==============================] - 7s 3ms/step - loss: 1.1134 - root_mean_squared_error: 1.0552 - val_loss: 1.1382 - val_root_mean_squared_error: 1.0669\n",
      "Epoch 285/300\n",
      "2188/2188 [==============================] - 7s 3ms/step - loss: 1.1131 - root_mean_squared_error: 1.0550 - val_loss: 1.1051 - val_root_mean_squared_error: 1.0512\n",
      "Epoch 286/300\n",
      "2188/2188 [==============================] - 7s 3ms/step - loss: 1.1136 - root_mean_squared_error: 1.0553 - val_loss: 1.1255 - val_root_mean_squared_error: 1.0609\n",
      "Epoch 287/300\n",
      "2188/2188 [==============================] - 7s 3ms/step - loss: 1.1134 - root_mean_squared_error: 1.0552 - val_loss: 1.1118 - val_root_mean_squared_error: 1.0544\n",
      "Epoch 288/300\n",
      "2188/2188 [==============================] - 7s 3ms/step - loss: 1.1136 - root_mean_squared_error: 1.0553 - val_loss: 1.1197 - val_root_mean_squared_error: 1.0581\n",
      "Epoch 289/300\n",
      "2188/2188 [==============================] - 7s 3ms/step - loss: 1.1131 - root_mean_squared_error: 1.0550 - val_loss: 1.1164 - val_root_mean_squared_error: 1.0566\n",
      "Epoch 290/300\n",
      "2188/2188 [==============================] - 7s 3ms/step - loss: 1.1137 - root_mean_squared_error: 1.0553 - val_loss: 1.1240 - val_root_mean_squared_error: 1.0602\n",
      "Epoch 291/300\n",
      "2188/2188 [==============================] - 7s 3ms/step - loss: 1.1131 - root_mean_squared_error: 1.0550 - val_loss: 1.1054 - val_root_mean_squared_error: 1.0514\n",
      "Epoch 292/300\n",
      "2188/2188 [==============================] - 7s 3ms/step - loss: 1.1134 - root_mean_squared_error: 1.0552 - val_loss: 1.1229 - val_root_mean_squared_error: 1.0597\n",
      "Epoch 293/300\n",
      "2188/2188 [==============================] - 8s 3ms/step - loss: 1.1132 - root_mean_squared_error: 1.0551 - val_loss: 1.1148 - val_root_mean_squared_error: 1.0559\n",
      "Epoch 294/300\n",
      "2188/2188 [==============================] - 8s 3ms/step - loss: 1.1134 - root_mean_squared_error: 1.0552 - val_loss: 1.1365 - val_root_mean_squared_error: 1.0661\n",
      "Epoch 295/300\n",
      "2188/2188 [==============================] - 8s 3ms/step - loss: 1.1136 - root_mean_squared_error: 1.0553 - val_loss: 1.1169 - val_root_mean_squared_error: 1.0569\n",
      "Epoch 296/300\n",
      "2188/2188 [==============================] - 8s 4ms/step - loss: 1.1136 - root_mean_squared_error: 1.0553 - val_loss: 1.1238 - val_root_mean_squared_error: 1.0601\n",
      "Epoch 297/300\n",
      "2188/2188 [==============================] - 8s 4ms/step - loss: 1.1124 - root_mean_squared_error: 1.0547 - val_loss: 1.1059 - val_root_mean_squared_error: 1.0516\n",
      "Epoch 298/300\n",
      "2188/2188 [==============================] - 8s 4ms/step - loss: 1.1131 - root_mean_squared_error: 1.0550 - val_loss: 1.1105 - val_root_mean_squared_error: 1.0538\n",
      "Epoch 299/300\n",
      "2188/2188 [==============================] - 8s 4ms/step - loss: 1.1124 - root_mean_squared_error: 1.0547 - val_loss: 1.1158 - val_root_mean_squared_error: 1.0563\n",
      "Epoch 300/300\n",
      "2188/2188 [==============================] - 8s 4ms/step - loss: 1.1132 - root_mean_squared_error: 1.0551 - val_loss: 1.1208 - val_root_mean_squared_error: 1.0587\n"
     ]
    }
   ],
   "source": [
    "History_4 = model4.fit(X_train1, y_train1, validation_data=(X_val1, y_val1), epochs=300, callbacks=[cp4])"
   ]
  },
  {
   "cell_type": "code",
   "execution_count": 51,
   "metadata": {
    "execution": {
     "iopub.execute_input": "2022-11-12T14:12:11.979802Z",
     "iopub.status.busy": "2022-11-12T14:12:11.979058Z",
     "iopub.status.idle": "2022-11-12T14:12:11.983135Z",
     "shell.execute_reply": "2022-11-12T14:12:11.982502Z",
     "shell.execute_reply.started": "2022-11-12T11:35:24.674387Z"
    },
    "papermill": {
     "duration": 25.158212,
     "end_time": "2022-11-12T14:12:11.983263",
     "exception": false,
     "start_time": "2022-11-12T14:11:46.825051",
     "status": "completed"
    },
    "tags": []
   },
   "outputs": [
    {
     "data": {
      "text/plain": [
       "dict_keys(['loss', 'root_mean_squared_error', 'val_loss', 'val_root_mean_squared_error'])"
      ]
     },
     "execution_count": 51,
     "metadata": {},
     "output_type": "execute_result"
    }
   ],
   "source": [
    "History_4.history.keys()"
   ]
  },
  {
   "cell_type": "code",
   "execution_count": 52,
   "metadata": {
    "execution": {
     "iopub.execute_input": "2022-11-12T14:13:01.639034Z",
     "iopub.status.busy": "2022-11-12T14:13:01.638347Z",
     "iopub.status.idle": "2022-11-12T14:13:01.816972Z",
     "shell.execute_reply": "2022-11-12T14:13:01.816447Z",
     "shell.execute_reply.started": "2022-11-12T11:50:09.716056Z"
    },
    "papermill": {
     "duration": 25.044128,
     "end_time": "2022-11-12T14:13:01.817098",
     "exception": false,
     "start_time": "2022-11-12T14:12:36.772970",
     "status": "completed"
    },
    "tags": []
   },
   "outputs": [
    {
     "data": {
      "text/plain": [
       "<matplotlib.legend.Legend at 0x7f8fdb9c5190>"
      ]
     },
     "execution_count": 52,
     "metadata": {},
     "output_type": "execute_result"
    },
    {
     "data": {
      "image/png": "[encoded data removed]",
      "text/plain": [
       "<Figure size 720x432 with 1 Axes>"
      ]
     },
     "metadata": {
      "needs_background": "light"
     },
     "output_type": "display_data"
    }
   ],
   "source": [
    "plt.figure(figsize = (10, 6))\n",
    "plt.plot(History_4.history['loss'])\n",
    "plt.plot(History_4.history['val_loss'])\n",
    "plt.title('Train vs Validation Loss for Univariate GRU')\n",
    "plt.ylabel('Loss')\n",
    "plt.xlabel('epoch')\n",
    "plt.legend(['Train loss', 'Validation loss'], loc='upper right')"
   ]
  },
  {
   "cell_type": "code",
   "execution_count": 53,
   "metadata": {
    "execution": {
     "iopub.execute_input": "2022-11-12T14:13:51.248040Z",
     "iopub.status.busy": "2022-11-12T14:13:51.247308Z",
     "iopub.status.idle": "2022-11-12T14:13:52.992714Z",
     "shell.execute_reply": "2022-11-12T14:13:52.991299Z",
     "shell.execute_reply.started": "2022-11-12T11:50:13.809067Z"
    },
    "papermill": {
     "duration": 26.347223,
     "end_time": "2022-11-12T14:13:52.992908",
     "exception": false,
     "start_time": "2022-11-12T14:13:26.645685",
     "status": "completed"
    },
    "tags": []
   },
   "outputs": [],
   "source": [
    "from tensorflow.keras.models import load_model\n",
    "model4 = load_model('model4/')"
   ]
  },
  {
   "cell_type": "code",
   "execution_count": 54,
   "metadata": {
    "execution": {
     "iopub.execute_input": "2022-11-12T14:14:42.161238Z",
     "iopub.status.busy": "2022-11-12T14:14:42.160244Z",
     "iopub.status.idle": "2022-11-12T14:14:44.543371Z",
     "shell.execute_reply": "2022-11-12T14:14:44.542637Z",
     "shell.execute_reply.started": "2022-11-12T11:50:21.851614Z"
    },
    "papermill": {
     "duration": 27.005119,
     "end_time": "2022-11-12T14:14:44.543505",
     "exception": false,
     "start_time": "2022-11-12T14:14:17.538386",
     "status": "completed"
    },
    "tags": []
   },
   "outputs": [
    {
     "data": {
      "text/html": [
       "<div>\n",
       "<style scoped>\n",
       "    .dataframe tbody tr th:only-of-type {\n",
       "        vertical-align: middle;\n",
       "    }\n",
       "\n",
       "    .dataframe tbody tr th {\n",
       "        vertical-align: top;\n",
       "    }\n",
       "\n",
       "    .dataframe thead th {\n",
       "        text-align: right;\n",
       "    }\n",
       "</style>\n",
       "<table border=\"1\" class=\"dataframe\">\n",
       "  <thead>\n",
       "    <tr style=\"text-align: right;\">\n",
       "      <th></th>\n",
       "      <th>Train Predictions</th>\n",
       "      <th>Actuals</th>\n",
       "    </tr>\n",
       "  </thead>\n",
       "  <tbody>\n",
       "    <tr>\n",
       "      <th>0</th>\n",
       "      <td>4.800577</td>\n",
       "      <td>5.00</td>\n",
       "    </tr>\n",
       "    <tr>\n",
       "      <th>1</th>\n",
       "      <td>4.977690</td>\n",
       "      <td>5.00</td>\n",
       "    </tr>\n",
       "    <tr>\n",
       "      <th>2</th>\n",
       "      <td>4.915288</td>\n",
       "      <td>5.00</td>\n",
       "    </tr>\n",
       "    <tr>\n",
       "      <th>3</th>\n",
       "      <td>4.915288</td>\n",
       "      <td>4.00</td>\n",
       "    </tr>\n",
       "    <tr>\n",
       "      <th>4</th>\n",
       "      <td>4.012051</td>\n",
       "      <td>1.25</td>\n",
       "    </tr>\n",
       "    <tr>\n",
       "      <th>5</th>\n",
       "      <td>1.998159</td>\n",
       "      <td>2.50</td>\n",
       "    </tr>\n",
       "    <tr>\n",
       "      <th>6</th>\n",
       "      <td>3.629688</td>\n",
       "      <td>2.50</td>\n",
       "    </tr>\n",
       "    <tr>\n",
       "      <th>7</th>\n",
       "      <td>3.570085</td>\n",
       "      <td>5.00</td>\n",
       "    </tr>\n",
       "    <tr>\n",
       "      <th>8</th>\n",
       "      <td>5.651021</td>\n",
       "      <td>5.00</td>\n",
       "    </tr>\n",
       "    <tr>\n",
       "      <th>9</th>\n",
       "      <td>5.517552</td>\n",
       "      <td>7.00</td>\n",
       "    </tr>\n",
       "  </tbody>\n",
       "</table>\n",
       "</div>"
      ],
      "text/plain": [
       "   Train Predictions  Actuals\n",
       "0           4.800577     5.00\n",
       "1           4.977690     5.00\n",
       "2           4.915288     5.00\n",
       "3           4.915288     4.00\n",
       "4           4.012051     1.25\n",
       "5           1.998159     2.50\n",
       "6           3.629688     2.50\n",
       "7           3.570085     5.00\n",
       "8           5.651021     5.00\n",
       "9           5.517552     7.00"
      ]
     },
     "execution_count": 54,
     "metadata": {},
     "output_type": "execute_result"
    }
   ],
   "source": [
    "train_predictions_2 = model4.predict(X_train1).flatten()\n",
    "train_results_2 = pd.DataFrame(data={'Train Predictions':train_predictions_2, 'Actuals':y_train1})\n",
    "train_results_2.head(10)"
   ]
  },
  {
   "cell_type": "code",
   "execution_count": 55,
   "metadata": {
    "execution": {
     "iopub.execute_input": "2022-11-12T14:15:33.713482Z",
     "iopub.status.busy": "2022-11-12T14:15:33.712525Z",
     "iopub.status.idle": "2022-11-12T14:15:33.716749Z",
     "shell.execute_reply": "2022-11-12T14:15:33.716067Z",
     "shell.execute_reply.started": "2022-11-12T11:50:27.136993Z"
    },
    "papermill": {
     "duration": 24.554495,
     "end_time": "2022-11-12T14:15:33.716872",
     "exception": false,
     "start_time": "2022-11-12T14:15:09.162377",
     "status": "completed"
    },
    "tags": []
   },
   "outputs": [
    {
     "data": {
      "text/plain": [
       "(70000, 2)"
      ]
     },
     "execution_count": 55,
     "metadata": {},
     "output_type": "execute_result"
    }
   ],
   "source": [
    "train_results_2.shape"
   ]
  },
  {
   "cell_type": "code",
   "execution_count": 56,
   "metadata": {
    "execution": {
     "iopub.execute_input": "2022-11-12T14:16:23.012206Z",
     "iopub.status.busy": "2022-11-12T14:16:23.010424Z",
     "iopub.status.idle": "2022-11-12T14:16:23.357528Z",
     "shell.execute_reply": "2022-11-12T14:16:23.356763Z",
     "shell.execute_reply.started": "2022-11-12T11:50:30.174041Z"
    },
    "papermill": {
     "duration": 25.047716,
     "end_time": "2022-11-12T14:16:23.357667",
     "exception": false,
     "start_time": "2022-11-12T14:15:58.309951",
     "status": "completed"
    },
    "tags": []
   },
   "outputs": [
    {
     "data": {
      "text/plain": [
       "<matplotlib.legend.Legend at 0x7f8fd8628d90>"
      ]
     },
     "execution_count": 56,
     "metadata": {},
     "output_type": "execute_result"
    },
    {
     "data": {
      "image/png": "[encoded data removed]",
      "text/plain": [
       "<Figure size 720x432 with 1 Axes>"
      ]
     },
     "metadata": {
      "needs_background": "light"
     },
     "output_type": "display_data"
    }
   ],
   "source": [
    "plt.figure(figsize = (10, 6))\n",
    "plt.plot(train_results_2['Train Predictions'])\n",
    "plt.plot(train_results_2['Actuals'])\n",
    "plt.title('Train Predictions vs Actuals for Univariate GRU')\n",
    "plt.legend(['Train Predictions', 'Actuals'], loc='lower right')"
   ]
  },
  {
   "cell_type": "code",
   "execution_count": 57,
   "metadata": {
    "execution": {
     "iopub.execute_input": "2022-11-12T14:17:12.786223Z",
     "iopub.status.busy": "2022-11-12T14:17:12.785396Z",
     "iopub.status.idle": "2022-11-12T14:17:12.791170Z",
     "shell.execute_reply": "2022-11-12T14:17:12.790501Z",
     "shell.execute_reply.started": "2022-11-12T11:50:38.478066Z"
    },
    "papermill": {
     "duration": 24.53407,
     "end_time": "2022-11-12T14:17:12.791372",
     "exception": false,
     "start_time": "2022-11-12T14:16:48.257302",
     "status": "completed"
    },
    "tags": []
   },
   "outputs": [
    {
     "data": {
      "text/plain": [
       "1.056469180939782"
      ]
     },
     "execution_count": 57,
     "metadata": {},
     "output_type": "execute_result"
    }
   ],
   "source": [
    "rms = sqrt(mean_squared_error(y_train1, train_predictions_2))\n",
    "rms"
   ]
  },
  {
   "cell_type": "markdown",
   "metadata": {
    "papermill": {
     "duration": 24.812006,
     "end_time": "2022-11-12T14:18:02.337357",
     "exception": false,
     "start_time": "2022-11-12T14:17:37.525351",
     "status": "completed"
    },
    "tags": []
   },
   "source": [
    "To see limited train results"
   ]
  },
  {
   "cell_type": "code",
   "execution_count": 58,
   "metadata": {
    "execution": {
     "iopub.execute_input": "2022-11-12T14:18:51.629156Z",
     "iopub.status.busy": "2022-11-12T14:18:51.628398Z",
     "iopub.status.idle": "2022-11-12T14:18:51.630830Z",
     "shell.execute_reply": "2022-11-12T14:18:51.631449Z",
     "shell.execute_reply.started": "2022-11-12T11:50:44.385860Z"
    },
    "papermill": {
     "duration": 24.751013,
     "end_time": "2022-11-12T14:18:51.631609",
     "exception": false,
     "start_time": "2022-11-12T14:18:26.880596",
     "status": "completed"
    },
    "tags": []
   },
   "outputs": [],
   "source": [
    "train_results_minimize = train_results_2[100:300]"
   ]
  },
  {
   "cell_type": "code",
   "execution_count": 59,
   "metadata": {
    "execution": {
     "iopub.execute_input": "2022-11-12T14:19:41.274437Z",
     "iopub.status.busy": "2022-11-12T14:19:41.273729Z",
     "iopub.status.idle": "2022-11-12T14:19:41.454711Z",
     "shell.execute_reply": "2022-11-12T14:19:41.454155Z",
     "shell.execute_reply.started": "2022-11-12T11:50:45.823903Z"
    },
    "papermill": {
     "duration": 25.085564,
     "end_time": "2022-11-12T14:19:41.454832",
     "exception": false,
     "start_time": "2022-11-12T14:19:16.369268",
     "status": "completed"
    },
    "tags": []
   },
   "outputs": [
    {
     "data": {
      "text/plain": [
       "<matplotlib.legend.Legend at 0x7f8fd8656050>"
      ]
     },
     "execution_count": 59,
     "metadata": {},
     "output_type": "execute_result"
    },
    {
     "data": {
      "image/png": "[encoded data removed]",
      "text/plain": [
       "<Figure size 720x432 with 1 Axes>"
      ]
     },
     "metadata": {
      "needs_background": "light"
     },
     "output_type": "display_data"
    }
   ],
   "source": [
    "plt.figure(figsize = (10, 6))\n",
    "plt.plot(train_results_minimize['Train Predictions'])\n",
    "plt.plot(train_results_minimize['Actuals'])\n",
    "plt.title('Train Predictions vs Actuals for Univariate GRU')\n",
    "plt.legend(['Train Predictions', 'Actuals'], loc='lower right')"
   ]
  },
  {
   "cell_type": "code",
   "execution_count": 60,
   "metadata": {
    "execution": {
     "iopub.execute_input": "2022-11-12T14:20:31.018339Z",
     "iopub.status.busy": "2022-11-12T14:20:31.016393Z",
     "iopub.status.idle": "2022-11-12T14:20:31.563539Z",
     "shell.execute_reply": "2022-11-12T14:20:31.562469Z",
     "shell.execute_reply.started": "2022-11-12T11:50:55.404610Z"
    },
    "papermill": {
     "duration": 25.416925,
     "end_time": "2022-11-12T14:20:31.563668",
     "exception": false,
     "start_time": "2022-11-12T14:20:06.146743",
     "status": "completed"
    },
    "tags": []
   },
   "outputs": [
    {
     "data": {
      "text/html": [
       "<div>\n",
       "<style scoped>\n",
       "    .dataframe tbody tr th:only-of-type {\n",
       "        vertical-align: middle;\n",
       "    }\n",
       "\n",
       "    .dataframe tbody tr th {\n",
       "        vertical-align: top;\n",
       "    }\n",
       "\n",
       "    .dataframe thead th {\n",
       "        text-align: right;\n",
       "    }\n",
       "</style>\n",
       "<table border=\"1\" class=\"dataframe\">\n",
       "  <thead>\n",
       "    <tr style=\"text-align: right;\">\n",
       "      <th></th>\n",
       "      <th>Val Predictions</th>\n",
       "      <th>Actuals</th>\n",
       "    </tr>\n",
       "  </thead>\n",
       "  <tbody>\n",
       "    <tr>\n",
       "      <th>0</th>\n",
       "      <td>9.951824</td>\n",
       "      <td>10.0</td>\n",
       "    </tr>\n",
       "    <tr>\n",
       "      <th>1</th>\n",
       "      <td>9.951824</td>\n",
       "      <td>10.0</td>\n",
       "    </tr>\n",
       "    <tr>\n",
       "      <th>2</th>\n",
       "      <td>9.951824</td>\n",
       "      <td>10.0</td>\n",
       "    </tr>\n",
       "    <tr>\n",
       "      <th>3</th>\n",
       "      <td>9.951824</td>\n",
       "      <td>10.0</td>\n",
       "    </tr>\n",
       "    <tr>\n",
       "      <th>4</th>\n",
       "      <td>9.951824</td>\n",
       "      <td>10.0</td>\n",
       "    </tr>\n",
       "    <tr>\n",
       "      <th>5</th>\n",
       "      <td>9.951824</td>\n",
       "      <td>10.0</td>\n",
       "    </tr>\n",
       "    <tr>\n",
       "      <th>6</th>\n",
       "      <td>9.951824</td>\n",
       "      <td>10.0</td>\n",
       "    </tr>\n",
       "    <tr>\n",
       "      <th>7</th>\n",
       "      <td>9.951824</td>\n",
       "      <td>10.0</td>\n",
       "    </tr>\n",
       "    <tr>\n",
       "      <th>8</th>\n",
       "      <td>9.951824</td>\n",
       "      <td>10.0</td>\n",
       "    </tr>\n",
       "    <tr>\n",
       "      <th>9</th>\n",
       "      <td>9.951824</td>\n",
       "      <td>10.0</td>\n",
       "    </tr>\n",
       "  </tbody>\n",
       "</table>\n",
       "</div>"
      ],
      "text/plain": [
       "   Val Predictions  Actuals\n",
       "0         9.951824     10.0\n",
       "1         9.951824     10.0\n",
       "2         9.951824     10.0\n",
       "3         9.951824     10.0\n",
       "4         9.951824     10.0\n",
       "5         9.951824     10.0\n",
       "6         9.951824     10.0\n",
       "7         9.951824     10.0\n",
       "8         9.951824     10.0\n",
       "9         9.951824     10.0"
      ]
     },
     "execution_count": 60,
     "metadata": {},
     "output_type": "execute_result"
    }
   ],
   "source": [
    "val_predictions_2 = model4.predict(X_val1).flatten()\n",
    "val_results_2 = pd.DataFrame(data={'Val Predictions':val_predictions_2, 'Actuals':y_val1})\n",
    "val_results_2.head(10)"
   ]
  },
  {
   "cell_type": "code",
   "execution_count": 61,
   "metadata": {
    "execution": {
     "iopub.execute_input": "2022-11-12T14:21:21.260032Z",
     "iopub.status.busy": "2022-11-12T14:21:21.259192Z",
     "iopub.status.idle": "2022-11-12T14:21:21.454244Z",
     "shell.execute_reply": "2022-11-12T14:21:21.454771Z",
     "shell.execute_reply.started": "2022-11-12T11:50:59.333296Z"
    },
    "papermill": {
     "duration": 25.133486,
     "end_time": "2022-11-12T14:21:21.454971",
     "exception": false,
     "start_time": "2022-11-12T14:20:56.321485",
     "status": "completed"
    },
    "tags": []
   },
   "outputs": [
    {
     "data": {
      "text/plain": [
       "<matplotlib.legend.Legend at 0x7f8ffc5dda10>"
      ]
     },
     "execution_count": 61,
     "metadata": {},
     "output_type": "execute_result"
    },
    {
     "data": {
      "image/png": "[encoded data removed]",
      "text/plain": [
       "<Figure size 720x432 with 1 Axes>"
      ]
     },
     "metadata": {
      "needs_background": "light"
     },
     "output_type": "display_data"
    }
   ],
   "source": [
    "plt.figure(figsize = (10, 6))\n",
    "plt.plot(val_results_2['Val Predictions'])\n",
    "plt.plot(val_results_2['Actuals'])\n",
    "plt.title('Validation Predictions vs Actuals for Univariate GRU')\n",
    "plt.legend(['Validation Predictions', 'Actuals'], loc='lower right')"
   ]
  },
  {
   "cell_type": "code",
   "execution_count": 62,
   "metadata": {
    "execution": {
     "iopub.execute_input": "2022-11-12T14:22:11.231188Z",
     "iopub.status.busy": "2022-11-12T14:22:11.230437Z",
     "iopub.status.idle": "2022-11-12T14:22:11.233265Z",
     "shell.execute_reply": "2022-11-12T14:22:11.233835Z",
     "shell.execute_reply.started": "2022-11-12T11:51:05.728282Z"
    },
    "papermill": {
     "duration": 24.945479,
     "end_time": "2022-11-12T14:22:11.234005",
     "exception": false,
     "start_time": "2022-11-12T14:21:46.288526",
     "status": "completed"
    },
    "tags": []
   },
   "outputs": [
    {
     "data": {
      "text/plain": [
       "1.047811279992447"
      ]
     },
     "execution_count": 62,
     "metadata": {},
     "output_type": "execute_result"
    }
   ],
   "source": [
    "rms = sqrt(mean_squared_error(y_val1, val_predictions_2))\n",
    "rms"
   ]
  },
  {
   "cell_type": "markdown",
   "metadata": {
    "papermill": {
     "duration": 24.942737,
     "end_time": "2022-11-12T14:23:00.642334",
     "exception": false,
     "start_time": "2022-11-12T14:22:35.699597",
     "status": "completed"
    },
    "tags": []
   },
   "source": [
    "To see limited validation result"
   ]
  },
  {
   "cell_type": "code",
   "execution_count": 63,
   "metadata": {
    "execution": {
     "iopub.execute_input": "2022-11-12T14:23:50.029667Z",
     "iopub.status.busy": "2022-11-12T14:23:50.029033Z",
     "iopub.status.idle": "2022-11-12T14:23:50.030736Z",
     "shell.execute_reply": "2022-11-12T14:23:50.031363Z",
     "shell.execute_reply.started": "2022-11-12T11:51:11.209225Z"
    },
    "papermill": {
     "duration": 24.804042,
     "end_time": "2022-11-12T14:23:50.031511",
     "exception": false,
     "start_time": "2022-11-12T14:23:25.227469",
     "status": "completed"
    },
    "tags": []
   },
   "outputs": [],
   "source": [
    "val_results_minimize = val_results_2[100:300]"
   ]
  },
  {
   "cell_type": "code",
   "execution_count": 64,
   "metadata": {
    "execution": {
     "iopub.execute_input": "2022-11-12T14:24:39.423414Z",
     "iopub.status.busy": "2022-11-12T14:24:39.422303Z",
     "iopub.status.idle": "2022-11-12T14:24:39.605679Z",
     "shell.execute_reply": "2022-11-12T14:24:39.606264Z",
     "shell.execute_reply.started": "2022-11-12T11:51:13.408223Z"
    },
    "papermill": {
     "duration": 24.795244,
     "end_time": "2022-11-12T14:24:39.606416",
     "exception": false,
     "start_time": "2022-11-12T14:24:14.811172",
     "status": "completed"
    },
    "tags": []
   },
   "outputs": [
    {
     "data": {
      "text/plain": [
       "<matplotlib.legend.Legend at 0x7f8ffc30fed0>"
      ]
     },
     "execution_count": 64,
     "metadata": {},
     "output_type": "execute_result"
    },
    {
     "data": {
      "image/png": "[encoded data removed]",
      "text/plain": [
       "<Figure size 720x432 with 1 Axes>"
      ]
     },
     "metadata": {
      "needs_background": "light"
     },
     "output_type": "display_data"
    }
   ],
   "source": [
    "plt.figure(figsize = (10, 6))\n",
    "plt.plot(val_results_minimize['Val Predictions'])\n",
    "plt.plot(val_results_minimize['Actuals'])\n",
    "plt.title('Validation Predictions vs Actuals for Univariate GRU')\n",
    "plt.legend(['Validation Predictions', 'Actuals'], loc='lower right')"
   ]
  },
  {
   "cell_type": "code",
   "execution_count": 65,
   "metadata": {
    "execution": {
     "iopub.execute_input": "2022-11-12T14:25:28.906425Z",
     "iopub.status.busy": "2022-11-12T14:25:28.905676Z",
     "iopub.status.idle": "2022-11-12T14:25:29.023163Z",
     "shell.execute_reply": "2022-11-12T14:25:29.022616Z",
     "shell.execute_reply.started": "2022-11-12T11:51:19.254396Z"
    },
    "papermill": {
     "duration": 24.742631,
     "end_time": "2022-11-12T14:25:29.023292",
     "exception": false,
     "start_time": "2022-11-12T14:25:04.280661",
     "status": "completed"
    },
    "tags": []
   },
   "outputs": [
    {
     "data": {
      "text/html": [
       "<div>\n",
       "<style scoped>\n",
       "    .dataframe tbody tr th:only-of-type {\n",
       "        vertical-align: middle;\n",
       "    }\n",
       "\n",
       "    .dataframe tbody tr th {\n",
       "        vertical-align: top;\n",
       "    }\n",
       "\n",
       "    .dataframe thead th {\n",
       "        text-align: right;\n",
       "    }\n",
       "</style>\n",
       "<table border=\"1\" class=\"dataframe\">\n",
       "  <thead>\n",
       "    <tr style=\"text-align: right;\">\n",
       "      <th></th>\n",
       "      <th>Test Predictions</th>\n",
       "      <th>Actuals</th>\n",
       "    </tr>\n",
       "  </thead>\n",
       "  <tbody>\n",
       "    <tr>\n",
       "      <th>0</th>\n",
       "      <td>9.951824</td>\n",
       "      <td>10.0</td>\n",
       "    </tr>\n",
       "    <tr>\n",
       "      <th>1</th>\n",
       "      <td>9.951824</td>\n",
       "      <td>10.0</td>\n",
       "    </tr>\n",
       "    <tr>\n",
       "      <th>2</th>\n",
       "      <td>9.951824</td>\n",
       "      <td>10.0</td>\n",
       "    </tr>\n",
       "    <tr>\n",
       "      <th>3</th>\n",
       "      <td>9.951824</td>\n",
       "      <td>10.0</td>\n",
       "    </tr>\n",
       "    <tr>\n",
       "      <th>4</th>\n",
       "      <td>9.951824</td>\n",
       "      <td>10.0</td>\n",
       "    </tr>\n",
       "    <tr>\n",
       "      <th>5</th>\n",
       "      <td>9.951824</td>\n",
       "      <td>10.0</td>\n",
       "    </tr>\n",
       "    <tr>\n",
       "      <th>6</th>\n",
       "      <td>9.951824</td>\n",
       "      <td>10.0</td>\n",
       "    </tr>\n",
       "    <tr>\n",
       "      <th>7</th>\n",
       "      <td>9.951824</td>\n",
       "      <td>10.0</td>\n",
       "    </tr>\n",
       "    <tr>\n",
       "      <th>8</th>\n",
       "      <td>9.951824</td>\n",
       "      <td>10.0</td>\n",
       "    </tr>\n",
       "    <tr>\n",
       "      <th>9</th>\n",
       "      <td>9.951824</td>\n",
       "      <td>10.0</td>\n",
       "    </tr>\n",
       "  </tbody>\n",
       "</table>\n",
       "</div>"
      ],
      "text/plain": [
       "   Test Predictions  Actuals\n",
       "0          9.951824     10.0\n",
       "1          9.951824     10.0\n",
       "2          9.951824     10.0\n",
       "3          9.951824     10.0\n",
       "4          9.951824     10.0\n",
       "5          9.951824     10.0\n",
       "6          9.951824     10.0\n",
       "7          9.951824     10.0\n",
       "8          9.951824     10.0\n",
       "9          9.951824     10.0"
      ]
     },
     "execution_count": 65,
     "metadata": {},
     "output_type": "execute_result"
    }
   ],
   "source": [
    "test_predictions_2 = model4.predict(X_test1).flatten()\n",
    "test_results_2 = pd.DataFrame(data={'Test Predictions':test_predictions_2, 'Actuals':y_test1})\n",
    "test_results_2.head(10)"
   ]
  },
  {
   "cell_type": "code",
   "execution_count": 66,
   "metadata": {
    "execution": {
     "iopub.execute_input": "2022-11-12T14:26:18.230282Z",
     "iopub.status.busy": "2022-11-12T14:26:18.229517Z",
     "iopub.status.idle": "2022-11-12T14:26:18.425471Z",
     "shell.execute_reply": "2022-11-12T14:26:18.424834Z",
     "shell.execute_reply.started": "2022-11-12T11:51:21.743429Z"
    },
    "papermill": {
     "duration": 24.846672,
     "end_time": "2022-11-12T14:26:18.425599",
     "exception": false,
     "start_time": "2022-11-12T14:25:53.578927",
     "status": "completed"
    },
    "tags": []
   },
   "outputs": [
    {
     "data": {
      "text/plain": [
       "<matplotlib.legend.Legend at 0x7f90202b6b90>"
      ]
     },
     "execution_count": 66,
     "metadata": {},
     "output_type": "execute_result"
    },
    {
     "data": {
      "image/png": "[encoded data removed]",
      "text/plain": [
       "<Figure size 720x432 with 1 Axes>"
      ]
     },
     "metadata": {
      "needs_background": "light"
     },
     "output_type": "display_data"
    }
   ],
   "source": [
    "plt.figure(figsize = (10, 6))\n",
    "plt.plot(test_results_2['Test Predictions'])\n",
    "plt.plot(test_results_2['Actuals'])\n",
    "plt.title('Test Predictions vs Actuals for Univariate GRU')\n",
    "plt.legend(['Test Predictions', 'Actuals'], loc='lower right')"
   ]
  },
  {
   "cell_type": "code",
   "execution_count": 67,
   "metadata": {
    "execution": {
     "iopub.execute_input": "2022-11-12T14:27:07.856879Z",
     "iopub.status.busy": "2022-11-12T14:27:07.856203Z",
     "iopub.status.idle": "2022-11-12T14:27:07.860228Z",
     "shell.execute_reply": "2022-11-12T14:27:07.859590Z",
     "shell.execute_reply.started": "2022-11-12T11:51:25.823120Z"
    },
    "papermill": {
     "duration": 24.739658,
     "end_time": "2022-11-12T14:27:07.860348",
     "exception": false,
     "start_time": "2022-11-12T14:26:43.120690",
     "status": "completed"
    },
    "tags": []
   },
   "outputs": [
    {
     "data": {
      "text/plain": [
       "1.1679913597483453"
      ]
     },
     "execution_count": 67,
     "metadata": {},
     "output_type": "execute_result"
    }
   ],
   "source": [
    "rms = sqrt(mean_squared_error(y_test1, test_predictions_2))\n",
    "rms"
   ]
  },
  {
   "cell_type": "markdown",
   "metadata": {
    "papermill": {
     "duration": 25.191668,
     "end_time": "2022-11-12T14:27:57.571782",
     "exception": false,
     "start_time": "2022-11-12T14:27:32.380114",
     "status": "completed"
    },
    "tags": []
   },
   "source": [
    "To see limited test results"
   ]
  },
  {
   "cell_type": "code",
   "execution_count": 68,
   "metadata": {
    "execution": {
     "iopub.execute_input": "2022-11-12T14:28:46.824164Z",
     "iopub.status.busy": "2022-11-12T14:28:46.823454Z",
     "iopub.status.idle": "2022-11-12T14:28:46.825580Z",
     "shell.execute_reply": "2022-11-12T14:28:46.826131Z",
     "shell.execute_reply.started": "2022-11-12T11:51:29.001729Z"
    },
    "papermill": {
     "duration": 24.479822,
     "end_time": "2022-11-12T14:28:46.826292",
     "exception": false,
     "start_time": "2022-11-12T14:28:22.346470",
     "status": "completed"
    },
    "tags": []
   },
   "outputs": [],
   "source": [
    "test_results_minimize = test_results_2[100:300]"
   ]
  },
  {
   "cell_type": "code",
   "execution_count": 69,
   "metadata": {
    "execution": {
     "iopub.execute_input": "2022-11-12T14:29:36.501194Z",
     "iopub.status.busy": "2022-11-12T14:29:36.500487Z",
     "iopub.status.idle": "2022-11-12T14:29:36.678962Z",
     "shell.execute_reply": "2022-11-12T14:29:36.678302Z",
     "shell.execute_reply.started": "2022-11-12T11:51:31.009414Z"
    },
    "papermill": {
     "duration": 24.952013,
     "end_time": "2022-11-12T14:29:36.679082",
     "exception": false,
     "start_time": "2022-11-12T14:29:11.727069",
     "status": "completed"
    },
    "tags": []
   },
   "outputs": [
    {
     "data": {
      "text/plain": [
       "<matplotlib.legend.Legend at 0x7f8fdbad12d0>"
      ]
     },
     "execution_count": 69,
     "metadata": {},
     "output_type": "execute_result"
    },
    {
     "data": {
      "image/png": "[encoded data removed]",
      "text/plain": [
       "<Figure size 720x432 with 1 Axes>"
      ]
     },
     "metadata": {
      "needs_background": "light"
     },
     "output_type": "display_data"
    }
   ],
   "source": [
    "plt.figure(figsize = (10, 6))\n",
    "plt.plot(test_results_minimize['Test Predictions'])\n",
    "plt.plot(test_results_minimize['Actuals'])\n",
    "plt.title('Test Predictions vs Actuals for Univariate GRU')\n",
    "plt.legend(['Test Predictions', 'Actuals'], loc='lower right')"
   ]
  }
 ],
 "metadata": {
  "kernelspec": {
   "display_name": "Python 3",
   "language": "python",
   "name": "python3"
  },
  "language_info": {
   "codemirror_mode": {
    "name": "ipython",
    "version": 3
   },
   "file_extension": ".py",
   "mimetype": "text/x-python",
   "name": "python",
   "nbconvert_exporter": "python",
   "pygments_lexer": "ipython3",
   "version": "3.7.6"
  },
  "papermill": {
   "duration": 6352.385928,
   "end_time": "2022-11-12T14:30:01.587276",
   "environment_variables": {},
   "exception": null,
   "input_path": "__notebook__.ipynb",
   "output_path": "__notebook__.ipynb",
   "parameters": {},
   "start_time": "2022-11-12T12:44:09.201348",
   "version": "2.1.0"
  }
 },
 "nbformat": 4,
 "nbformat_minor": 4
}
